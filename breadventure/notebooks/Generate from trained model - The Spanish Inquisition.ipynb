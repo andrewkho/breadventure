{
 "cells": [
  {
   "cell_type": "code",
   "execution_count": 1,
   "id": "b666437e",
   "metadata": {},
   "outputs": [
    {
     "name": "stdout",
     "output_type": "stream",
     "text": [
      "4.11.3\n"
     ]
    }
   ],
   "source": [
    "import transformers\n",
    "print(transformers.__version__)"
   ]
  },
  {
   "cell_type": "code",
   "execution_count": 2,
   "id": "35868da7",
   "metadata": {},
   "outputs": [],
   "source": [
    "from transformers import AutoTokenizer"
   ]
  },
  {
   "cell_type": "code",
   "execution_count": 8,
   "id": "96f7a44f",
   "metadata": {},
   "outputs": [],
   "source": [
    "from transformers import AutoModelForCausalLM\n"
   ]
  },
  {
   "cell_type": "code",
   "execution_count": 5,
   "id": "2fee47d9",
   "metadata": {},
   "outputs": [],
   "source": [
    "model_checkpoint = \"distilgpt2\""
   ]
  },
  {
   "cell_type": "code",
   "execution_count": 6,
   "id": "1079a9bd",
   "metadata": {},
   "outputs": [],
   "source": [
    "trained_model_checkpoint = 'recipes_model'"
   ]
  },
  {
   "cell_type": "code",
   "execution_count": 7,
   "id": "d8f58a73",
   "metadata": {},
   "outputs": [],
   "source": [
    "tokenizer = AutoTokenizer.from_pretrained(model_checkpoint, use_fast=True)"
   ]
  },
  {
   "cell_type": "code",
   "execution_count": 9,
   "id": "e537ddda",
   "metadata": {},
   "outputs": [],
   "source": [
    "model = AutoModelForCausalLM.from_pretrained(trained_model_checkpoint)"
   ]
  },
  {
   "cell_type": "markdown",
   "id": "a3190ceb",
   "metadata": {},
   "source": [
    "# Try to generate text "
   ]
  },
  {
   "cell_type": "code",
   "execution_count": 10,
   "id": "f1e8e47b",
   "metadata": {},
   "outputs": [],
   "source": [
    "prompt = \"The Spanish Inquisition \"\n",
    "num_examples = 10"
   ]
  },
  {
   "cell_type": "code",
   "execution_count": 11,
   "id": "f39d2104",
   "metadata": {
    "scrolled": false
   },
   "outputs": [
    {
     "name": "stderr",
     "output_type": "stream",
     "text": [
      "Setting `pad_token_id` to `eos_token_id`:50256 for open-end generation.\n",
      "Setting `pad_token_id` to `eos_token_id`:50256 for open-end generation.\n"
     ]
    },
    {
     "name": "stdout",
     "output_type": "stream",
     "text": [
      "The Spanish Inquisition    \n",
      "    Baking  340g lukewarm water 361g sugar 241g granulated sugar 747g cocoa powder 113g water 43g sugar 2 teaspoons salt \n",
      "     Directions   Mix the sugar, sugar, cocoa powder, and milk together in a large bowl. Add the flour, sugar, cocoa powder, baking powder, and cocoa powder.  Add the water to the mixer and beat with a fork until well combined.  In a large bowl, beat the eggs. Cover and let stand until the batter has doubled in bulk.  Spoon into a 9\" x 12\" loaf pan, or in the center of the pan.  To finish, brush the pan with the water, and knead until smooth.  Bake the bread until the loaf has done so, about 10 minutes. Remove it from the pan.  Yield: 10 servings\n",
      "\n",
      "     \n",
      "     Tips from our bakers  No matter how hot or cold, there are a lot of ways to create your own baker's bread. This recipe is so easy to create and use. Our new recipes include the basic but optional egg filling, a starter, and all manner of toppings.\n",
      "    \n",
      "      Directions    This bread has a \"double fat\" loaf with a slightly sweet white crust.  Bake the bread for 15 to 20 minutes, until it's golden brown. If you're a gluten free baker, and are looking for a softer crust, take the bread's lid off, and set it aside for 10 minutes to finish. It'll be somewhat sticky, so let it rest in the pan for 20 minutes.     While the bread has cool golden browns, transfer the pan to the oven, and let it cool completely. Cool completely on a rack, well-wrapped, for 5 minutes, then divide it into 5 pieces.    Yield: 2 servings\n",
      "\n",
      "    \n",
      "       \n",
      "    Tips from our bakers  If you're looking for a soft crust, look for a soft and soft loaf.    The perfect soft loaf for lunch!  \n",
      "    Peas de Guerre  Bread for You\n",
      "     Our bread for you is great for your breakfast breakfast. Want to make a soft, but not-dumb ball with a moist interior?   Want\n",
      "==========\n"
     ]
    },
    {
     "name": "stderr",
     "output_type": "stream",
     "text": [
      "Setting `pad_token_id` to `eos_token_id`:50256 for open-end generation.\n"
     ]
    },
    {
     "name": "stdout",
     "output_type": "stream",
     "text": [
      "The Spanish Inquisition     \n",
      "     2 large eggs 361g King Arthur Unbleached All-Purpose Flour 142g butter, melted 43g sugar 2 1/2 teaspoons salt 1/4 teaspoon salt 1/2 teaspoon nutmeg 3 large eggs 227g milk, packed 113g unsalted butter  \n",
      "    \n",
      "     Directions   To make the dough: Shape the dough into a 9\" x 3\" rectangle. In a medium bowl, beat egg white, water, sugar, flour, salt and nutmeg.  Fold the dough over until smooth.  Add the butter, milk and eggs, stirring occasionally. Add the butter, butter and eggs. Put the dough into a lightly greased or oiled 8-inch bowl, cover, and allow the dough to rise for 1 1/2 to 2 hours, or until it's puffy.   Towards the end of the rising time, preheat the oven to 350°F.   Knead the dough for 15 to 20 minutes, or until golden brown on a lightly oiled surface.   Gently deflate it, turning it back about 2 1/2 to 3 inches down from the surface. Repeat with the flour and egg white.  In the meantime, allow the dough to rise for 1 to 2 hours.    Preheat the oven to 350°F.   Remove the bread from the oven, and let it rise for 1 minute.    In a separate bowl, whisk together all of the flour, salt and nutmeg.  Stir in the egg white, eggs and milk. Add the milk, vanilla, and nutmeg.   Stir the butter, flour, sugar, salt, and nutmeg. Add the remaining ingredients until the dough is smooth.      Bake the bread for 35 to 40 minutes, or until it's done. Remove the bread from the oven, and cool completely before slicing. Cool completely before slicing. Serve warm or wrapped, and freeze for up to 3 months. \n",
      "    \n",
      "     \n",
      "     Tips from our bakers  If you've ever tried using this bread — or if you'd like more subtle variations on basic flour flour — this bread has all the help it takes to create a beautifully rounded, rich and puffy loaf. Or simply freeze it, freeze for longer storage, or freeze if you've never baked it. \n",
      "\n",
      "==========\n"
     ]
    },
    {
     "name": "stderr",
     "output_type": "stream",
     "text": [
      "Setting `pad_token_id` to `eos_token_id`:50256 for open-end generation.\n"
     ]
    },
    {
     "name": "stdout",
     "output_type": "stream",
     "text": [
      "The Spanish Inquisition     \n",
      "        ---- The King of Spain (1926-2070) was an extremely successful country and one of its earliest settlers. He was a brilliant man, but at that time, his life was very sad.   He grew up on this island in the country where there was no church except for the mass, and even though no one wanted to go to a church for a mass, they thought it should bring together the people who loved the religion and the traditions of the day. During this time, he found it very difficult to imagine how we could take away all that he had; and instead he was looking for a place to go to celebrate the holiday. In many ways, it's the result of an effort he was hard at work at, striving to make it all the way to the conclusion he could.\n",
      "     \n",
      "        283g lukewarm milk 14g unsalted butter 2 teaspoons instant yeast 106g lukewarm milk, divided \n",
      "          Directions   In a large bowl, combine the milk, lukewarm, yeast, and milk, mixing until combined and mass.  Add the milk and the flour mixture, stirring just until combined.  Add the eggs, mixing until the consistency of the milk and the yeast mix is smooth.   The milk and the milk will combine very well, mixing until well combined.  Add the butter, milk, and the butter mixture to the unbleached butter mixture. Cover the dough, covered, and let it rest for at least 45 minutes. Towards the end of the final 10 minutes of mixing, transfer the dough to a lightly greased work surface and cover the uncovered dough, covered with a towel.    Let the dough rise, covered, for 1 hour, or until it's nearly doubled in size. Towards the end of the final 15 minutes of remaining turning, preheat the oven to 350°F.   Towards the end of the final 20 minutes of remaining turning, preheat the oven to 350°F.  Turn the dough out onto a lightly floured work surface, cover, and let it rise for 1 hour, until the dough is noticeably puffy.  Remove it from the oven, and let it rest for 2 hours before folding it out onto a rack to cool.   Transfer it to a rack to cool and deflate it a little.  \n",
      "==========\n"
     ]
    },
    {
     "name": "stderr",
     "output_type": "stream",
     "text": [
      "Setting `pad_token_id` to `eos_token_id`:50256 for open-end generation.\n"
     ]
    },
    {
     "name": "stdout",
     "output_type": "stream",
     "text": [
      "The Spanish Inquisition    \n",
      "     It has been a bit of a surprise to me as there have been several similar cases of non-white, non-Jewish Jewish or non-white persons coming from around the world. It certainly sounds like the goal in this blog is to put together a chronicle of these two \"occasionally\" Jewish people in their native and Eastern European countries, by means of their native ones, who came from all over the world in a quest to become more European-sounding. \n",
      "     \n",
      "      113.7Kg Flour 14g vegetable oil 283g sugar 1 teaspoon sugar 1 large egg 283g salt 113g sesame seeds 1/2 teaspoon ground nutmeg, melted \n",
      "    \n",
      "     Directions   Combine the vegetable oil, sugar, sugar, sugar and salt. Stir in the oil and sugar, stir in the eggs and sesame seeds.  Stir in the seeds, sugar and salt. Pour the egg into the pan. While the eggs are being heated, add the nutmeg, egg, salt and nutmeg and stir in the salt and nuts.  Turn the pan out onto a rack to cool.  Knead for about 1 minute on medium heat.  Turn the pan off or turn the pan off and turn the pan off to cool.   Place on a wire rack and store at room temperature. \n",
      "     \n",
      "      Tips from our bakers  Don't just bake bread. If your bread is a \"blend loaf\" you'll want it to be shiny and smooth, and just a bit greased; the interior is more shiny and easier to shape. Yield: 12 servings. \n",
      "    \n",
      "     Tips from our bakers  Don't just bake bread. If your bread is a \"blend loaf\" you'll want it to be shiny and smooth, and just a bit greased; the interior is more shiny and easier to shape. Yield: 12 servings. \n",
      "    \n",
      "    Honey  3 1/2 teaspoons instant yeast 170g vegetable oil or vegetable oil 361g to 361g King Arthur Unbleached Bread Flour  227g vegetable oil 1 teaspoon salt 1/4 teaspoons instant yeast 498g honey 1 teaspoon instant yeast  Topping   Dough  106g of all-purpose flour 213g King Arthur\n",
      "==========\n"
     ]
    },
    {
     "name": "stderr",
     "output_type": "stream",
     "text": [
      "Setting `pad_token_id` to `eos_token_id`:50256 for open-end generation.\n"
     ]
    },
    {
     "name": "stdout",
     "output_type": "stream",
     "text": [
      "The Spanish Inquisition \n",
      "   \n",
      "    Here is the result: in 1692, the Spanish government set to expel half the Christians (as well as their non-believers) from their community. This is not the first time a member of the Spanish Inquisition is sent to the small town of Camembert, Spain to serve as an edict.\n",
      "    \n",
      "     Spanish \"golden crowns\" \n",
      "     French \"golden crowns\"\n",
      "     113 gt (2.5kg) 954 gt, 1 1/2 teaspoons salt 283g King Arthur Unbleached Bread, United Kingdom\n",
      "    \n",
      "      Directions   Gently deflate a loaf of lukewarm water, mix together the flour, baking powder, and salt. If the mixture doesn't combine then transfer to the bowl, cover and let the water rest for 1 hour, or until the dough seems to have risen about 120°F.   Divide the dough into 12 equal parts, each in its own order. Place in a clean bowl, cover, and let the mixture rest for 5 minutes.  Lightly grease a 9\" x 4 1/2\" rectangle.   Stir together all of the eggs, milk, salt, and sugar. Transfer the dough to a lightly greased work surface, cover, and let rest for 5 minutes.   Shape the ends and tops of the dough into a ball. Roll each piece into a log, and place them on a parchment-lined baking sheet. Cover and let the dough rise for 5 minutes, or until it's about 20\" thick.   Turn it out onto a lightly greased work surface. Gently deflate the balls, and fold them lightly in half to form an impressive 10\" round.   Place the rolls in a greased 9\" x 4 1/2\" bakerboard, and serve them with melted butter; let them rise until the rolls are puffy and slightly browned, about 10 minutes. \n",
      "    \n",
      "     Tips from our bakers  Gently deflate the dough into a very stiff, but very soft dough. If you've made this for a digital bread machine or bread machine, simply add the rest to the bread machine to make a cohesive ball. If you're adding flour, stir in flour, and add the salt and sugar to make a soft ball. If\n",
      "==========\n"
     ]
    },
    {
     "name": "stderr",
     "output_type": "stream",
     "text": [
      "Setting `pad_token_id` to `eos_token_id`:50256 for open-end generation.\n"
     ]
    },
    {
     "name": "stdout",
     "output_type": "stream",
     "text": [
      "The Spanish Inquisition     \n",
      "      This bread has been made with the help of a mix and flour mixture, using just one teaspoon of the other flour.  If you're using this bread, combine all of the ingredients. The dough will become so moist that you can't see the glaze or glaze on it.  This bread should be light brown, well-rounded, and light brown. \n",
      "    \n",
      "     Dough  85g King Arthur Unbleached All-Purpose Flour 1 1/4 teaspoons sugar 1 1/2 teaspoons vanilla extract 25g to 35g sugar 227g King Arthur Unbleached All-Purpose Flour 1 1/4 teaspoons salt \n",
      "    \n",
      "      Directions   To make the dough:  Mix together all the ingredients of the dough.  If using the mixer, combine all the ingredients with the ingredients. The dough will be a soft dough, not sticky.   Place the dough in a greased bowl or food processor. Pulse until smooth and elastic, about 1 hour.  Place the dough in the pan of a food processor; set the speed with a mixer.  Turn the dough out onto a lightly greased work surface. Scrape the dough from the surface of the pan and place the bottom of the pan onto a lightly greased surface.   Place the dough onto a lightly greased work surface or bread processor. Pulse until smooth and elastic.  Place the dough on a lightly greased work surface. Repeat the process until you've made a smooth, smooth dough.  Cover the dough and allow it to rise for 1 hour at room temperature.  When it's doubled, add the flour, baking powder, salt and vanilla extract and turn the dough out onto a lightly greased work surface. Transfer the dough to a lightly greased work surface, and let it rise for 1 1/2 hours, or until it's doubled in bulk. The risen dough may be kneaded for additional time, depending on the amount of water and water that you use.  Lightly grease a 10\" x 12\" (3\" x 4\") loaf pan.   Bake the bread for 45 to 60 minutes, or until it's golden brown. Remove it from the oven, and immediately remove it from the pan. Let it cool, covered, for 1 hour.  \n",
      "    \n",
      "    Tips from our bakers\n",
      "==========\n"
     ]
    },
    {
     "name": "stderr",
     "output_type": "stream",
     "text": [
      "Setting `pad_token_id` to `eos_token_id`:50256 for open-end generation.\n"
     ]
    },
    {
     "name": "stdout",
     "output_type": "stream",
     "text": [
      "The Spanish Inquisition \n",
      "   \n",
      "     It was a tough, hot summer day in Spain during the 12th century when it was thought to be an aberration in the tradition of Italian and Italian. But during the time that the church was open to the public, it quickly become increasingly a target of the papal church, a very active and active part of the community — and an important source of support in the faith of the church and the country.\n",
      "    \n",
      "      Towards the end of the 18th century, when the church was closing at the end of the century, many people started to come together to join the church. This gathering, in honor of the great martyrs of the Church of Rome, was the first of many to give their support. Their names were painted with signs like \"Don't forget about the old days\", \"You can't live by it, you must remember our times, and we'll never forget your love to this wonderful country,\" and \"you'll never give back to that country!\" This same church is still a part of one of many of our ancient celebrations, and by this time we were a lot more active in this process than ever before, and we think this is what they're all about to happen in the world.\n",
      "    \n",
      "    Ace and Ham\n",
      "      361g water 1 cup chopped whole raisins 2 teaspoons salt 1/2 teaspoon cinnamon *1 teaspoon nutmeg *For topping: 2 large eggs or a half a teaspoon of olive oil or the 1 tablespoon of ginger 1 teaspoon cinnamon 1 teaspoon baking soda  To make the egg and ginger: Combine all of the ingredients, beat until smooth and elastic, about 20 minutes.  Add the half of the ingredients, stirring until well combined.  To make and toast: Combine the eggs, baking powder, salt, cinnamon, nutmeg, cinnamon, nutmeg, baking soda, nutmeg and cinnamon.  To make the bread: Using a lightly oiled spoon, combine the egg, ginger, cinnamon, nuts, and cinnamon. Blend the eggs, oil, salt, cinnamon, nutmeg, baking soda, nutmeg, cinnamon, nutmeg, baking soda and nutmeg with the eggs, cinnamon, nutmeg, baking soda, nutmeg and cinnamon. Pour the batter into the prepared pan, turning it onto a lightly greased cookie sheet. Place it on a lightly greased baking sheet, about 2 1\n",
      "==========\n"
     ]
    },
    {
     "name": "stderr",
     "output_type": "stream",
     "text": [
      "Setting `pad_token_id` to `eos_token_id`:50256 for open-end generation.\n"
     ]
    },
    {
     "name": "stdout",
     "output_type": "stream",
     "text": [
      "The Spanish Inquisition    \n",
      "     A variation of the ancient French \"cousins\",  they form in the shape of a crumb-looking cross. In short, a simple stone (or a lanyard or two) measures approximately 1\" long to 5\" tall (about 18\" wide), and can be a fine accompaniment.  The same process in all of the breads has the addition of eggs and water (that is, for the simple yet spectacular \"raisins\").  As the recipe says, each round of bread should have its own weight, making for an interesting (but nonetheless somewhat sticky) flavor.  The recipe also says,   When a loaf is done and baked, this must be done to make the recipe \"a little nicer.\"  This recipe includes the addition of eggs, if desired, if desired.    To make the recipe  Place all of the dough ingredients into a bowl, or in a warm or humid place. Sprinkle the egg with the following ingredients:\n",
      "    \n",
      "     Directions   Combine all the ingredients, and mix; this will do the trick. Place the dough in a large bowl; it'll be very puffy; and a long, thin strip will follow.     Beat until quite puffy, and a soft, slightly sticky dough forms.    Roll the dough into a 13\" wide rectangle.  Place the dough in a shallow, double or 3 1/2\" oval.  Cut the bread into 4 1/2\" x 2 1/2\" loaf. Roll the loaf into 12\" x 18\" square strips.    Place on a lightly greased 9\" x 10\" work-in-the-middle crock pot. Place on the top.   Let the dough rise for 30 to 45 minutes, or until it's almost doubled in size.  To make a lightly oiled bread, preheat a large oiled table or parchment-lined baking sheet with parchment. If you're using breads, set the oven on a 350°F oven, and oven on a 350°F oven for a total of 1 hour.    Remove the bread from the baking sheet. Cover the oven with foil and let it cool completely before slicing.    Store, well wrapped, at room temperature for up to 5 days.   \n",
      "    \n",
      "    \n",
      "bacon loaf\n",
      "\n",
      "==========\n"
     ]
    },
    {
     "name": "stderr",
     "output_type": "stream",
     "text": [
      "Setting `pad_token_id` to `eos_token_id`:50256 for open-end generation.\n"
     ]
    },
    {
     "name": "stdout",
     "output_type": "stream",
     "text": [
      "The Spanish Inquisition      \n",
      "     Bread  283g lukewarm water 113g unsalted butter 1 tablespoon instant yeast 35g sugar 1 1/2 teaspoons instant yeast 106g King Arthur Unbleached All-Purpose Flour  Lightly greased  1 large egg 85g coarse salt 35g King Arthur Unbleached All-Purpose Flour  Topping  28g milk or 1 tablespoon instant yeast 35g sugar 2 large eggs 28g granulated sugar 1 tablespoon instant yeast 113g King Arthur Unbleached All-Purpose Flour \n",
      "    \n",
      "     Directions   To make the dough: Add the flour, sugar, and yeast, cover the bowl, and let the dough rest for 45 minutes, until it's quite puffy and its internal temperature has reached a boiling point.  After 5 minutes of gently kneading, loosen the dough and let it rest for 3 to 4 hours.   To make the batter: Combine the flour and yeast, mixer, and kneading until smooth.  To make the batter: In a large bowl, preheat the oven to 350°F.   For the dough: Combine all of the flour, yeast and flour, cover the bowl, and let the dough rest for 45 minutes.    To make the bread: Combine all of the flour, yeast and sugar, and knead.   Spoon the batter into the flour mixture onto a lightly greased or floured work surface. Towards the end of the rising time, preheat the oven to 375°F.   Allow the bread to rise for 45 minutes.   To make the filling: The filling should be about 14\" in diameter.   To make the topping: Spread the filling with the butter, and pinch the center of the dough together.  In a large, greased 9\" x 3\" loaf pan, place the filling over the top of the pan, and lightly grease the pan. Remove the pan from the oven, and brush the rim with the melted butter if desired.   To make the batter: Combine the filling, the butter, the flour, and butter and kneading. Cover and let the dough rise for 5 to 7 minutes, until it's quite puffy. Towards the end of the rising time, preheat the oven to 350°F.  To make the topping: Preheat the oven to 375°F.   To make the filling\n",
      "==========\n",
      "The Spanish Inquisition The following morning, the King introduced a new batch of california-style california-style california california-style california california-style california-style california-style california-style california-style california-style california-style california-style california-style\n",
      "    \n",
      "     Tips from our bakers  If you're using the california-style california-style california-style california-style, you'll note that the california california california-style will be the same california-style california-style.\n",
      "    \n",
      "breads\n",
      "\n",
      "1 oz. white bread\n",
      "1 tablespoon flour\n",
      "1 tablespoon sugar\n",
      "1/2 teaspoon nutmeg\n",
      "1 tablespoon fresh pecans\n",
      "1.  mix all the ingredients together and blend\n",
      "until the mixture is cohesive.\n",
      "1/2 cup warm water\n",
      "1/4 cup milk; stir together the milk and sugar. cover and let sit\n",
      "in warm for 5 hours. turn out onto lightly floured board and\n",
      "sprinkle the milk over the bread. mix\n",
      "the sugar in the milk. stir in the pecans. stir in the pecans. add\n",
      "the milk to the warm water. stir in the pecans. pour into\n",
      "the bowl. pour into an oiled bowl and beat until smooth and supple. put in\n",
      "the filling. divide the dough in half; divide in half; cover and let rest for\n",
      "1 hour. knead for 60 minutes. place each half into a greased bowl and stir in\n",
      "the remaining remaining flour mixture.\n",
      "\n",
      "stir in the butter. gradually knead until the dough has come together and is smooth. place each half into a lightly greased\n",
      "bowl and beat\n",
      "the remainder into the filling again until the dough is smooth and supple. allow\n",
      "you to knead for longer and knead for longer. allow\n",
      "you to shape the dough into a very smooth\n",
      "circle. shape it into a rectangle. shape the center of each half into a circle. shape it into a circle. let the dough rise\n",
      "at room temperature for 12 to 14 hours. cool completely. add more sugar to the\n",
      "chocolates. bake the california california california-style for\n",
      "2-3 days. give\n",
      "==========\n"
     ]
    }
   ],
   "source": [
    "for i in range(num_examples):\n",
    "    inputs = tokenizer(prompt, add_special_tokens=True, return_tensors=\"pt\")[\"input_ids\"]\n",
    "\n",
    "    prompt_length = len(tokenizer.decode(inputs[0]))\n",
    "    outputs = model.generate(inputs, max_length=512, do_sample=True, top_p=0.95, top_k=60, temperature=1.)\n",
    "    generated = prompt + tokenizer.decode(outputs[0])[prompt_length+1:]\n",
    "\n",
    "    print(generated)\n",
    "    print('='*10)"
   ]
  },
  {
   "cell_type": "code",
   "execution_count": null,
   "id": "33c456c2",
   "metadata": {},
   "outputs": [],
   "source": []
  },
  {
   "cell_type": "code",
   "execution_count": null,
   "id": "3f51f7dc",
   "metadata": {},
   "outputs": [],
   "source": []
  }
 ],
 "metadata": {
  "kernelspec": {
   "display_name": "Python 3 (ipykernel)",
   "language": "python",
   "name": "python3"
  },
  "language_info": {
   "codemirror_mode": {
    "name": "ipython",
    "version": 3
   },
   "file_extension": ".py",
   "mimetype": "text/x-python",
   "name": "python",
   "nbconvert_exporter": "python",
   "pygments_lexer": "ipython3",
   "version": "3.8.10"
  }
 },
 "nbformat": 4,
 "nbformat_minor": 5
}
