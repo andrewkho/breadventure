{
 "cells": [
  {
   "cell_type": "code",
   "execution_count": 1,
   "id": "b666437e",
   "metadata": {},
   "outputs": [
    {
     "name": "stdout",
     "output_type": "stream",
     "text": [
      "4.11.3\n"
     ]
    }
   ],
   "source": [
    "import transformers\n",
    "print(transformers.__version__)"
   ]
  },
  {
   "cell_type": "code",
   "execution_count": 2,
   "id": "35868da7",
   "metadata": {},
   "outputs": [],
   "source": [
    "from transformers import AutoTokenizer"
   ]
  },
  {
   "cell_type": "code",
   "execution_count": 3,
   "id": "43908db5",
   "metadata": {},
   "outputs": [],
   "source": [
    "from transformers import AutoModelForCausalLM\n"
   ]
  },
  {
   "cell_type": "code",
   "execution_count": 4,
   "id": "2fee47d9",
   "metadata": {},
   "outputs": [],
   "source": [
    "model_checkpoint = \"distilgpt2\""
   ]
  },
  {
   "cell_type": "code",
   "execution_count": 5,
   "id": "1d2c8bf7",
   "metadata": {},
   "outputs": [],
   "source": [
    "trained_model_checkpoint = 'recipes_model'"
   ]
  },
  {
   "cell_type": "code",
   "execution_count": 6,
   "id": "d8f58a73",
   "metadata": {},
   "outputs": [],
   "source": [
    "tokenizer = AutoTokenizer.from_pretrained(model_checkpoint, use_fast=True)"
   ]
  },
  {
   "cell_type": "code",
   "execution_count": 7,
   "id": "e537ddda",
   "metadata": {},
   "outputs": [],
   "source": [
    "model = AutoModelForCausalLM.from_pretrained(trained_model_checkpoint)"
   ]
  },
  {
   "cell_type": "markdown",
   "id": "a3190ceb",
   "metadata": {},
   "source": [
    "# Try to generate text "
   ]
  },
  {
   "cell_type": "code",
   "execution_count": 8,
   "id": "f1e8e47b",
   "metadata": {},
   "outputs": [],
   "source": [
    "prompt = \"Sourdough Country Loaf \"\n",
    "num_examples = 10"
   ]
  },
  {
   "cell_type": "code",
   "execution_count": 9,
   "id": "f39d2104",
   "metadata": {
    "scrolled": false
   },
   "outputs": [
    {
     "name": "stderr",
     "output_type": "stream",
     "text": [
      "Setting `pad_token_id` to `eos_token_id`:50256 for open-end generation.\n",
      "Setting `pad_token_id` to `eos_token_id`:50256 for open-end generation.\n"
     ]
    },
    {
     "name": "stdout",
     "output_type": "stream",
     "text": [
      "Sourdough Country Loaf 340g King Arthur Unbleached All-Purpose Flour 100g King Arthur Unbleached All-Purpose Flour 227g Baker's Special Dry Milk or nonfat dry milk 9g unsweetened unsalted butter 1 large egg 227g shredded grated Parmesan cheese 1 1/4 teaspoons salt 1/2 teaspoon ground cardamom\n",
      "    \n",
      "     Directions   Beat together the milk, butter and Parmesan cheese in a large bowl.  Blend together the egg, milk and Parmesan cheese. Stir in the coarsely chopped Parmesan and cheese.  Beat in the melted butter, butter, milk and Parmesan, stirring constantly.  Add the wet milk, butter and Parmesan.  Pour the eggs into the prepared pan. Bake the bread for 30 to 45 minutes.  Remove the bread from the oven and cool on a rack for 5 to 10 minutes before slicing.  Remove the bread from the oven and cool to room temperature. Store the bread for about 45 days at room temperature, or freeze for up to 1 month.  \n",
      "   \n",
      "      Tips from our bakers \n",
      "   No crust-free breadsticks? Don't be tempted to try this. While it's tempting to use your favorite loaf of breadsticks for this holiday season, you won't find a suitable \"No-Dry Dough\" recipe for this holiday season. We recommend using a variety of loaves to make a dough that tastes quite like ours:\n",
      "    \n",
      "   \n",
      "casserole or rye breadsticks\n",
      "\n",
      "breads, breakfast, lunch, supper, pudding\n",
      "\n",
      "\n",
      "1. If you're using it in a different country, use the same recipe.\n",
      "2. Or substitute the same starter.\n",
      "3. Either of these two ingredients will make the same texture.\n",
      "4. Either recipe will have the same texture.\n",
      "5. If your breadsticks are the opposite color of the breadstick or the same color of your finger, substitute a combination of the two ingredients.\n",
      "6. Mix and knead until the dough forms a ball.\n",
      "7. Turn dough out onto a lightly floured surface, and place the dough in a lightly oiled bowl.\n",
      "8.      \n",
      "9. Place the pan in a lightly greased (greased bowl), cover and let it rise till doubled in bulk.\n",
      "10.    \n",
      "==========\n"
     ]
    },
    {
     "name": "stderr",
     "output_type": "stream",
     "text": [
      "Setting `pad_token_id` to `eos_token_id`:50256 for open-end generation.\n"
     ]
    },
    {
     "name": "stdout",
     "output_type": "stream",
     "text": [
      "Sourdough Country Loaf \n",
      "    \n",
      "    This dough is wonderfully soft, supple, and easy to handle. And if it's stiff enough to handle, and it's a heavy duty machine, it should be able to handle a lot of our large buns.  We've also made some quick and easy, slow-rising mini-buns: this one's done. The buns are fairly simple to handle; the dough is in a rough place, so we're starting by putting this together and looking at the buns in a slightly different way.  You can read our blog about buns in this video.\n",
      "    \n",
      "      Anecdoche Rolls Dough  206g warm water 16g sugar 35g King Arthur Unbleached All-Purpose Flour 50g unsalted butter 1 tablespoon instant yeast 2 tablespoons instant yeast 1 tablespoon freshly ground nutmeg, minced (or for the sake of your bread topping) 1 teaspoon instant yeast 3 large eggs 1 1/2 teaspoons salt  Topping  1 large egg 1 large egg white, beaten 1 tablespoon whole or one large egg\n",
      "    \n",
      "     Directions     To make the dough: Mix the boiling water, milk, sugar and instant yeast.  Let the dough rise for 45 minutes; this will give it a soft, elastic ball, and become slightly sticky.   Let the dough rise for 20 to 25 minutes, until it's bubbly enough to hold the dough in your hand for an instant.  It should be slightly puffy, but not noticeably sticky.  Gently knead it until it's smooth and elastic, about 1 to 2 minutes.  It should be somewhat puffy, but not noticeably sticky.  Remove it from the bowl and divide it into eight pieces.  Divide the pieces into about 4 pieces.  Place the filling in a lightly greased bowl and flatten them about.  Sprinkle on top.   Shape each piece into a ball.      Place all of the dough ingredients into the ball and roll the dough over just to seal.  Cover and let rise until doubled, about 1 hour.  Preheat the oven to 375°F.  In a medium bowl, whisk together the butter, milk, sugar, salt, and salt. In a large bowl, whisk together the sugar, sugar, and yeast. Stir to combine.     Add the rest\n",
      "==========\n"
     ]
    },
    {
     "name": "stderr",
     "output_type": "stream",
     "text": [
      "Setting `pad_token_id` to `eos_token_id`:50256 for open-end generation.\n"
     ]
    },
    {
     "name": "stdout",
     "output_type": "stream",
     "text": [
      "Sourdough Country Loaf 227g granulated sugar 340g water (or 1 1/2 teaspoon salt) 227g buttermilk + 1 1/2 teaspoons instant yeast 2 teaspoons instant yeast 149g large onion flakes (optional) 2 teaspoons salt 227g buttermilk + 1 1/2 teaspoon instant yeast 85g fresh thyme or grated Parmesan cheese 1 1/2 teaspoons instant yeast\n",
      "    \n",
      "     Directions   Combine all of the ingredients — stir in the warm water to dissolve the water and add the dry ingredients.  Stir the dough into the prepared loaf and shape into a 12\" x 5\" log.  Cover the loaf and let it rise until it's slightly puffy and quite puffy. Towards the end of the rising time, preheat the oven to 375°F.    Transfer the loaf to a lightly greased work surface. Towards the end of the rising time, preheat the oven to 425°F.  Bake the bread for 25 to 25 minutes, for an additional 3 to 4 minutes.  Remove the bread from the oven and let it cool for 40 minutes or until it's soft and supple. Remove it from the oven, and cool for 45 minutes, then return it to the oven, and serve.  \n",
      "    \n",
      "barmella bread, shortening\n",
      "\n",
      "breads, breads, shortening\n",
      "\n",
      "1 cup chopped raisins\n",
      "1 tablespoon melted butter\n",
      "1/2 teaspoon pepper (optional)\n",
      "1 teaspoon cinnamon\n",
      "1 teaspoon grated Parmesan cheese\n",
      "2 cup unsalted butter\n",
      "1  diced ham, ground\n",
      "1/2 cup chopped Parmesan cheese\n",
      "1 cup milk\n",
      "1/2 cup confectioners' cheese; chopped\n",
      "1/4 cup coarse grated Parmesan cheese\n",
      "1/2 teaspoon salt\n",
      "1/2 cup chopped finely chopped Parmesan cheese (preheat the oven to 350°F.).   divide\n",
      "in slices (about 1 tablespoon each).  spread with cheese in small\n",
      "dough.  serve warm.\n",
      "\n",
      "yield: 4 servings\n",
      "\n",
      "\n",
      "** exported from now you're cooking! v5.71 **\n",
      "\n",
      "Muffin Bagel Rolls\n",
      "    \n",
      "    If you don't have an egg-free loaf or bread machine, you're very, very lucky. It's called muffin rolls, which all use a little dough to make a soft, soft dough. Because of the flexibility\n",
      "==========\n"
     ]
    },
    {
     "name": "stderr",
     "output_type": "stream",
     "text": [
      "Setting `pad_token_id` to `eos_token_id`:50256 for open-end generation.\n"
     ]
    },
    {
     "name": "stdout",
     "output_type": "stream",
     "text": [
      "Sourdough Country Loaf  \n",
      "    Directions   Combine the chopped fresh currants and salt; cut into slices  3/4 ounces each. Scoop the dough into three 8\" round 8\" slices.  In a large mixing bowl, combine the currants and salt in a large mixing bowl, stirring until a thick dough forms.  Knead the currants and salt in a large mixing bowl for 5 minutes, stirring to combine; add the remaining ingredients.  Let the dough rise for 15 minutes, until it's puffy, about 5 to 6 hours, before folding.  Turn the dough out onto a lightly floured surface, and brush it lightly with the remaining flour. Cover and let the dough rise for at least 1 hour, covered, for 15 minutes.  To make the dough: To assemble the dough: Mix the currants and salt in a large mixing bowl until all the dough is cohesive. Place the dough in an ungreased work surface or greased bowl, and knead it with 2 teaspoons sugar if necessary.  Transfer it to a lightly greased work surface, and knead it until smooth and elastic. This can be done by simply kneading the dough lightly with a spoon to loosen the dough.   Grease a 14\" x 5\" loaf pan with 1/2\" water; sprinkle with 1/2 tablespoon sugar if necessary.  Gently deflate the dough, and shape it into a log; place the log in a greased 8\" x 3\" log pan.   Shape the log into a log, and place it on a parchment-lined baking sheet.  Cover and let the dough rise for 15 minutes, covered, for 15 minutes, before folding.    Store, well-wrapped, at room temperature for up to 5 days, or freeze for up to 3 months.   \n",
      "    \n",
      "      Tips from our bakers  While in a mixer with a mixer, knead in the cream cheese and vanilla that's good with the butter, sugar, and salt, then add the flour and 1 teaspoon salt.  \n",
      "     Doughnuts Doughnuts  177g King Arthur Unbleached All-Purpose Flour 227g Baker's Special Dry Milk or nonfat dry milk 43g almond milk or nonfat dry milk 2 large eggs 113g dark chocolate chips or unsalted butter or margarine 12g to 14g King Arthur Un\n",
      "==========\n"
     ]
    },
    {
     "name": "stderr",
     "output_type": "stream",
     "text": [
      "Setting `pad_token_id` to `eos_token_id`:50256 for open-end generation.\n"
     ]
    },
    {
     "name": "stdout",
     "output_type": "stream",
     "text": [
      "Sourdough Country Loaf  \n",
      "    \n",
      "    Directions   Mix the ingredients — by hand, mixer, or bread machine — and whisk together to form a sticky dough. Place a measuring cup on the bottom of a lightly greased baking sheet. Spread the dough on a lightly floured surface, or lightly spray it with water.  Bake the loaf for 55 to 60 minutes, until a soft, elastic dough forms.  Let the bread rise for 25 to 45 minutes, then return to the oven to cool completely.  If desired, freeze for 30 to 35 minutes.   Remove the bread from the oven, and cool completely before slicing.\n",
      "    \n",
      "cinnamon roll rolls\n",
      "\n",
      "breads\n",
      "1. butter and cheese\n",
      "2. cinnamon nuts,\n",
      "3. butter and cheese,\n",
      "4. cream cheese\n",
      "5. egg yolk,\n",
      "6. eggs,\n",
      "7. bacon\n",
      "\n",
      "8. melted butter,\n",
      "9. egg yolk\n",
      "10. sprinkle with melted butter\n",
      "1. mix well and sprinkle with melted butter.\n",
      "2. drizzle with melted butter over cornstarch.\n",
      "3. mix and knead until smooth\n",
      "3. knead until evenly distributed and dough is smooth,\n",
      "1. combine eggs, bacon, and cheese,\n",
      "and fold into 1/2\" loaf and let stand 20 to 30 minutes until rolls are\n",
      "well-rising.\n",
      "4.  make a log;  beat dough lightly with margarine and 1 1/2\" breads\n",
      "and let rise, about 25-25 minutes.  bake with\n",
      "medium oven for 20-25 minutes.\n",
      "5.  brown and brush with egg yolk,\n",
      "sprinkle with milk, sifted, and cooled.\n",
      "6.  turn out onto a lightly floured surface; roll on\n",
      "the bread and let stand 20 minutes until soft,\n",
      "using just one piece of dough.  knead until smooth,\n",
      "pressurized, and doubled in bulk and a thickness of 14\" for\n",
      "15\" at room temperature. \n",
      "\n",
      "7.   cut loafwise into six rolls, cut in half and crowned with\n",
      "peeled cheese.  roll in halves to make a 2/3\" round\n",
      "and top each rolled with the eggs and cheese, and place on a baking sheet.\n",
      "\n",
      "8.   bake at 350f for 30 minutes, until puffy, golden brown.\n",
      "\n",
      "9.  cut remaining rolls into\n",
      "==========\n"
     ]
    },
    {
     "name": "stderr",
     "output_type": "stream",
     "text": [
      "Setting `pad_token_id` to `eos_token_id`:50256 for open-end generation.\n"
     ]
    },
    {
     "name": "stdout",
     "output_type": "stream",
     "text": [
      "Sourdough Country Loaf \n",
      "    \n",
      "    Tips from our bakers  Give these bakers one \"tip\" — they don't have a handle for the dough but rather a rope-like rope to cut it into it. It helps hold the dough when it's doubled in bulk.\n",
      "    \n",
      "     Dough  2 teaspoons instant yeast 190g King Arthur Unbleached All-Purpose Flour  298g King Arthur White Whole Wheat Flour  198g King Arthur Unbleached All-Purpose Flour 113g sugar 1 1/2 teaspoons salt 1 teaspoon instant yeast 50g freshly ground white 1/4 teaspoon instant yeast 85g unsalted butter or margarine 4 large eggs or your favorite nonfat dry milk 43g instant yeast  Topping   1/2 cup melted butter 1 large egg white 120g unsalted butter or margarine 113g instant yeast  Topping  1 1/2 cup water 4 eggs  2 tablespoons instant yeast 227g sugar 32g unsalted butter or margarine 2 teaspoons instant yeast 2 teaspoons instant yeast  Topping  1 1/4 teaspoon instant yeast  Topping  1/2 teaspoon instant yeast  Topping  2 large egg white 1 large egg yolk or margarine 2 large eggs or your favorite nonfat dry milk  Topping  1/2 cup melted butter or margarine 1 tablespoon instant yeast  Topping  1/4 cup salt 1/4 cup instant yeast  Topping  1/2 cup butter or margarine 3 to 4 eggs or your favorite nonfat dry milk 1 teaspoon instant yeast  Topping  1 large egg white 1 tablespoon instant yeast  Topping \n",
      "    \n",
      "     Tips from our bakers  Use just enough sugar to make the dough elastic. For the most part, skip the sugar for the yeast, but it will take longer to get the dough together and make a bouncy texture. Just before you add the sugar to the dough, it should be smooth, even though the dough is quite loose. Try to have it soft, and be sure to add at least one more step into the process. While the dough is still at full force, try to keep it firm as well. \n",
      "    \n",
      "    Gluten-Free Baking Tips\n",
      "     This recipe uses a gluten free version of the wheat germ from ancient times. This is a very simple step, and\n",
      "==========\n"
     ]
    },
    {
     "name": "stderr",
     "output_type": "stream",
     "text": [
      "Setting `pad_token_id` to `eos_token_id`:50256 for open-end generation.\n"
     ]
    },
    {
     "name": "stdout",
     "output_type": "stream",
     "text": [
      "Sourdough Country Loaf  \n",
      "     \n",
      "     Toasted Swiss Spiced Cornbread Dough  142g butter 198g King Arthur Unbleached All-Purpose Flour 28g milk 2 teaspoons salt 46g butter, melted or melted 85g sugar 1 cup butter 2 large eggs  For best consistency, combine egg and milk.  To make the dough:  Combine all of the ingredients. Knead about 90 minutes, until the dough is quite elastic. To make the crust:  Combine all of the ingredients. While the dough is rising, combine the eggs, milk, sugar, and butter.   Yield: 1 dozen rolls.  You can make a variety of rolls by combining egg, milk, eggs, and butter.  Yield: 4 rolls.  For the filling:  Yield: 6 rolls.   \n",
      "    Serve this bread without worrying about making the dough itself, instead of worrying about the dough itself, instead of worrying about the dough itself, instead of worrying about the dough itself, instead of worrying about the dough itself, instead of worrying about the dough itself, instead of worrying about the dough itself, instead of worrying about the dough itself, instead of worrying about the dough itself, instead of worrying about the dough itself, instead of worrying about the dough itself, instead of worrying about the dough itself, instead of worrying about the dough itself, instead of worrying about the dough itself, instead of worrying about the dough itself, instead of worrying about the dough itself, instead of worrying about the dough itself, instead of worrying about the dough itself, instead of worrying about the dough itself, instead of worrying about the dough itself, instead of worrying about the dough itself, instead of worrying about the dough itself, instead of worrying about the dough itself, instead of worrying about the dough itself, instead of worrying about the dough itself, instead of worrying about the dough itself, instead of worrying about the dough itself, instead of worrying about the dough itself, instead of worrying about the dough itself, instead of worrying about the dough itself, instead of worrying about the dough itself, instead of worrying about the dough itself, instead of worrying about the dough itself, instead of worrying about the dough itself, instead of worrying about the dough itself, instead of worrying about the dough itself, instead of worrying about the dough itself, instead of worrying about the dough itself, instead of worrying about the dough itself, instead of worrying about the dough itself\n",
      "==========\n"
     ]
    },
    {
     "name": "stderr",
     "output_type": "stream",
     "text": [
      "Setting `pad_token_id` to `eos_token_id`:50256 for open-end generation.\n"
     ]
    },
    {
     "name": "stdout",
     "output_type": "stream",
     "text": [
      "Sourdough Country Loaf Directions   Place all of the dough ingredients onto a lightly greased or parchment-lined baking sheet. Cover with plastic wrap and let rise 10 to 15 minutes.   Remove dough from the oven and cool on a rack.  Store uncovered at room temperature for several days at room temperature.   \n",
      "     Tips from our bakers  Check out all of our best-selling baker's recipes, and try our blog post All-Purpose Flour. (See \"tips,\" below.)\n",
      "    \n",
      "     Dough  1  water 1 teaspoon salt 361g King Arthur Unbleached All-Purpose Flour 1 large egg white 1 large egg white 2 teaspoons instant yeast \n",
      "    \n",
      "     Directions    Brush the lightly buttery baking sheet with lightly beaten egg white or on a lightly greased work surface.  Combine all of the milk ingredients (1/4 cup all-purpose flour, 1 1/2 teaspoons salt, and 1 1/2 teaspoons salt) and mix to blend.  Transfer the mixture to a lightly greased work surface.   Stir in the egg white, and mix and knead for 3 to 4 minutes.  \n",
      "    \n",
      "    \n",
      "cinnamon cheese\n",
      "\n",
      "breads, breakfast\n",
      "\n",
      "1 1/2 cup warm water\n",
      "1 tablespoon corn meal\n",
      "2  eggs; softened\n",
      "1 teaspoon salt\n",
      "2  flour\n",
      "1/2 cup butter\n",
      "1 tablespoon baking powder\n",
      "1 1/2 teaspoon baking soda\n",
      "\n",
      "in a warm bowl combine all of the eggs, corn meal, and egg white, stirring to combine.\n",
      "\n",
      "knead the dough for about 45 minutes, then fold it out to coat.\n",
      "\n",
      "then fold each egg white, adding 1/2 cup flour. add 1/2 cup flour, and beat until\n",
      "combined. set aside to cool.\n",
      "\n",
      "\n",
      "cool slightly in a microwave on low power.  add 1/2 cup flour, and add 1 teaspoon baking soda, then\n",
      "blend it on the bottom of the bowl.  transfer to a rack to cool.  bake for 20 to 25 minutes.\n",
      "\n",
      "yield: 1 servings\n",
      "\n",
      "\n",
      "** exported from now you're cooking! v5.71 **\n",
      "\n",
      "Chocolate White Bread Breadsticks\n",
      "    \n",
      "    This bread is the ultimate treat to bake breads. We love chocolate-\n",
      "==========\n"
     ]
    },
    {
     "name": "stderr",
     "output_type": "stream",
     "text": [
      "Setting `pad_token_id` to `eos_token_id`:50256 for open-end generation.\n"
     ]
    },
    {
     "name": "stdout",
     "output_type": "stream",
     "text": [
      "Sourdough Country Loaf     \n",
      "      This wonderful recipe from our readers (not necessarily in our regular recipe feed, but rather in our feed) is a favorite of you. We believe that this recipe, as it's called, is as good as it gets at frying. It may seem simple on the outside, but it's actually just that tasty.\n",
      "    \n",
      "          113g olive oil, softened, or 1 1/2 teaspoons salt 57g butter, to taste  241g raisins, toasted  2 teaspoons ground cinnamon 113g buttermilk (optional)  2 teaspoons instant yeast or margarine  Topping  4 large eggs, or 1 to 2 teaspoons oil 43g cornmeal, toasted  113g instant yeast or margarine Directions  In a separate bowl, whisk together all of the ingredients except for cornmeal and egg.  Add the flour, cornmeal, salt, and eggs, mixing until blended and puffy.  Stir in the cornmeal and cinnamon.  In a small bowl, combine all of the flour, cornmeal, and egg.  Add the cornmeal mixture.  While the cornmeal mixture is being kneaded, combine all of the egg, cornmeal, and baking powder. Pour into a well-greased 9\" x 4\" loaf pan.  Pour into a well-greased 10\" x 6\" pan. Bake for 30 to 35 minutes. Cool completely before serving. Store at room temperature for 3 days, or freeze for up to 1 month. \n",
      "    \n",
      "     Tips from our bakers  If you don't have a baker or bakery, you can substitute the following: 1 cup flour or milk; plus the following: 2 tablespoons sugar; 1/2 teaspoon salt. 1 cup of flour; or 1/2 teaspoon salt. 1 1/2 teaspoon baking powder.  To make the dough:  Combine all of the ingredients except for cornmeal and yeast. Combine the flour, egg, and egg and knead until smooth and smooth, about 1 hour.  Allow to rise for 20 minutes.    Store at room temperature for 1 hour.  \n",
      "    \n",
      "cranberry jam\n",
      "\n",
      "breads\n",
      "\n",
      "1/4 cup granulated sugar\n",
      "1  eggs\n",
      "1/2 cup milk\n",
      "2 tablespoon cinnamon\n",
      "1/2 teaspoon ground cinnamon\n",
      "2\n",
      "==========\n",
      "Sourdough Country Loaf     \n",
      "    These moist, but not necessarily sweet loaf sandwiches are a nice gift from the family of the classic Italian loaf sandwiches.\n",
      "    \n",
      "     Dough  142g King Arthur Unbleached All-Purpose Flour 1 1/2 teaspoons instant yeast 1 large egg 3 large egg yolk 1 teaspoon salt 1 large egg\n",
      "     Directions   In a small bowl, whisk together all of the flour, yeast, salt, and egg yolk.  Place the dough in a bowl, cover with lightly greased plastic wrap.  Place the dough in the middle of the bowl, cover, and let it rise for 25 to 30 minutes, or until a toothpick inserted into the center of the bowl comes out clean. Transfer the dough to a lightly greased work surface, cover with a damp cloth, and let the dough rise for 60 minutes, or until it's a toothpick inserted into the center of the bowl comes out clean.  Transfer the dough to a lightly greased work surface, cover, and let it rise for 30 to 40 minutes, or until the toothpick inserted into the center of the bowl comes out clean. Transfer the dough to a lightly greased work surface, cover, and let it rise for 60 to 60 minutes, or until the toothpick inserted into the center of the bowl comes out clean. Transfer the dough to a lightly greased work surface, cover, and let it rise for 45 minutes, or until the toothpick inserted into the center of the bowl comes out clean. Transfer the dough to a lightly greased work surface, cover, and let it rise for 30 minutes, or until the toothpick inserted into the center of the bowl comes out clean. Transfer the dough to a lightly greased work surface, cover, and let it rise for 60 to 60 minutes, or until the toothpick inserted into the center of the bowl comes out clean. Transfer the dough to a lightly greased work surface, cover, and let it rise for 90 minutes, or until the toothpick inserted into the center of the bowl comes out clean.   To make the biscuits: Combine the flour, egg, egg, salt, and eggs.  Mix well and knead until the dough is smooth and elastic, about 5 minutes.    Place a lightly greased or parchment-lined cookie sheet over the dough and allow it to rise for 30 to 35 minutes, or until a\n",
      "==========\n"
     ]
    }
   ],
   "source": [
    "for i in range(num_examples):\n",
    "    inputs = tokenizer(prompt, add_special_tokens=True, return_tensors=\"pt\")[\"input_ids\"]\n",
    "\n",
    "    prompt_length = len(tokenizer.decode(inputs[0]))\n",
    "    outputs = model.generate(inputs, max_length=512, do_sample=True, top_p=0.95, top_k=60, temperature=1.)\n",
    "    generated = prompt + tokenizer.decode(outputs[0])[prompt_length+1:]\n",
    "\n",
    "    print(generated)\n",
    "    print('='*10)"
   ]
  },
  {
   "cell_type": "code",
   "execution_count": null,
   "id": "33c456c2",
   "metadata": {},
   "outputs": [],
   "source": []
  },
  {
   "cell_type": "code",
   "execution_count": null,
   "id": "3f51f7dc",
   "metadata": {},
   "outputs": [],
   "source": []
  }
 ],
 "metadata": {
  "kernelspec": {
   "display_name": "Python 3 (ipykernel)",
   "language": "python",
   "name": "python3"
  },
  "language_info": {
   "codemirror_mode": {
    "name": "ipython",
    "version": 3
   },
   "file_extension": ".py",
   "mimetype": "text/x-python",
   "name": "python",
   "nbconvert_exporter": "python",
   "pygments_lexer": "ipython3",
   "version": "3.8.10"
  }
 },
 "nbformat": 4,
 "nbformat_minor": 5
}
