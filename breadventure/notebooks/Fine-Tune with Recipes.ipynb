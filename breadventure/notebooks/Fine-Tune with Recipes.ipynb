{
 "cells": [
  {
   "cell_type": "code",
   "execution_count": 1,
   "id": "81b42b8d",
   "metadata": {},
   "outputs": [],
   "source": [
    "import torch"
   ]
  },
  {
   "cell_type": "code",
   "execution_count": 2,
   "id": "977705c7",
   "metadata": {},
   "outputs": [
    {
     "data": {
      "text/plain": [
       "True"
      ]
     },
     "execution_count": 2,
     "metadata": {},
     "output_type": "execute_result"
    }
   ],
   "source": [
    "torch.cuda.is_available()"
   ]
  },
  {
   "cell_type": "code",
   "execution_count": 3,
   "id": "b666437e",
   "metadata": {},
   "outputs": [
    {
     "name": "stdout",
     "output_type": "stream",
     "text": [
      "4.11.3\n"
     ]
    }
   ],
   "source": [
    "import transformers\n",
    "print(transformers.__version__)"
   ]
  },
  {
   "cell_type": "code",
   "execution_count": 4,
   "id": "35868da7",
   "metadata": {},
   "outputs": [],
   "source": [
    "from transformers import AutoTokenizer"
   ]
  },
  {
   "cell_type": "code",
   "execution_count": 5,
   "id": "e3ffe9be",
   "metadata": {},
   "outputs": [],
   "source": [
    "from sklearn.model_selection import train_test_split"
   ]
  },
  {
   "cell_type": "code",
   "execution_count": 6,
   "id": "993cd301",
   "metadata": {},
   "outputs": [],
   "source": [
    "from pathlib import Path"
   ]
  },
  {
   "cell_type": "code",
   "execution_count": 7,
   "id": "2fee47d9",
   "metadata": {},
   "outputs": [],
   "source": [
    "model_checkpoint = \"distilgpt2\""
   ]
  },
  {
   "cell_type": "code",
   "execution_count": 8,
   "id": "d8f58a73",
   "metadata": {},
   "outputs": [],
   "source": [
    "tokenizer = AutoTokenizer.from_pretrained(model_checkpoint, use_fast=True)"
   ]
  },
  {
   "cell_type": "code",
   "execution_count": 9,
   "id": "717c3431",
   "metadata": {},
   "outputs": [
    {
     "data": {
      "text/plain": [
       "1"
      ]
     },
     "execution_count": 9,
     "metadata": {},
     "output_type": "execute_result"
    }
   ],
   "source": [
    "tokenizer.add_special_tokens({'pad_token': '[SEP]'})"
   ]
  },
  {
   "cell_type": "code",
   "execution_count": 10,
   "id": "6986c205",
   "metadata": {},
   "outputs": [],
   "source": [
    "DATA_DIR = \"../../data/recipes-combined/individual/\""
   ]
  },
  {
   "cell_type": "code",
   "execution_count": 11,
   "id": "08d83604",
   "metadata": {},
   "outputs": [],
   "source": [
    "def read_recipes(split_dir):\n",
    "    split_dir = Path(split_dir)\n",
    "    texts = []\n",
    "    labels = []\n",
    "    for text_file in (split_dir).iterdir():\n",
    "        texts.append(text_file.read_text())\n",
    "\n",
    "    return texts\n",
    "\n",
    "recipes = read_recipes(DATA_DIR)"
   ]
  },
  {
   "cell_type": "code",
   "execution_count": 12,
   "id": "a36ebc15",
   "metadata": {},
   "outputs": [],
   "source": [
    "train_data, test_data = train_test_split(recipes, test_size=.1)"
   ]
  },
  {
   "cell_type": "code",
   "execution_count": 13,
   "id": "1af2a0df",
   "metadata": {},
   "outputs": [],
   "source": [
    "train_data, val_data = train_test_split(train_data, test_size=.1)"
   ]
  },
  {
   "cell_type": "code",
   "execution_count": null,
   "id": "454cce40",
   "metadata": {},
   "outputs": [],
   "source": []
  },
  {
   "cell_type": "code",
   "execution_count": null,
   "id": "e7ab1c49",
   "metadata": {},
   "outputs": [],
   "source": []
  },
  {
   "cell_type": "code",
   "execution_count": 14,
   "id": "8c0e4b0f",
   "metadata": {},
   "outputs": [],
   "source": [
    "padding = False\n",
    "max_length=1024\n",
    "train_encodings = tokenizer(train_data, truncation=True, padding=padding, max_length=max_length)\n",
    "val_encodings = tokenizer(val_data, truncation=True, padding=padding, max_length=max_length)\n",
    "test_encodings = tokenizer(test_data, truncation=True, padding=padding, max_length=max_length)"
   ]
  },
  {
   "cell_type": "code",
   "execution_count": 15,
   "id": "cedbab6c",
   "metadata": {},
   "outputs": [
    {
     "data": {
      "text/plain": [
       "['input_ids', 'attention_mask']"
      ]
     },
     "execution_count": 15,
     "metadata": {},
     "output_type": "execute_result"
    }
   ],
   "source": [
    "list(val_encodings.keys())"
   ]
  },
  {
   "cell_type": "code",
   "execution_count": 16,
   "id": "a5b653fa",
   "metadata": {},
   "outputs": [],
   "source": [
    "# block_size = tokenizer.model_max_length\n",
    "block_size = 512"
   ]
  },
  {
   "cell_type": "code",
   "execution_count": 17,
   "id": "596eedfd",
   "metadata": {},
   "outputs": [],
   "source": [
    "def group_texts(examples):\n",
    "    # Concatenate all texts.\n",
    "    concatenated_examples = {k: sum(examples[k], []) for k in examples.keys()}\n",
    "    total_length = len(concatenated_examples[list(examples.keys())[0]])\n",
    "    # We drop the small remainder, we could add padding if the model supported it instead of this drop, you can\n",
    "        # customize this part to your needs.\n",
    "    total_length = (total_length // block_size) * block_size\n",
    "    # Split by chunks of max_len.\n",
    "    result = {\n",
    "        k: [t[i : i + block_size] for i in range(0, total_length, block_size)]\n",
    "        for k, t in concatenated_examples.items()\n",
    "    }\n",
    "    result[\"labels\"] = result[\"input_ids\"].copy()\n",
    "    return result"
   ]
  },
  {
   "cell_type": "code",
   "execution_count": 18,
   "id": "8af95699",
   "metadata": {},
   "outputs": [],
   "source": [
    "class RecipeDataset(torch.utils.data.Dataset):\n",
    "    def __init__(self, encodings):\n",
    "        self.encodings = encodings\n",
    "        self.labels = encodings['input_ids'].copy()\n",
    "\n",
    "    def __getitem__(self, idx):\n",
    "        item = {key: torch.tensor(val[idx]) for key, val in self.encodings.items()}\n",
    "        item['labels'] = torch.tensor(self.labels[idx])\n",
    "        return item\n",
    "\n",
    "    def __len__(self):\n",
    "        return len(self.labels)\n",
    "\n",
    "train_dataset = RecipeDataset(group_texts(train_encodings))\n",
    "val_dataset = RecipeDataset(group_texts(val_encodings))\n",
    "test_dataset = RecipeDataset(group_texts(test_encodings))"
   ]
  },
  {
   "cell_type": "code",
   "execution_count": 19,
   "id": "e2627d2b",
   "metadata": {},
   "outputs": [
    {
     "data": {
      "text/plain": [
       "(1370, 151, 168)"
      ]
     },
     "execution_count": 19,
     "metadata": {},
     "output_type": "execute_result"
    }
   ],
   "source": [
    "len(train_dataset), len(val_dataset), len(test_dataset)"
   ]
  },
  {
   "cell_type": "code",
   "execution_count": 20,
   "id": "a2024d90",
   "metadata": {},
   "outputs": [
    {
     "name": "stdout",
     "output_type": "stream",
     "text": [
      "Black Friday Bread\n",
      "    \n",
      "    Black Friday — the day after Thanksgiving — is equal parts shopping and leftovers. Turkey sandwiches are a must; but what do you do with all those leftover bits of stuffing, mashed potatoes, squash, creamed onions... Well, kill two birds with one stone: make a delicious sandwich loaf, AND use those other leftovers from the Turkey Day meal right in the bread itself. This moist, flavorful bread slices beautifully; and when you use stuffing as one of the ingredients, its mild herb flavor is perfect for a turkey sandwich.\n",
      "    \n",
      "       113g King Arthur White Whole Wheat Flour 298g King Arthur Unbleached Bread Flour 28g soft butter 1 to 1 1/4 teaspoons salt, to taste 14g sugar 2 1/2 teaspoons instant yeast 152g lukewarm milk 128g prepared stuffing 213g mashed potatoes, white or sweet \n",
      "    \n",
      "     Directions   Place all of the ingredients in a bowl (or the bowl of your stand mixer; or a bread machine bucket); and mix and knead to make a smooth, elastic, and somewhat sticky dough. The dough will feel tacky, but should hold its shape nicely; you should be able to handle it easily with greased hands.  Place the dough in a lightly greased bowl or 8-cup measure (for easiest tracking of the dough as it rises). Allow it to rise until it's quite puffy, 1 1/2 to 2 hours.  Gently deflate the dough. Shape it into an 11\" to 12\" log, and place it on a parchment-lined or lightly greased baking sheet.  Cover the loaf with lightly greased plastic wrap or a dough cover (the plastic cover of a disposable supermarket deli tray or cake platter may work well for you here), and let the loaf rise until it's noticeably puffy, 1 1/2 to 2 hours. Towards the end of the rising time, preheat the oven to 350°F.   Bake the bread for 35 to 45 minutes, until it's golden brown on top, and an instant-read thermometer inserted into the center registers at least 190°F.   Remove the bread from the oven, and place it on a rack to cool. When completely cool, wrap airtight and store at room temperature for 3 to 4 days; freeze for longer storage.  \n",
      "    \n",
      " \n"
     ]
    }
   ],
   "source": [
    "print(tokenizer.decode(train_dataset[0][\"input_ids\"]))\n"
   ]
  },
  {
   "cell_type": "code",
   "execution_count": 21,
   "id": "e537ddda",
   "metadata": {},
   "outputs": [],
   "source": [
    "from transformers import AutoModelForCausalLM\n",
    "model = AutoModelForCausalLM.from_pretrained(model_checkpoint)"
   ]
  },
  {
   "cell_type": "code",
   "execution_count": 22,
   "id": "05c52d98",
   "metadata": {},
   "outputs": [
    {
     "data": {
      "text/plain": [
       "'distilgpt2'"
      ]
     },
     "execution_count": 22,
     "metadata": {},
     "output_type": "execute_result"
    }
   ],
   "source": [
    "model_checkpoint"
   ]
  },
  {
   "cell_type": "code",
   "execution_count": 23,
   "id": "533cbe6a",
   "metadata": {},
   "outputs": [],
   "source": [
    "from transformers import Trainer, TrainingArguments\n",
    "\n",
    "model_name = model_checkpoint.split(\"/\")[-1]\n",
    "training_args = TrainingArguments(\n",
    "    f\"{model_name}-finetuned-recipes\",\n",
    "    num_train_epochs=10.,\n",
    "    evaluation_strategy = \"epoch\",\n",
    "    learning_rate=2e-5,\n",
    "    weight_decay=0.01,\n",
    "    per_device_train_batch_size=1,\n",
    "    per_device_eval_batch_size=1,    \n",
    "    # push_to_hub=True,\n",
    "    # fp16 didn't lower memory usage in a meaningful way, i guess because\n",
    "    # batch size is already a small % of memory, and also slowed down training\n",
    "    fp16=True, \n",
    "    gradient_accumulation_steps=16,\n",
    ")"
   ]
  },
  {
   "cell_type": "code",
   "execution_count": 24,
   "id": "8a62eeaf",
   "metadata": {},
   "outputs": [],
   "source": [
    "torch.cuda.empty_cache()"
   ]
  },
  {
   "cell_type": "code",
   "execution_count": 25,
   "id": "08a77d77",
   "metadata": {},
   "outputs": [
    {
     "name": "stderr",
     "output_type": "stream",
     "text": [
      "Using amp fp16 backend\n"
     ]
    }
   ],
   "source": [
    "trainer = Trainer(\n",
    "    model=model,\n",
    "    args=training_args,\n",
    "    train_dataset=train_dataset,\n",
    "    eval_dataset=val_dataset,\n",
    ")"
   ]
  },
  {
   "cell_type": "code",
   "execution_count": 26,
   "id": "0db19a49",
   "metadata": {},
   "outputs": [],
   "source": [
    "torch.cuda.empty_cache()"
   ]
  },
  {
   "cell_type": "code",
   "execution_count": 27,
   "id": "b7b43ca2",
   "metadata": {
    "scrolled": false
   },
   "outputs": [
    {
     "data": {
      "text/plain": [
       "'|===========================================================================|\\n|                  PyTorch CUDA memory summary, device ID 0                 |\\n|---------------------------------------------------------------------------|\\n|            CUDA OOMs: 0            |        cudaMalloc retries: 0         |\\n|===========================================================================|\\n|        Metric         | Cur Usage  | Peak Usage | Tot Alloc  | Tot Freed  |\\n|---------------------------------------------------------------------------|\\n| Allocated memory      |  326899 KB |  326899 KB |  326899 KB |       0 B  |\\n|       from large pool |  320512 KB |  320512 KB |  320512 KB |       0 B  |\\n|       from small pool |    6387 KB |    6387 KB |    6387 KB |       0 B  |\\n|---------------------------------------------------------------------------|\\n| Active memory         |  326899 KB |  326899 KB |  326899 KB |       0 B  |\\n|       from large pool |  320512 KB |  320512 KB |  320512 KB |       0 B  |\\n|       from small pool |    6387 KB |    6387 KB |    6387 KB |       0 B  |\\n|---------------------------------------------------------------------------|\\n| GPU reserved memory   |  364544 KB |  364544 KB |  364544 KB |       0 B  |\\n|       from large pool |  356352 KB |  356352 KB |  356352 KB |       0 B  |\\n|       from small pool |    8192 KB |    8192 KB |    8192 KB |       0 B  |\\n|---------------------------------------------------------------------------|\\n| Non-releasable memory |   37645 KB |   37654 KB |  144637 KB |  106992 KB |\\n|       from large pool |   35840 KB |   35840 KB |  139520 KB |  103680 KB |\\n|       from small pool |    1805 KB |    2045 KB |    5117 KB |    3312 KB |\\n|---------------------------------------------------------------------------|\\n| Allocations           |      88    |      88    |      88    |       0    |\\n|       from large pool |      26    |      26    |      26    |       0    |\\n|       from small pool |      62    |      62    |      62    |       0    |\\n|---------------------------------------------------------------------------|\\n| Active allocs         |      88    |      88    |      88    |       0    |\\n|       from large pool |      26    |      26    |      26    |       0    |\\n|       from small pool |      62    |      62    |      62    |       0    |\\n|---------------------------------------------------------------------------|\\n| GPU reserved segments |      15    |      15    |      15    |       0    |\\n|       from large pool |      11    |      11    |      11    |       0    |\\n|       from small pool |       4    |       4    |       4    |       0    |\\n|---------------------------------------------------------------------------|\\n| Non-releasable allocs |      12    |      12    |      14    |       2    |\\n|       from large pool |      10    |      10    |      10    |       0    |\\n|       from small pool |       2    |       2    |       4    |       2    |\\n|===========================================================================|\\n'"
      ]
     },
     "execution_count": 27,
     "metadata": {},
     "output_type": "execute_result"
    }
   ],
   "source": [
    "torch.cuda.memory_summary(device=None, abbreviated=False)"
   ]
  },
  {
   "cell_type": "code",
   "execution_count": 28,
   "id": "6111ae90",
   "metadata": {
    "scrolled": false
   },
   "outputs": [
    {
     "name": "stderr",
     "output_type": "stream",
     "text": [
      "***** Running training *****\n",
      "  Num examples = 1370\n",
      "  Num Epochs = 10\n",
      "  Instantaneous batch size per device = 1\n",
      "  Total train batch size (w. parallel, distributed & accumulation) = 16\n",
      "  Gradient Accumulation steps = 16\n",
      "  Total optimization steps = 850\n"
     ]
    },
    {
     "data": {
      "text/html": [
       "\n",
       "    <div>\n",
       "      \n",
       "      <progress value='850' max='850' style='width:300px; height:20px; vertical-align: middle;'></progress>\n",
       "      [850/850 38:07, Epoch 9/10]\n",
       "    </div>\n",
       "    <table border=\"1\" class=\"dataframe\">\n",
       "  <thead>\n",
       "    <tr style=\"text-align: left;\">\n",
       "      <th>Epoch</th>\n",
       "      <th>Training Loss</th>\n",
       "      <th>Validation Loss</th>\n",
       "    </tr>\n",
       "  </thead>\n",
       "  <tbody>\n",
       "    <tr>\n",
       "      <td>0</td>\n",
       "      <td>No log</td>\n",
       "      <td>2.721223</td>\n",
       "    </tr>\n",
       "    <tr>\n",
       "      <td>1</td>\n",
       "      <td>No log</td>\n",
       "      <td>2.562458</td>\n",
       "    </tr>\n",
       "    <tr>\n",
       "      <td>2</td>\n",
       "      <td>No log</td>\n",
       "      <td>2.484214</td>\n",
       "    </tr>\n",
       "    <tr>\n",
       "      <td>3</td>\n",
       "      <td>No log</td>\n",
       "      <td>2.435942</td>\n",
       "    </tr>\n",
       "    <tr>\n",
       "      <td>4</td>\n",
       "      <td>No log</td>\n",
       "      <td>2.399940</td>\n",
       "    </tr>\n",
       "    <tr>\n",
       "      <td>5</td>\n",
       "      <td>2.727200</td>\n",
       "      <td>2.375810</td>\n",
       "    </tr>\n",
       "    <tr>\n",
       "      <td>6</td>\n",
       "      <td>2.727200</td>\n",
       "      <td>2.358845</td>\n",
       "    </tr>\n",
       "    <tr>\n",
       "      <td>7</td>\n",
       "      <td>2.727200</td>\n",
       "      <td>2.348522</td>\n",
       "    </tr>\n",
       "    <tr>\n",
       "      <td>8</td>\n",
       "      <td>2.727200</td>\n",
       "      <td>2.340244</td>\n",
       "    </tr>\n",
       "    <tr>\n",
       "      <td>9</td>\n",
       "      <td>2.727200</td>\n",
       "      <td>2.338228</td>\n",
       "    </tr>\n",
       "  </tbody>\n",
       "</table><p>"
      ],
      "text/plain": [
       "<IPython.core.display.HTML object>"
      ]
     },
     "metadata": {},
     "output_type": "display_data"
    },
    {
     "name": "stderr",
     "output_type": "stream",
     "text": [
      "/home/andrew/workspace/breadventure/venv/lib/python3.8/site-packages/transformers/trainer.py:1355: FutureWarning: Non-finite norm encountered in torch.nn.utils.clip_grad_norm_; continuing anyway. Note that the default behavior will change in a future release to error out if a non-finite total norm is encountered. At that point, setting error_if_nonfinite=false will be required to retain the old behavior.\n",
      "  nn.utils.clip_grad_norm_(\n",
      "***** Running Evaluation *****\n",
      "  Num examples = 151\n",
      "  Batch size = 1\n",
      "***** Running Evaluation *****\n",
      "  Num examples = 151\n",
      "  Batch size = 1\n",
      "***** Running Evaluation *****\n",
      "  Num examples = 151\n",
      "  Batch size = 1\n",
      "***** Running Evaluation *****\n",
      "  Num examples = 151\n",
      "  Batch size = 1\n",
      "Saving model checkpoint to distilgpt2-finetuned-recipes/checkpoint-500\n",
      "Configuration saved in distilgpt2-finetuned-recipes/checkpoint-500/config.json\n",
      "Model weights saved in distilgpt2-finetuned-recipes/checkpoint-500/pytorch_model.bin\n",
      "***** Running Evaluation *****\n",
      "  Num examples = 151\n",
      "  Batch size = 1\n",
      "***** Running Evaluation *****\n",
      "  Num examples = 151\n",
      "  Batch size = 1\n",
      "***** Running Evaluation *****\n",
      "  Num examples = 151\n",
      "  Batch size = 1\n",
      "***** Running Evaluation *****\n",
      "  Num examples = 151\n",
      "  Batch size = 1\n",
      "***** Running Evaluation *****\n",
      "  Num examples = 151\n",
      "  Batch size = 1\n",
      "\n",
      "\n",
      "Training completed. Do not forget to share your model on huggingface.co/models =)\n",
      "\n",
      "\n"
     ]
    },
    {
     "data": {
      "text/plain": [
       "TrainOutput(global_step=850, training_loss=2.6216669060202205, metrics={'train_runtime': 2290.2138, 'train_samples_per_second': 5.982, 'train_steps_per_second': 0.371, 'total_flos': 1788576257802240.0, 'train_loss': 2.6216669060202205, 'epoch': 9.99})"
      ]
     },
     "execution_count": 28,
     "metadata": {},
     "output_type": "execute_result"
    }
   ],
   "source": [
    "trainer.train()"
   ]
  },
  {
   "cell_type": "code",
   "execution_count": 29,
   "id": "85f01edb",
   "metadata": {
    "scrolled": true
   },
   "outputs": [
    {
     "name": "stderr",
     "output_type": "stream",
     "text": [
      "***** Running Evaluation *****\n",
      "  Num examples = 151\n",
      "  Batch size = 1\n"
     ]
    },
    {
     "data": {
      "text/html": [
       "\n",
       "    <div>\n",
       "      \n",
       "      <progress value='151' max='151' style='width:300px; height:20px; vertical-align: middle;'></progress>\n",
       "      [151/151 00:06]\n",
       "    </div>\n",
       "    "
      ],
      "text/plain": [
       "<IPython.core.display.HTML object>"
      ]
     },
     "metadata": {},
     "output_type": "display_data"
    },
    {
     "name": "stdout",
     "output_type": "stream",
     "text": [
      "Perplexity: 10.36\n"
     ]
    }
   ],
   "source": [
    "import math\n",
    "eval_results = trainer.evaluate()\n",
    "print(f\"Perplexity: {math.exp(eval_results['eval_loss']):.2f}\")"
   ]
  },
  {
   "cell_type": "code",
   "execution_count": 30,
   "id": "53c4cf15",
   "metadata": {},
   "outputs": [],
   "source": [
    "model_checkpoint_local = 'recipes_model'"
   ]
  },
  {
   "cell_type": "code",
   "execution_count": 31,
   "id": "85912e87",
   "metadata": {},
   "outputs": [
    {
     "name": "stderr",
     "output_type": "stream",
     "text": [
      "Configuration saved in recipes_model/config.json\n",
      "Model weights saved in recipes_model/pytorch_model.bin\n"
     ]
    }
   ],
   "source": [
    "model.save_pretrained(model_checkpoint_local)"
   ]
  },
  {
   "cell_type": "code",
   "execution_count": null,
   "id": "ce1fad8c",
   "metadata": {},
   "outputs": [],
   "source": []
  },
  {
   "cell_type": "markdown",
   "id": "60fcec1b",
   "metadata": {},
   "source": [
    "# Try to load back the model to see if that works"
   ]
  },
  {
   "cell_type": "code",
   "execution_count": 32,
   "id": "452eb776",
   "metadata": {},
   "outputs": [
    {
     "name": "stderr",
     "output_type": "stream",
     "text": [
      "loading configuration file recipes_model/config.json\n",
      "Model config GPT2Config {\n",
      "  \"_name_or_path\": \"distilgpt2\",\n",
      "  \"_num_labels\": 1,\n",
      "  \"activation_function\": \"gelu_new\",\n",
      "  \"architectures\": [\n",
      "    \"GPT2LMHeadModel\"\n",
      "  ],\n",
      "  \"attn_pdrop\": 0.1,\n",
      "  \"bos_token_id\": 50256,\n",
      "  \"embd_pdrop\": 0.1,\n",
      "  \"eos_token_id\": 50256,\n",
      "  \"id2label\": {\n",
      "    \"0\": \"LABEL_0\"\n",
      "  },\n",
      "  \"initializer_range\": 0.02,\n",
      "  \"label2id\": {\n",
      "    \"LABEL_0\": 0\n",
      "  },\n",
      "  \"layer_norm_epsilon\": 1e-05,\n",
      "  \"model_type\": \"gpt2\",\n",
      "  \"n_ctx\": 1024,\n",
      "  \"n_embd\": 768,\n",
      "  \"n_head\": 12,\n",
      "  \"n_inner\": null,\n",
      "  \"n_layer\": 6,\n",
      "  \"n_positions\": 1024,\n",
      "  \"resid_pdrop\": 0.1,\n",
      "  \"scale_attn_weights\": true,\n",
      "  \"summary_activation\": null,\n",
      "  \"summary_first_dropout\": 0.1,\n",
      "  \"summary_proj_to_labels\": true,\n",
      "  \"summary_type\": \"cls_index\",\n",
      "  \"summary_use_proj\": true,\n",
      "  \"task_specific_params\": {\n",
      "    \"text-generation\": {\n",
      "      \"do_sample\": true,\n",
      "      \"max_length\": 50\n",
      "    }\n",
      "  },\n",
      "  \"torch_dtype\": \"float32\",\n",
      "  \"transformers_version\": \"4.11.3\",\n",
      "  \"use_cache\": true,\n",
      "  \"vocab_size\": 50257\n",
      "}\n",
      "\n",
      "loading weights file recipes_model/pytorch_model.bin\n",
      "All model checkpoint weights were used when initializing GPT2LMHeadModel.\n",
      "\n",
      "All the weights of GPT2LMHeadModel were initialized from the model checkpoint at recipes_model.\n",
      "If your task is similar to the task the model of the checkpoint was trained on, you can already use GPT2LMHeadModel for predictions without further training.\n"
     ]
    }
   ],
   "source": [
    "model2 = AutoModelForCausalLM.from_pretrained(model_checkpoint_local)"
   ]
  },
  {
   "cell_type": "code",
   "execution_count": null,
   "id": "381b78a8",
   "metadata": {},
   "outputs": [],
   "source": []
  },
  {
   "cell_type": "markdown",
   "id": "a3190ceb",
   "metadata": {},
   "source": [
    "# Try to generate text "
   ]
  },
  {
   "cell_type": "code",
   "execution_count": 71,
   "id": "f1e8e47b",
   "metadata": {},
   "outputs": [],
   "source": [
    "prompt = \"Johnty Vincent Andrew \"\n",
    "num_examples = 10"
   ]
  },
  {
   "cell_type": "code",
   "execution_count": 73,
   "id": "f39d2104",
   "metadata": {
    "scrolled": false
   },
   "outputs": [
    {
     "name": "stderr",
     "output_type": "stream",
     "text": [
      "Setting `pad_token_id` to `eos_token_id`:50256 for open-end generation.\n",
      "Setting `pad_token_id` to `eos_token_id`:50256 for open-end generation.\n"
     ]
    },
    {
     "name": "stdout",
     "output_type": "stream",
     "text": [
      "Johnty Vincent Andrew  \n",
      "    \n",
      "      It's great to find the fruit and vegetables of your favorite fruit in a bowl. But there's another, different food you can find in the supermarket for breakfast — some that are a bit stale and others more tasty.\n",
      "     \n",
      "   Jalapeno Salad  170g water 14g unsweetened cornmeal 14g brown sugar 954g salami 2 1/4 teaspoons instant yeast 6 large eggs 25g to 2 large eggs 1 tablespoon crushed orange juice, chopped 1 1/2 teaspoons salt 71g butter, to taste 11g King Arthur Unbleached All-Purpose Flour 1 1/2 teaspoons salt, to taste 1/4 to 1 teaspoon sugar 2 teaspoons instant yeast 1/2 teaspoon nutmeg 1 teaspoon chopped sea salt or olive oil 1/2 teaspoon ground nutmeg 1/4 teaspoon crushed orange juice \n",
      "    \n",
      "     Directions   In a large bowl, combine the egg, sugar, salt, and salt in a large saucepan until smooth. Mix until thoroughly blended, just until smooth.  Add the cornmeal and egg mixture to the mixture, stirring to mix thoroughly. Add the melted butter to the mixture, stirring until the mixture is smooth, about 45 seconds.  Place the ingredients in the prepared pan, and stir to combine.  Stir occasionally. Turn off the heat to cool on a wire rack. When all the hot air is gone, heat the eggs or salami or almond juice.  Sprinkle with the salt, and let the eggs cool on a wire rack.  Gently deflate the egg and add to the mixture to keep the flavor.  Put in a clean bowl, and let the mixture rise for 30 to 40 minutes.   Pour in the eggs and the salsa until golden brown and brown and a touch of salt is added to the mixture. Cover the bowl with plastic wrap, and allow the eggs to rise for an additional 15 minutes, until well blended.    To make the dressing: Stir in enough of the batter to coat the dressing.  Pour the dressing into the bowl, and sprinkle with the salt and olive oil.  Turn the lid and lid over and gently shake with the lemonade, lemon juice, and olive oil to make a deep-seated consistency.   When the dressing is ready to serve, prepare the dressing on a floured surface, or at a\n",
      "==========\n"
     ]
    },
    {
     "name": "stderr",
     "output_type": "stream",
     "text": [
      "Setting `pad_token_id` to `eos_token_id`:50256 for open-end generation.\n"
     ]
    },
    {
     "name": "stdout",
     "output_type": "stream",
     "text": [
      "Johnty Vincent Andrew (died 12, 1993) is one of the pioneers in the sport of cooking with his own kitchen tool — its own oven, bread machine, or just a bread machine.\n",
      "\n",
      "    \n",
      "       Dough  269g King Arthur Unbleached All-Purpose Flour 28g olive oil 2 teaspoons instant yeast 1 teaspoon salt 1/3 teaspoon garlic powder 1/4 teaspoon baking soda 170g King Arthur Unbleached All-Purpose Flour 28g cornmeal, mixed with chopped walnuts, toasted 1/2 cup diced (1/4 cup) sautéed onions, chopped \n",
      "    \n",
      "     Directions   Mix together all of the ingredients, until very soft and smooth, and allow to rise until doubled in bulk.  Lightly grease a 9\" x 4\" loaf pan.  Sprinkle with garlic powder, salt, baking soda, and bay leaves.  Bake for 12 to 15 minutes, until it's golden brown and light brown. Remove from the oven, and brush the loaf on a lightly floured surface. While the loaf is rising, preheat the oven to 350°F.  Line the loaf with a towel or skillet. Brush it with warm water, and let it rest for at least one additional 1/2 to 2 hours.  Remove from the oven, and cool completely on a rack. Transfer the loaf to a lightly greased work surface to cool completely.   Gently deflate it, and divide it into pieces into 24 pieces; each should weigh about 1/2 ounces, weighing about 3 1/2 ounces.  If you would like to deflate the loaves, preheat the oven to 350°F.  Yield: 32 loaves. \n",
      "    \n",
      "     Tips from our bakers  You will probably end up with one of the best dough ideas ever — the traditional \"blend loaf\" recipe.\n",
      "    \n",
      "    Pizza Dough Tips from our bakers  Starting with an electric bread machine, you'll find that it's easy to make dough — by hand, mixer, or bread machine — by hand, or bread machine, or by machine. \n",
      "    \n",
      "baking soda\n",
      "\n",
      "breads\n",
      "\n",
      "1 tablespoon active dry yeast\n",
      "1 cup water\n",
      "1 1/4 cup flour\n",
      "1/2 cup all-purpose flour\n",
      "\n",
      "==========\n"
     ]
    },
    {
     "name": "stderr",
     "output_type": "stream",
     "text": [
      "Setting `pad_token_id` to `eos_token_id`:50256 for open-end generation.\n"
     ]
    },
    {
     "name": "stdout",
     "output_type": "stream",
     "text": [
      "Johnty Vincent Andrew 1993\n",
      "\n",
      "     This is a very quick and easy bread dough, but we don't want to have a time consuming or even a long, boring journey to make it. \n",
      "      14g King Arthur Unbleached All-Purpose Flour 1 teaspoon salt 1/4 teaspoon baking powder \n",
      "    \n",
      "    Directions    Put the dough in a bowl or an electric mixer; by hand, beat the flour, salt, baking powder, and baking powder together.  Stir in the eggs and mix well, then add the salt.  Spoon the dough into an oiled bowl, or a medium-sized cake pan. Mix until smooth.     Let the dough rise for 1 to 2 hours, or until a soft, sticky dough is formed. To make this dough, substitute 1 cup flour, 1/2 teaspoon baking powder, 1/4 teaspoon baking powder, 1 tablespoon baking soda and a small amount of salt in the oiled bowl of a small mixing bowl.  Place the dough in an ungreased bowl, cover, and let the dough rise until it's puffy and puffy, about 25 minutes.  Knead the dough for about 1 hour, or until it's puffy, about 25 minutes.  Divide the dough in half.    Cover the bowl and let rise for about 1 hour, or until it's puffy. If not, allow the dough to rise.    Transfer the dough to a lightly greased or greased bowl, covered and let rise for at least 5 hours, until it's puffy.  Turn the dough out onto a lightly greased work surface, and allow it to rest for at least 1 hour, until the top comes out clean and satiny.   Gently deflate the dough, and place it in a lightly greased bowl. Bake the dough for 10 to 15 minutes, until the lid is golden brown and the center is golden brown.  Remove the bread from the oven, and cool completely.   Store, well-wrapped, at room temperature for up to 3 days.\n",
      "    \n",
      "      Tips from our bakers  As for the sourdough bread, all of the starter and starter will have a texture. But don't give the starter too much sourdough flavor. The sourdough bread is delicious if left to the baker. This bread\n",
      "==========\n"
     ]
    },
    {
     "name": "stderr",
     "output_type": "stream",
     "text": [
      "Setting `pad_token_id` to `eos_token_id`:50256 for open-end generation.\n"
     ]
    },
    {
     "name": "stdout",
     "output_type": "stream",
     "text": [
      "Johnty Vincent Andrew  \n",
      "     Directions    Preheat the oven to 375°F. Lightly grease a baking sheet with oil, until dough is elastic, about 3 hours. Place the dough in a lightly greased bowl.  Cover the bowl and let it rise for 15 to 20 minutes.   Transfer the dough to a lightly greased work surface; it should stay about 5 to 6 hours.   Place the dough inside the refrigerator.  Remove the bread from the oven, and cool completely. To make the soft soft dough, preheat a rack to 350°F.   Transfer the soft dough to an 8 1/2\" x 5 1/2\" loaf pan.   Yield: 12 loaf pan.   To make the soft dough, preheat the oven to 375°F.   To make the soft dough, preheat the oven to 425°F.    To make the soft dough, preheat the oven to 450°F.    To make the soft dough, preheat the oven to 425°F.   To make the soft dough, preheat the oven to 450°F.   To make the soft dough, preheat the oven to 425°F.   To make the soft dough, preheat the oven to 425°F.   To make the soft dough, preheat the oven to 425°F.   To make the soft dough, preheat the oven to 425°F.   To make the soft dough, preheat the oven to 425°F.   To make the soft dough, preheat the oven to 375°F.   To make the soft dough, preheat the oven to 375°F.   To make the soft dough, preheat the oven to 425°F.    To make the soft dough, preheat the oven to 425°F.   To make the soft dough, preheat the oven to 425°F.   To make the soft dough, preheat the oven to 425°F.   To make the soft dough, preheat the oven to 425°F.   To make the soft dough, preheat the oven to 375°F.   To make the soft dough, preheat the oven to 425°F.   To make the soft dough, preheat the oven to 425°F.   To make the soft dough, preheat\n",
      "==========\n"
     ]
    },
    {
     "name": "stderr",
     "output_type": "stream",
     "text": [
      "Setting `pad_token_id` to `eos_token_id`:50256 for open-end generation.\n"
     ]
    },
    {
     "name": "stdout",
     "output_type": "stream",
     "text": [
      "Johnty Vincent Andrew   \n",
      "      Pecan Loaf\n",
      "     A loaf made from a thin dough, wrapped with a wrap of warm, humid olive oil, is a perfect substitute for a sweet, moist loaf. The warm loaf is also a nice addition to your bread; the buttery texture is a boon when you've had a soft bread or baked with butter all week long. \n",
      "    \n",
      "             170g King Arthur Unbleached All-Purpose Flour 28g sugar 3 large egg yolks 113g unsalted butter, softened or margarine *Suffice the egg yolks to prevent them turning out.  \n",
      "     Directions    Combine all of the ingredients (optional) in a medium-sized bowl, cover, and let stand for 45 to 90 minutes, until the mixture is smooth and elastic; add the egg yolks and 1 cup of the butter for the mixture, stirring just occasionally.  Stir in the melted butter, the melted butter, and the egg yolks.  Add the butter, egg yolks, and 1/2 cup of the cream or water yolks to mix the mixture.  Allow the mixture to rise for about 1 hour; at this point, the liquid and eggs will be dissolved.   Remove the bread from the bowl, and cool on a wire rack.    While the mixture is rising, preheat your oven to 350°F.   To make a sandwich: Preheat the oven to 400°F.  To make an ice-cream sandwich: Combine the frozen, melted butter, egg yolks and egg yolks.  Whisk in the melted butter, 1 cup of the cream, and the remaining butter. Stir the melted butter into the egg yolks and pour the melted butter into the sandwich.  Bake the sandwiches for 35 to 40 minutes, until they're light, and the center of the pan registers 190°F.  Remove the bread from the oven, turn it out onto a rack, and bake for 25 to 30 minutes.  Store at room temperature for 5 days, or freeze for up to 1 year, or freeze for up to 3 years.  \n",
      "    \n",
      "     Tips from our bakers \n",
      "to make this simple sandwich, use 1/2 cup of butter. \n",
      "==========\n"
     ]
    },
    {
     "name": "stderr",
     "output_type": "stream",
     "text": [
      "Setting `pad_token_id` to `eos_token_id`:50256 for open-end generation.\n"
     ]
    },
    {
     "name": "stdout",
     "output_type": "stream",
     "text": [
      "Johnty Vincent Andrew  \n",
      "    \n",
      "    Directions    To prepare the butter: Combine the butter, eggs, and butter in the eggs.  Gently deflate the dough, and allow it to rise until it's nearly doubled in bulk.  Place the loaf in a 9\" x 13\" loaf pan on the lightly floured surface.  Put the bread over the surface of the pan if it is too floured. Cover the pan and let it rise until the edges are shiny. Towards the end of the rising time, preheat the oven to 425°F.  To make the sandwiches: Place all of the sandwiches in a 1\" x 4\" pan. Cover and let them rise until doubled in bulk, about 3 hours. Turn the pan out onto a lightly floured surface.   Preheat the oven to 350°F.  Brush the top of the bread with the butter if you wish, and sprinkle it with a light coating of oil.  Yield: 8 to 8 sandwiches.   \n",
      "     \n",
      "    \n",
      "     Peanut and Jelly Sandwich\n",
      "    \n",
      "     Packed-On\n",
      "             This soft, soft peanut loaf is soft and soft to bite, without going too far. The loaf, with its delicate, slightly moist edges, should be a fun piece of sandwich and/or sandwich. Its interior should be light, juicy, and moist, with a warm interior. If you've never experienced this loaf before, the possibilities are endless.  \n",
      "       170g King Arthur Unbleached All-Purpose Flour 28g sugar 2 large eggs 1 large egg *3 teaspoons salt \n",
      "          57g King Arthur White Whole Wheat Flour 170g to 1 teaspoon baking powder 1 1/2 teaspoons instant yeast 35g milk, to taste \n",
      "     \n",
      "    Directions   Combine the butter, eggs, and vanilla. Stir in the milk, sugar and salt. Add the milk, eggs, and/or the beaten egg to the dough and let rise for 1 to 1 1/2 minutes. After this long period of stirring, mix the egg, eggs, and vanilla in a large bowl, stirring occasionally, until smooth. Stir in the egg mixture, baking powder, salt, and baking\n",
      "==========\n"
     ]
    },
    {
     "name": "stderr",
     "output_type": "stream",
     "text": [
      "Setting `pad_token_id` to `eos_token_id`:50256 for open-end generation.\n"
     ]
    },
    {
     "name": "stdout",
     "output_type": "stream",
     "text": [
      "Johnty Vincent Andrew  \n",
      "     Yield: 12 servings\n",
      "\n",
      "    \n",
      "     These low, sweet muffins, rich, moist muffins are a wonderful choice for the holidays. They look very fresh and fresh, and are beautifully hand-crafted in a manner that's always great for kids with allergies. \n",
      "    \n",
      "          198g King Arthur Unbleached All-Purpose Flour 177g King Arthur Unbleached All-Purpose Flour 1 1/2 teaspoons instant yeast 43g King Arthur Unbleached All-Purpose Flour 1 1/2 teaspoons salt 35g vegetable oil 57g King Arthur Unbleached All-Purpose Flour 1 tablespoon sugar 2 teaspoons salt, optional 1 teaspoon ground cinnamon 1/2 teaspoon nutmeg \n",
      "    \n",
      "     Directions    Preheat the oven to 325°F. Lightly grease a 9\" x 4\" pan.   Whisk together the flour, sugar, salt, cinnamon and nutmeg.  Stir in the butter, oil, yeast, and vanilla.  Add the nutmeg, nutmeg, and nutmeg; heat well.   Stir in the milk, cinnamon, nutmeg, nutmeg, and nutmeg; stir into the remaining 3 tablespoons of flour.   Add the oil, salt, nutmeg, and nutmeg. Stir in the melted butter, cinnamon, nutmeg, and nutmeg, stirring constantly until the mixture resembles smooth and sticky.   Knead for 15 minutes; put the pan on high rise, to cool.  If using the stove for a longer time, add a tablespoon or two at a time to the mixture until the mixture is too thick to handle easily.  Store, well-wrapped, for up to 1 month. \n",
      "    \n",
      "     Tips from our bakers  There are no guarantees of the color of the batter. This is probably impossible to clean out. See \"Brett's Baking Fertilizer\" for more information.\n",
      "    \n",
      "breads, biscuits & breakfast\n",
      "\n",
      "2 1/4 cups warm water\n",
      "2 1/2 cup unbleached bread flour\n",
      "1 tablespoon sugar\n",
      "1/2 teaspoon salt\n",
      "2 egg, softened\n",
      "1/2 teaspoon pepper\n",
      "1/2 teaspoon dried fruits\n",
      "1  onion, chopped\n",
      "1/2\n",
      "==========\n"
     ]
    },
    {
     "name": "stderr",
     "output_type": "stream",
     "text": [
      "Setting `pad_token_id` to `eos_token_id`:50256 for open-end generation.\n"
     ]
    },
    {
     "name": "stdout",
     "output_type": "stream",
     "text": [
      "Johnty Vincent Andrew 11-Year Old    \n",
      "      \n",
      "     Tips from our bakers  Yield: 3 servings; 8 servings; or 2 servings.\n",
      "    \n",
      "    Directions    Combine the remaining ingredients in a large bowl, stirring to dissolve all of the sugars in it — to make a soft, creamy filling.  Fold the batter into a 12\" x 5\" rectangle, shape the filling with a sharp knife, and place the filling and filling over the rolls.  Roll it into a log, roll it around and place it in the refrigerator.     Toss the filling, flattening it slightly. Place it in the oven, turn it out on a rack, and bake the filling for about 1 hour, until it's golden brown.  Remove it from the oven, and transfer it to the rack.   \n",
      "     Tips from our bakers  For the smoothness and texture of the rolls, cut the balls into 16 rounds and divide them into 4 rounds. When you use a pizza stone, the rounds will have a smooth, glossy crust. \n",
      "    \n",
      "casserole-style bread\n",
      "\n",
      "breads\n",
      "\n",
      "1 cup bread flour\n",
      "1 1/2 teaspoon salt\n",
      "2 cup all purpose flour\n",
      "1/4 teaspoon baking powder\n",
      "1 teaspoon baking soda\n",
      "2 cup diced tomatoes\n",
      "1  egg\n",
      "2 1/2 cup milk\n",
      "2 teaspoon salt\n",
      "3 cup flour\n",
      "2 teaspoon baking soda\n",
      "\n",
      "combine all of the ingredients.\n",
      "\n",
      "in a large bowl, combine the dry ingredients. mix well.\n",
      "in a heavy mixing bowl, beat the eggs until well combined.\n",
      "in a separate bowl, whisk together the milk and eggs. mix well.\n",
      "\n",
      "in a large bowl, combine the eggs, eggs, and milk. add the egg mixture and milk.\n",
      "in a large mixing bowl, beat the eggs until they are both very thick. stir in the mixture till combined.\n",
      "mix well.\n",
      "\n",
      "dough into a large bowl, mix the\n",
      "ovens, eggs, egg, flour, salt, baking powder and baking soda. stir in the\n",
      "water, milk, eggs, and milk. continue to mix until the mixture is well blended,\n",
      "pushing the dough away from the sides of the\n",
      "roll. repeat with another. let it rise in a preheated 350°F oven for 5 minutes,\n",
      "==========\n"
     ]
    },
    {
     "name": "stderr",
     "output_type": "stream",
     "text": [
      "Setting `pad_token_id` to `eos_token_id`:50256 for open-end generation.\n"
     ]
    },
    {
     "name": "stdout",
     "output_type": "stream",
     "text": [
      "Johnty Vincent Andrew   \n",
      "    Tips from our bakers  Try to make bread pudding in a simple syrup or a 1/2-ounce drop pan.\n",
      "    \n",
      "     Dough  227g King Arthur Unbleached All-Purpose Flour 1/2 teaspoon ground cinnamon 2 teaspoons baking powder 1/2 teaspoon salt 1/4 teaspoon vanilla extract 113g milk 113g white flour, toasted \n",
      "     Directions    In a large bowl, whisk together the egg yolk and the sugar. In a separate bowl, mix in the vanilla, cinnamon, and baking powder. Stir until smooth; this helps. When a piece of dough is too heavy, knead it into a very soft, round ball.   Gently shape the dough into a ball, roll it into a 6\" (3-inch) x 5\" log.  Shape the log into a large rectangle, and shape it into a 5\" x 2\" log.  Place the log into a lightly greased 2 1/2\" x 3 1/2\" loaf pan, and wrap it tightly around the log.   Cover the pan with plastic wrap, and let it rest for an hour, or until it's puffy.    Store the loaves in the refrigerator for up to 1 week. \n",
      "    \n",
      "     Tips from our bakers  A simple syrup or a 1/2-ounce drop pan with cinnamon and baking powder? Or an instant mashed banana?\n",
      "    \n",
      "     Tips from our bakers  Unbleached All-Purpose Flour 1 teaspoon baking powder 1 teaspoon cinnamon 1/4 teaspoons salt 2 teaspoons salt 3 tablespoons milk 113g water 57g sugar 18g King Arthur Unbleached All-Purpose Flour 1 1/2 teaspoon vanilla extract 43g honey 113g milk 50g granulated sugar 35g butter or unsalted butter, coarsely chopped 99g sugar 25g sugar \n",
      "     \n",
      "    Directions     To make the batter: Combine all the ingredients except the sugar, vanilla and sugar. Mix to form a smooth, smooth, smooth ball.  Combine the flour, sugar and baking powder.    Combine the dry ingredients in a food processor; then mix and knead until smooth, about 3 1/2 hours. If you're using only a small amount, use 1\n",
      "==========\n",
      "Johnty Vincent Andrew  \n",
      "      1 cup water\n",
      "1 large egg yolks\n",
      "1/2 cup salt\n",
      "2 cup milk\n",
      "2 tablespoon salt\n",
      "2 cup whole wheat flour\n",
      "1 cup maple syrup\n",
      "\n",
      "mix with remaining 1/2 cup flour and 1 teaspoon salt\n",
      "\n",
      "pour the eggs in a large mixing bowl and beat by hand\n",
      "until smooth and foamy. add milk\n",
      "and sugar and let rise in a\n",
      "warm bowl until smooth.\n",
      "\n",
      "sprinkle the cream into the yolks. knead for 30 minutes or until just soft. add milk\n",
      "and sugar and mix and let rise until well blended.\n",
      "\n",
      "from left: by lithian, bard, eds, carawayian, and julia.\n",
      "\n",
      "yield: 1 servings\n",
      "\n",
      "\n",
      "** exported from now you're cooking! v5.71 **\n",
      "\n",
      "\n",
      "discofruit muffins\n",
      "    \n",
      "    To make this tasty, moist version of a lemon-colored muffin, use a deep-water bowl to mix.   While it's hot, spoon the batter onto the inside to cool it down.\n",
      "    \n",
      "      Dough  390g vegetable oil  269g King Arthur Unbleached All-Purpose Flour 1 1/2 teaspoons salt 1/3 teaspoon to 1/2 teaspoons instant yeast 1 large egg 340g to 418g instant yeast 1 large egg\n",
      "   \n",
      "    Directions    To make the dough: Combine all of the ingredients and mix on a lightly floured surface to make a soft, soft dough.     Add the oil and egg mixture and mix and knead until the dough is elastic. To make a thick, silky dough,  place the muffin cups on a lightly floured work surface.   Towards the end of the first rise, gently push it out of the bowl.    In a medium bowl, mix until smooth, ball-like, and allow the dough to rise a bit, about 1 to 2 hours.    Towards the end of the second rise, combine the eggs and salt with the yeast mixture.    When the dough is risen in the second degree, preheat the oven to 350°F.  While the dough is rising, preheat the oven to 400°F.   Cover and let the dough rise for 15 to 20 minutes, until lightly puffy and p\n",
      "==========\n"
     ]
    }
   ],
   "source": [
    "for i in range(num_examples):\n",
    "    inputs = tokenizer(prompt, add_special_tokens=True, return_tensors=\"pt\")[\"input_ids\"]\n",
    "\n",
    "    prompt_length = len(tokenizer.decode(inputs[0]))\n",
    "    outputs = model2.generate(inputs, max_length=512, do_sample=True, top_p=0.95, top_k=60, temperature=1.)\n",
    "    generated = prompt + tokenizer.decode(outputs[0])[prompt_length+1:]\n",
    "\n",
    "    print(generated)\n",
    "    print('='*10)"
   ]
  },
  {
   "cell_type": "code",
   "execution_count": null,
   "id": "33c456c2",
   "metadata": {},
   "outputs": [],
   "source": []
  },
  {
   "cell_type": "code",
   "execution_count": null,
   "id": "3f51f7dc",
   "metadata": {},
   "outputs": [],
   "source": []
  }
 ],
 "metadata": {
  "kernelspec": {
   "display_name": "Python 3 (ipykernel)",
   "language": "python",
   "name": "python3"
  },
  "language_info": {
   "codemirror_mode": {
    "name": "ipython",
    "version": 3
   },
   "file_extension": ".py",
   "mimetype": "text/x-python",
   "name": "python",
   "nbconvert_exporter": "python",
   "pygments_lexer": "ipython3",
   "version": "3.8.10"
  }
 },
 "nbformat": 4,
 "nbformat_minor": 5
}
