{
 "cells": [
  {
   "cell_type": "code",
   "execution_count": 1,
   "id": "4c41a6ca",
   "metadata": {},
   "outputs": [],
   "source": [
    "import pickle"
   ]
  },
  {
   "cell_type": "code",
   "execution_count": 3,
   "id": "6bdd1e98",
   "metadata": {},
   "outputs": [],
   "source": [
    "\n",
    "class Recipe(object):\n",
    "    def __init__(self):\n",
    "        self.url = ''\n",
    "        self.rid = None\n",
    "        self.title = ''\n",
    "        self.text = ''"
   ]
  },
  {
   "cell_type": "code",
   "execution_count": 4,
   "id": "8533efbc",
   "metadata": {},
   "outputs": [],
   "source": [
    "with open('recipes_complete.pkl', 'rb') as f:\n",
    "    recipes = pickle.load(f)"
   ]
  },
  {
   "cell_type": "code",
   "execution_count": 6,
   "id": "bae945d1",
   "metadata": {},
   "outputs": [
    {
     "data": {
      "text/plain": [
       "'9-Grain Bread'"
      ]
     },
     "execution_count": 6,
     "metadata": {},
     "output_type": "execute_result"
    }
   ],
   "source": [
    "recipes[0].title"
   ]
  },
  {
   "cell_type": "code",
   "execution_count": 9,
   "id": "58b4d1d3",
   "metadata": {},
   "outputs": [
    {
     "data": {
      "text/plain": [
       "'http://www.kingarthurflour.com/recipes/9-grain-bread-recipe'"
      ]
     },
     "execution_count": 9,
     "metadata": {},
     "output_type": "execute_result"
    }
   ],
   "source": [
    "recipes[0].url"
   ]
  },
  {
   "cell_type": "code",
   "execution_count": 10,
   "id": "6ad6b207",
   "metadata": {},
   "outputs": [
    {
     "data": {
      "text/plain": [
       "4889"
      ]
     },
     "execution_count": 10,
     "metadata": {},
     "output_type": "execute_result"
    }
   ],
   "source": [
    "recipes[0].rid"
   ]
  },
  {
   "cell_type": "code",
   "execution_count": 11,
   "id": "c0994db7",
   "metadata": {},
   "outputs": [
    {
     "data": {
      "text/plain": [
       "{'description': 'Wheat, barley, rye, oats, amaranth, quinoa, millet, sorghum, and teff — these are the nine whole grains that go into our 9-grain flour blend. This bread is a testament to their rich, nutty flavor.',\n",
       " 'ingreds': '\\n\\n\\n432g King Arthur Whole Grain Flour Blend\\n1 1/4 teaspoons salt\\n25g brown sugar or 43g molasses\\n2 teaspoons instant yeast\\n28g butter or 25g vegetable oil\\n255g lukewarm water\\n',\n",
       " 'directions': '\\nDirections\\n\\n\\nMix and then knead all of the ingredients — by hand, mixer, or bread machine set on the dough cycle — to make a smooth, satiny dough. The dough will start out very dry-looking, but should become soft, smooth, and slightly sticky as you knead; adjust its consistency with additional flour or water as needed.\\n\\nCover the dough, and allow it to rise for 1 hour, or until it\\'s somewhat puffy though not necessarily doubled in bulk.\\n\\nShape the dough into a 9\" log, and place it in a lightly greased 9\" x 5\" loaf pan.  \\n\\nCover the pan, and let the bread rise for about 1 hour, or until it\\'s crowned about 1\" over the rim of the pan. Towards the end of the rising time, preheat the oven to 350°F.\\n\\nBake the bread for 35 to 45 minutes, or until its internal temperature registers 190°F on an instant-read thermometer. If the bread seems to be browning too quickly, tent it lightly with foil after the first 20 minutes of baking.\\n\\nRemove the bread from the oven, and turn it out of the pan onto a rack to cool.\\n\\nYield: 1 loaf.\\n\\n',\n",
       " 'tips': '\\nTips from our bakers\\n\\nTo make rolls: Divide the dough into 16 pieces. Roll each into a smooth ball, and place them into two lightly greased 9\" round cake pans. Cover the pans, and let the rolls rise for about 1 hour, or until they\\'re quite puffy. Bake the rolls in a preheated 400°F oven for 15 to 18 minutes, or until they\\'re golden brown. Remove them from the oven, turn them onto a rack, and brush them with butter, if desired; this will give them a soft crust. Yield: 16 rolls.To bake this loaf in your bread baking bowl: After its first rise, shape the dough into a round (boule), and place it in the lightly greased bowl. Cover the loaf, and let the bread rise for about 1 hour, or until it\\'s puffy and fills the bowl. Bake and finish the loaf according to the recipe instructions.\\n'}"
      ]
     },
     "execution_count": 11,
     "metadata": {},
     "output_type": "execute_result"
    }
   ],
   "source": [
    "recipes[0].text"
   ]
  },
  {
   "cell_type": "code",
   "execution_count": 7,
   "id": "cd9c660d",
   "metadata": {},
   "outputs": [],
   "source": [
    "import os"
   ]
  },
  {
   "cell_type": "code",
   "execution_count": 8,
   "id": "7a552c82",
   "metadata": {},
   "outputs": [],
   "source": [
    "os.mkdir('individual')"
   ]
  },
  {
   "cell_type": "code",
   "execution_count": 17,
   "id": "052d5db7",
   "metadata": {},
   "outputs": [],
   "source": [
    "def remove_newlines(s):\n",
    "    return s.replace('\\n', ' ')"
   ]
  },
  {
   "cell_type": "code",
   "execution_count": 18,
   "id": "36c28b30",
   "metadata": {},
   "outputs": [],
   "source": [
    "def recipe_to_string(r):\n",
    "    return (\n",
    "    f'''{r.title}\n",
    "    \n",
    "    {remove_newlines(r.text['description'])}\n",
    "    \n",
    "    {remove_newlines(r.text['ingreds'])}\n",
    "    \n",
    "    {remove_newlines(r.text['directions'])}\n",
    "    \n",
    "    {remove_newlines(r.text['tips'])}\n",
    "    ''')"
   ]
  },
  {
   "cell_type": "code",
   "execution_count": 19,
   "id": "75cabcf9",
   "metadata": {},
   "outputs": [
    {
     "data": {
      "text/plain": [
       "'9-Grain Bread\\n    \\n    Wheat, barley, rye, oats, amaranth, quinoa, millet, sorghum, and teff — these are the nine whole grains that go into our 9-grain flour blend. This bread is a testament to their rich, nutty flavor.\\n    \\n       432g King Arthur Whole Grain Flour Blend 1 1/4 teaspoons salt 25g brown sugar or 43g molasses 2 teaspoons instant yeast 28g butter or 25g vegetable oil 255g lukewarm water \\n    \\n     Directions   Mix and then knead all of the ingredients — by hand, mixer, or bread machine set on the dough cycle — to make a smooth, satiny dough. The dough will start out very dry-looking, but should become soft, smooth, and slightly sticky as you knead; adjust its consistency with additional flour or water as needed.  Cover the dough, and allow it to rise for 1 hour, or until it\\'s somewhat puffy though not necessarily doubled in bulk.  Shape the dough into a 9\" log, and place it in a lightly greased 9\" x 5\" loaf pan.    Cover the pan, and let the bread rise for about 1 hour, or until it\\'s crowned about 1\" over the rim of the pan. Towards the end of the rising time, preheat the oven to 350°F.  Bake the bread for 35 to 45 minutes, or until its internal temperature registers 190°F on an instant-read thermometer. If the bread seems to be browning too quickly, tent it lightly with foil after the first 20 minutes of baking.  Remove the bread from the oven, and turn it out of the pan onto a rack to cool.  Yield: 1 loaf.  \\n    \\n     Tips from our bakers  To make rolls: Divide the dough into 16 pieces. Roll each into a smooth ball, and place them into two lightly greased 9\" round cake pans. Cover the pans, and let the rolls rise for about 1 hour, or until they\\'re quite puffy. Bake the rolls in a preheated 400°F oven for 15 to 18 minutes, or until they\\'re golden brown. Remove them from the oven, turn them onto a rack, and brush them with butter, if desired; this will give them a soft crust. Yield: 16 rolls.To bake this loaf in your bread baking bowl: After its first rise, shape the dough into a round (boule), and place it in the lightly greased bowl. Cover the loaf, and let the bread rise for about 1 hour, or until it\\'s puffy and fills the bowl. Bake and finish the loaf according to the recipe instructions. \\n    '"
      ]
     },
     "execution_count": 19,
     "metadata": {},
     "output_type": "execute_result"
    }
   ],
   "source": [
    "recipe_to_string(recipes[0])"
   ]
  },
  {
   "cell_type": "code",
   "execution_count": 20,
   "id": "3dd69745",
   "metadata": {},
   "outputs": [
    {
     "ename": "FileNotFoundError",
     "evalue": "[Errno 2] No such file or directory: 'individual/Cranberry Cornmeal Bread/Stuffing.txt'",
     "output_type": "error",
     "traceback": [
      "\u001b[0;31m---------------------------------------------------------------------------\u001b[0m",
      "\u001b[0;31mFileNotFoundError\u001b[0m                         Traceback (most recent call last)",
      "\u001b[0;32m/tmp/ipykernel_14343/285002307.py\u001b[0m in \u001b[0;36m<module>\u001b[0;34m\u001b[0m\n\u001b[1;32m      1\u001b[0m \u001b[0;32mfor\u001b[0m \u001b[0mr\u001b[0m \u001b[0;32min\u001b[0m \u001b[0mrecipes\u001b[0m\u001b[0;34m:\u001b[0m\u001b[0;34m\u001b[0m\u001b[0;34m\u001b[0m\u001b[0m\n\u001b[0;32m----> 2\u001b[0;31m     \u001b[0;32mwith\u001b[0m \u001b[0mopen\u001b[0m\u001b[0;34m(\u001b[0m\u001b[0;34mf'individual/{r.title}.txt'\u001b[0m\u001b[0;34m,\u001b[0m \u001b[0;34m'w+'\u001b[0m\u001b[0;34m)\u001b[0m \u001b[0;32mas\u001b[0m \u001b[0mf\u001b[0m\u001b[0;34m:\u001b[0m\u001b[0;34m\u001b[0m\u001b[0;34m\u001b[0m\u001b[0m\n\u001b[0m\u001b[1;32m      3\u001b[0m         \u001b[0mf\u001b[0m\u001b[0;34m.\u001b[0m\u001b[0mwrite\u001b[0m\u001b[0;34m(\u001b[0m\u001b[0mrecipe_to_string\u001b[0m\u001b[0;34m(\u001b[0m\u001b[0mr\u001b[0m\u001b[0;34m)\u001b[0m\u001b[0;34m)\u001b[0m\u001b[0;34m\u001b[0m\u001b[0;34m\u001b[0m\u001b[0m\n",
      "\u001b[0;31mFileNotFoundError\u001b[0m: [Errno 2] No such file or directory: 'individual/Cranberry Cornmeal Bread/Stuffing.txt'"
     ]
    }
   ],
   "source": [
    "for r in recipes:\n",
    "    with open(f'individual/{r.title}.txt', 'w+') as f:\n",
    "        f.write(recipe_to_string(r))"
   ]
  },
  {
   "cell_type": "code",
   "execution_count": null,
   "id": "4210e1a9",
   "metadata": {},
   "outputs": [],
   "source": []
  }
 ],
 "metadata": {
  "kernelspec": {
   "display_name": "Python 3 (ipykernel)",
   "language": "python",
   "name": "python3"
  },
  "language_info": {
   "codemirror_mode": {
    "name": "ipython",
    "version": 3
   },
   "file_extension": ".py",
   "mimetype": "text/x-python",
   "name": "python",
   "nbconvert_exporter": "python",
   "pygments_lexer": "ipython3",
   "version": "3.8.10"
  }
 },
 "nbformat": 4,
 "nbformat_minor": 5
}
