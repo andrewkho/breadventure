{
 "cells": [
  {
   "cell_type": "code",
   "execution_count": 1,
   "metadata": {},
   "outputs": [],
   "source": [
    "import time\n",
    "import math\n",
    "import os\n",
    "import torch.nn as nn\n",
    "\n",
    "import torch.onnx\n",
    "import torch\n",
    "from torch.autograd import Variable\n",
    "\n",
    "import model as rnn_model\n",
    "import data"
   ]
  },
  {
   "cell_type": "code",
   "execution_count": 8,
   "metadata": {},
   "outputs": [],
   "source": [
    "args_seed = 1234\n",
    "args_temperature = 1.\n",
    "args_data = '../data/wikitext-2'\n",
    "args_model = 'LSTM'\n",
    "args_emsize = 200\n",
    "args_nhid = 200\n",
    "args_nlayers = 2\n",
    "args_lr = 20\n",
    "args_clip = 0.25\n",
    "args_epochs = 40\n",
    "args_batch_size = 20\n",
    "args_bptt = 35\n",
    "args_dropout = 0.2\n",
    "args_log_interval = 200\n",
    "args_save = 'model.pt'\n",
    "args_tied = True"
   ]
  },
  {
   "cell_type": "code",
   "execution_count": 24,
   "metadata": {},
   "outputs": [
    {
     "name": "stdout",
     "output_type": "stream",
     "text": [
      "using device: cuda\n"
     ]
    }
   ],
   "source": [
    "torch.manual_seed(args_seed)\n",
    "\n",
    "device = torch.device(\"cuda\" if torch.cuda.is_available() else \"cpu\")\n",
    "\n",
    "print(f'using device: {device}')"
   ]
  },
  {
   "cell_type": "code",
   "execution_count": 25,
   "metadata": {},
   "outputs": [],
   "source": [
    "###############################################################################\n",
    "# Load data\n",
    "###############################################################################\n",
    "\n",
    "corpus = data.Corpus(args_data)"
   ]
  },
  {
   "cell_type": "code",
   "execution_count": 26,
   "metadata": {},
   "outputs": [],
   "source": [
    "# Starting from sequential data, batchify arranges the dataset into columns.\n",
    "# For instance, with the alphabet as the sequence and batch size 4, we'd get\n",
    "# ┌ a g m s ┐\n",
    "# │ b h n t │\n",
    "# │ c i o u │\n",
    "# │ d j p v │\n",
    "# │ e k q w │\n",
    "# └ f l r x ┘.\n",
    "# These columns are treated as independent by the model, which means that the\n",
    "# dependence of e. g. 'g' on 'f' can not be learned, but allows more efficient\n",
    "# batch processing.\n",
    "\n",
    "def batchify(data, bsz):\n",
    "    # Work out how cleanly we can divide the dataset into bsz parts.\n",
    "    nbatch = data.size(0) // bsz\n",
    "    # Trim off any extra elements that wouldn't cleanly fit (remainders).\n",
    "    data = data.narrow(0, 0, nbatch * bsz)\n",
    "    # Evenly divide the data across the bsz batches.\n",
    "    data = data.view(bsz, -1).t().contiguous()\n",
    "    return data.to(device)\n",
    "\n",
    "eval_batch_size = 10\n",
    "train_data = batchify(corpus.train, args_batch_size)\n",
    "val_data = batchify(corpus.valid, eval_batch_size)\n",
    "test_data = batchify(corpus.test, eval_batch_size)"
   ]
  },
  {
   "cell_type": "code",
   "execution_count": 27,
   "metadata": {},
   "outputs": [],
   "source": [
    "###############################################################################\n",
    "# Build the model\n",
    "###############################################################################\n",
    "\n",
    "ntokens = len(corpus.dictionary)\n",
    "model = rnn_model.RNNModel(args_model, ntokens, args_emsize, args_nhid, args_nlayers, args_dropout, args_tied).to(device)\n",
    "\n",
    "criterion = nn.CrossEntropyLoss()"
   ]
  },
  {
   "cell_type": "code",
   "execution_count": 28,
   "metadata": {},
   "outputs": [],
   "source": [
    "###############################################################################\n",
    "# Training code\n",
    "###############################################################################\n",
    "\n",
    "def repackage_hidden(h):\n",
    "    \"\"\"Wraps hidden states in new Tensors, to detach them from their history.\"\"\"\n",
    "    if isinstance(h, torch.Tensor):\n",
    "        return h.detach()\n",
    "    else:\n",
    "        return tuple(repackage_hidden(v) for v in h)"
   ]
  },
  {
   "cell_type": "code",
   "execution_count": 29,
   "metadata": {},
   "outputs": [],
   "source": [
    "# get_batch subdivides the source data into chunks of length args.bptt.\n",
    "# If source is equal to the example output of the batchify function, with\n",
    "# a bptt-limit of 2, we'd get the following two Variables for i = 0:\n",
    "# ┌ a g m s ┐ ┌ b h n t ┐\n",
    "# └ b h n t ┘ └ c i o u ┘\n",
    "# Note that despite the name of the function, the subdivison of data is not\n",
    "# done along the batch dimension (i.e. dimension 1), since that was handled\n",
    "# by the batchify function. The chunks are along dimension 0, corresponding\n",
    "# to the seq_len dimension in the LSTM.\n",
    "\n",
    "def get_batch(source, i):\n",
    "    seq_len = min(args_bptt, len(source) - 1 - i)\n",
    "    data = source[i:i+seq_len]\n",
    "    target = source[i+1:i+1+seq_len].view(-1)\n",
    "    return data, target\n",
    "\n",
    "\n",
    "def evaluate(data_source):\n",
    "    # Turn on evaluation mode which disables dropout.\n",
    "    model.eval()\n",
    "    total_loss = 0.\n",
    "    ntokens = len(corpus.dictionary)\n",
    "    hidden = model.init_hidden(eval_batch_size)\n",
    "    with torch.no_grad():\n",
    "        for i in range(0, data_source.size(0) - 1, args_bptt):\n",
    "            data, targets = get_batch(data_source, i)\n",
    "            output, hidden = model(data, hidden)\n",
    "            output_flat = output.view(-1, ntokens)\n",
    "            total_loss += len(data) * criterion(output_flat, targets).item()\n",
    "            hidden = repackage_hidden(hidden)\n",
    "    return total_loss / len(data_source)\n",
    "\n",
    "\n",
    "def train():\n",
    "    # Turn on training mode which enables dropout.\n",
    "    model.train()\n",
    "    total_loss = 0.\n",
    "    start_time = time.time()\n",
    "    ntokens = len(corpus.dictionary)\n",
    "    hidden = model.init_hidden(args_batch_size)\n",
    "    for batch, i in enumerate(range(0, train_data.size(0) - 1, args_bptt)):\n",
    "        data, targets = get_batch(train_data, i)\n",
    "        # Starting each batch, we detach the hidden state from how it was previously produced.\n",
    "        # If we didn't, the model would try backpropagating all the way to start of the dataset.\n",
    "        hidden = repackage_hidden(hidden)\n",
    "        model.zero_grad()\n",
    "        output, hidden = model(data, hidden)\n",
    "        loss = criterion(output.view(-1, ntokens), targets)\n",
    "        loss.backward()\n",
    "\n",
    "        # `clip_grad_norm` helps prevent the exploding gradient problem in RNNs / LSTMs.\n",
    "        torch.nn.utils.clip_grad_norm(model.parameters(), args_clip)\n",
    "        for p in model.parameters():\n",
    "            p.data.add_(-lr, p.grad.data)\n",
    "\n",
    "        total_loss += loss.item()\n",
    "\n",
    "        if batch % args_log_interval == 0 and batch > 0:\n",
    "            cur_loss = total_loss / args_log_interval\n",
    "            elapsed = time.time() - start_time\n",
    "            print('| epoch {:3d} | {:5d}/{:5d} batches | lr {:02.2f} | ms/batch {:5.2f} | '\n",
    "                    'loss {:5.2f} | ppl {:8.2f}'.format(\n",
    "                epoch, batch, len(train_data) // args_bptt, lr,\n",
    "                elapsed * 1000 / args_log_interval, cur_loss, math.exp(cur_loss)))\n",
    "            total_loss = 0\n",
    "            start_time = time.time()\n"
   ]
  },
  {
   "cell_type": "code",
   "execution_count": 30,
   "metadata": {},
   "outputs": [
    {
     "name": "stderr",
     "output_type": "stream",
     "text": [
      "/Users/andrew/miniconda3/envs/breadventure/lib/python3.6/site-packages/ipykernel_launcher.py:52: UserWarning: torch.nn.utils.clip_grad_norm is now deprecated in favor of torch.nn.utils.clip_grad_norm_.\n"
     ]
    },
    {
     "name": "stdout",
     "output_type": "stream",
     "text": [
      "| epoch   1 |   200/ 2983 batches | lr 20.00 | ms/batch 25.36 | loss  7.61 | ppl  2011.34\n",
      "| epoch   1 |   400/ 2983 batches | lr 20.00 | ms/batch 24.98 | loss  6.76 | ppl   859.31\n",
      "| epoch   1 |   600/ 2983 batches | lr 20.00 | ms/batch 24.94 | loss  6.35 | ppl   573.49\n",
      "| epoch   1 |   800/ 2983 batches | lr 20.00 | ms/batch 25.00 | loss  6.19 | ppl   489.42\n",
      "| epoch   1 |  1000/ 2983 batches | lr 20.00 | ms/batch 25.93 | loss  6.05 | ppl   423.40\n",
      "| epoch   1 |  1200/ 2983 batches | lr 20.00 | ms/batch 25.36 | loss  5.97 | ppl   391.77\n",
      "| epoch   1 |  1400/ 2983 batches | lr 20.00 | ms/batch 25.76 | loss  5.86 | ppl   350.52\n",
      "| epoch   1 |  1600/ 2983 batches | lr 20.00 | ms/batch 25.56 | loss  5.86 | ppl   350.69\n",
      "| epoch   1 |  1800/ 2983 batches | lr 20.00 | ms/batch 25.70 | loss  5.70 | ppl   299.48\n",
      "| epoch   1 |  2000/ 2983 batches | lr 20.00 | ms/batch 25.38 | loss  5.67 | ppl   290.72\n",
      "| epoch   1 |  2200/ 2983 batches | lr 20.00 | ms/batch 25.58 | loss  5.57 | ppl   262.28\n",
      "| epoch   1 |  2400/ 2983 batches | lr 20.00 | ms/batch 25.54 | loss  5.58 | ppl   265.56\n",
      "| epoch   1 |  2600/ 2983 batches | lr 20.00 | ms/batch 25.78 | loss  5.57 | ppl   261.30\n",
      "| epoch   1 |  2800/ 2983 batches | lr 20.00 | ms/batch 25.31 | loss  5.46 | ppl   235.21\n",
      "-----------------------------------------------------------------------------------------\n",
      "| end of epoch   1 | time: 78.69s | valid loss  5.41 | valid ppl   224.38\n",
      "-----------------------------------------------------------------------------------------\n",
      "| epoch   2 |   200/ 2983 batches | lr 20.00 | ms/batch 25.49 | loss  5.46 | ppl   234.33\n",
      "| epoch   2 |   400/ 2983 batches | lr 20.00 | ms/batch 26.62 | loss  5.45 | ppl   232.08\n",
      "| epoch   2 |   600/ 2983 batches | lr 20.00 | ms/batch 25.63 | loss  5.28 | ppl   195.48\n",
      "| epoch   2 |   800/ 2983 batches | lr 20.00 | ms/batch 25.64 | loss  5.29 | ppl   198.20\n",
      "| epoch   2 |  1000/ 2983 batches | lr 20.00 | ms/batch 25.91 | loss  5.26 | ppl   192.20\n",
      "| epoch   2 |  1200/ 2983 batches | lr 20.00 | ms/batch 27.91 | loss  5.25 | ppl   190.93\n",
      "| epoch   2 |  1400/ 2983 batches | lr 20.00 | ms/batch 25.97 | loss  5.25 | ppl   190.68\n",
      "| epoch   2 |  1600/ 2983 batches | lr 20.00 | ms/batch 25.56 | loss  5.31 | ppl   203.02\n",
      "| epoch   2 |  1800/ 2983 batches | lr 20.00 | ms/batch 25.85 | loss  5.18 | ppl   177.28\n",
      "| epoch   2 |  2000/ 2983 batches | lr 20.00 | ms/batch 25.35 | loss  5.20 | ppl   181.64\n",
      "| epoch   2 |  2200/ 2983 batches | lr 20.00 | ms/batch 25.08 | loss  5.11 | ppl   165.67\n",
      "| epoch   2 |  2400/ 2983 batches | lr 20.00 | ms/batch 25.13 | loss  5.14 | ppl   171.11\n",
      "| epoch   2 |  2600/ 2983 batches | lr 20.00 | ms/batch 25.27 | loss  5.16 | ppl   173.33\n",
      "| epoch   2 |  2800/ 2983 batches | lr 20.00 | ms/batch 25.75 | loss  5.07 | ppl   159.43\n",
      "-----------------------------------------------------------------------------------------\n",
      "| end of epoch   2 | time: 80.34s | valid loss  5.18 | valid ppl   177.56\n",
      "-----------------------------------------------------------------------------------------\n",
      "| epoch   3 |   200/ 2983 batches | lr 20.00 | ms/batch 28.47 | loss  5.12 | ppl   167.85\n",
      "| epoch   3 |   400/ 2983 batches | lr 20.00 | ms/batch 26.25 | loss  5.14 | ppl   170.22\n",
      "| epoch   3 |   600/ 2983 batches | lr 20.00 | ms/batch 25.19 | loss  4.97 | ppl   143.67\n",
      "| epoch   3 |   800/ 2983 batches | lr 20.00 | ms/batch 25.11 | loss  5.01 | ppl   150.09\n",
      "| epoch   3 |  1000/ 2983 batches | lr 20.00 | ms/batch 25.03 | loss  5.00 | ppl   147.84\n",
      "| epoch   3 |  1200/ 2983 batches | lr 20.00 | ms/batch 25.13 | loss  5.00 | ppl   149.07\n",
      "| epoch   3 |  1400/ 2983 batches | lr 20.00 | ms/batch 25.09 | loss  5.02 | ppl   151.90\n",
      "| epoch   3 |  1600/ 2983 batches | lr 20.00 | ms/batch 24.98 | loss  5.10 | ppl   164.33\n",
      "| epoch   3 |  1800/ 2983 batches | lr 20.00 | ms/batch 25.02 | loss  4.97 | ppl   143.95\n",
      "| epoch   3 |  2000/ 2983 batches | lr 20.00 | ms/batch 26.36 | loss  5.01 | ppl   150.06\n",
      "| epoch   3 |  2200/ 2983 batches | lr 20.00 | ms/batch 28.27 | loss  4.91 | ppl   136.13\n",
      "| epoch   3 |  2400/ 2983 batches | lr 20.00 | ms/batch 27.31 | loss  4.95 | ppl   141.57\n",
      "| epoch   3 |  2600/ 2983 batches | lr 20.00 | ms/batch 25.76 | loss  4.97 | ppl   144.38\n",
      "| epoch   3 |  2800/ 2983 batches | lr 20.00 | ms/batch 25.43 | loss  4.90 | ppl   134.70\n",
      "-----------------------------------------------------------------------------------------\n",
      "| end of epoch   3 | time: 80.09s | valid loss  5.06 | valid ppl   158.03\n",
      "-----------------------------------------------------------------------------------------\n",
      "| epoch   4 |   200/ 2983 batches | lr 20.00 | ms/batch 25.86 | loss  4.95 | ppl   141.80\n",
      "| epoch   4 |   400/ 2983 batches | lr 20.00 | ms/batch 25.29 | loss  4.98 | ppl   145.54\n",
      "| epoch   4 |   600/ 2983 batches | lr 20.00 | ms/batch 25.24 | loss  4.81 | ppl   122.36\n",
      "| epoch   4 |   800/ 2983 batches | lr 20.00 | ms/batch 25.39 | loss  4.86 | ppl   129.63\n",
      "| epoch   4 |  1000/ 2983 batches | lr 20.00 | ms/batch 25.31 | loss  4.86 | ppl   129.41\n",
      "| epoch   4 |  1200/ 2983 batches | lr 20.00 | ms/batch 25.30 | loss  4.87 | ppl   130.26\n",
      "| epoch   4 |  1400/ 2983 batches | lr 20.00 | ms/batch 25.92 | loss  4.90 | ppl   134.77\n",
      "| epoch   4 |  1600/ 2983 batches | lr 20.00 | ms/batch 28.74 | loss  4.98 | ppl   145.28\n",
      "| epoch   4 |  1800/ 2983 batches | lr 20.00 | ms/batch 26.12 | loss  4.85 | ppl   128.23\n",
      "| epoch   4 |  2000/ 2983 batches | lr 20.00 | ms/batch 26.25 | loss  4.90 | ppl   133.72\n",
      "| epoch   4 |  2200/ 2983 batches | lr 20.00 | ms/batch 26.58 | loss  4.79 | ppl   120.71\n",
      "| epoch   4 |  2400/ 2983 batches | lr 20.00 | ms/batch 26.39 | loss  4.84 | ppl   126.01\n",
      "| epoch   4 |  2600/ 2983 batches | lr 20.00 | ms/batch 25.40 | loss  4.86 | ppl   129.29\n",
      "| epoch   4 |  2800/ 2983 batches | lr 20.00 | ms/batch 25.71 | loss  4.79 | ppl   120.50\n",
      "-----------------------------------------------------------------------------------------\n",
      "| end of epoch   4 | time: 80.60s | valid loss  5.00 | valid ppl   148.54\n",
      "-----------------------------------------------------------------------------------------\n",
      "| epoch   5 |   200/ 2983 batches | lr 20.00 | ms/batch 26.39 | loss  4.85 | ppl   128.24\n",
      "| epoch   5 |   400/ 2983 batches | lr 20.00 | ms/batch 25.72 | loss  4.88 | ppl   131.41\n",
      "| epoch   5 |   600/ 2983 batches | lr 20.00 | ms/batch 25.70 | loss  4.71 | ppl   110.70\n",
      "| epoch   5 |   800/ 2983 batches | lr 20.00 | ms/batch 27.31 | loss  4.76 | ppl   117.21\n",
      "| epoch   5 |  1000/ 2983 batches | lr 20.00 | ms/batch 25.90 | loss  4.77 | ppl   118.35\n",
      "| epoch   5 |  1200/ 2983 batches | lr 20.00 | ms/batch 25.64 | loss  4.78 | ppl   119.03\n",
      "| epoch   5 |  1400/ 2983 batches | lr 20.00 | ms/batch 25.74 | loss  4.82 | ppl   123.61\n",
      "| epoch   5 |  1600/ 2983 batches | lr 20.00 | ms/batch 25.70 | loss  4.89 | ppl   133.09\n",
      "| epoch   5 |  1800/ 2983 batches | lr 20.00 | ms/batch 26.08 | loss  4.77 | ppl   118.13\n",
      "| epoch   5 |  2000/ 2983 batches | lr 20.00 | ms/batch 26.01 | loss  4.82 | ppl   123.44\n",
      "| epoch   5 |  2200/ 2983 batches | lr 20.00 | ms/batch 26.07 | loss  4.71 | ppl   110.81\n",
      "| epoch   5 |  2400/ 2983 batches | lr 20.00 | ms/batch 26.30 | loss  4.75 | ppl   116.04\n",
      "| epoch   5 |  2600/ 2983 batches | lr 20.00 | ms/batch 26.76 | loss  4.78 | ppl   119.65\n",
      "| epoch   5 |  2800/ 2983 batches | lr 20.00 | ms/batch 25.57 | loss  4.72 | ppl   112.01\n",
      "-----------------------------------------------------------------------------------------\n",
      "| end of epoch   5 | time: 80.55s | valid loss  4.98 | valid ppl   145.15\n",
      "-----------------------------------------------------------------------------------------\n",
      "| epoch   6 |   200/ 2983 batches | lr 20.00 | ms/batch 28.05 | loss  4.78 | ppl   118.58\n",
      "| epoch   6 |   400/ 2983 batches | lr 20.00 | ms/batch 27.45 | loss  4.80 | ppl   121.92\n",
      "| epoch   6 |   600/ 2983 batches | lr 20.00 | ms/batch 25.55 | loss  4.63 | ppl   102.68\n",
      "| epoch   6 |   800/ 2983 batches | lr 20.00 | ms/batch 25.45 | loss  4.69 | ppl   109.08\n",
      "| epoch   6 |  1000/ 2983 batches | lr 20.00 | ms/batch 25.44 | loss  4.70 | ppl   109.99\n",
      "| epoch   6 |  1200/ 2983 batches | lr 20.00 | ms/batch 25.45 | loss  4.71 | ppl   111.08\n",
      "| epoch   6 |  1400/ 2983 batches | lr 20.00 | ms/batch 25.42 | loss  4.76 | ppl   116.58\n"
     ]
    },
    {
     "name": "stdout",
     "output_type": "stream",
     "text": [
      "| epoch   6 |  1600/ 2983 batches | lr 20.00 | ms/batch 25.39 | loss  4.82 | ppl   124.57\n",
      "| epoch   6 |  1800/ 2983 batches | lr 20.00 | ms/batch 27.21 | loss  4.71 | ppl   111.21\n",
      "| epoch   6 |  2000/ 2983 batches | lr 20.00 | ms/batch 28.63 | loss  4.76 | ppl   116.52\n",
      "| epoch   6 |  2200/ 2983 batches | lr 20.00 | ms/batch 28.37 | loss  4.64 | ppl   103.78\n",
      "| epoch   6 |  2400/ 2983 batches | lr 20.00 | ms/batch 25.78 | loss  4.69 | ppl   109.37\n",
      "| epoch   6 |  2600/ 2983 batches | lr 20.00 | ms/batch 26.27 | loss  4.72 | ppl   112.36\n",
      "| epoch   6 |  2800/ 2983 batches | lr 20.00 | ms/batch 27.10 | loss  4.66 | ppl   105.57\n",
      "-----------------------------------------------------------------------------------------\n",
      "| end of epoch   6 | time: 81.94s | valid loss  4.94 | valid ppl   139.71\n",
      "-----------------------------------------------------------------------------------------\n",
      "| epoch   7 |   200/ 2983 batches | lr 20.00 | ms/batch 26.11 | loss  4.72 | ppl   111.74\n",
      "| epoch   7 |   400/ 2983 batches | lr 20.00 | ms/batch 26.00 | loss  4.75 | ppl   115.97\n",
      "| epoch   7 |   600/ 2983 batches | lr 20.00 | ms/batch 26.05 | loss  4.58 | ppl    97.37\n",
      "| epoch   7 |   800/ 2983 batches | lr 20.00 | ms/batch 26.88 | loss  4.64 | ppl   103.27\n",
      "| epoch   7 |  1000/ 2983 batches | lr 20.00 | ms/batch 26.49 | loss  4.65 | ppl   104.66\n",
      "| epoch   7 |  1200/ 2983 batches | lr 20.00 | ms/batch 26.13 | loss  4.66 | ppl   105.61\n",
      "| epoch   7 |  1400/ 2983 batches | lr 20.00 | ms/batch 26.07 | loss  4.70 | ppl   110.39\n",
      "| epoch   7 |  1600/ 2983 batches | lr 20.00 | ms/batch 26.05 | loss  4.78 | ppl   119.13\n",
      "| epoch   7 |  1800/ 2983 batches | lr 20.00 | ms/batch 27.56 | loss  4.67 | ppl   106.54\n",
      "| epoch   7 |  2000/ 2983 batches | lr 20.00 | ms/batch 29.24 | loss  4.71 | ppl   110.94\n",
      "| epoch   7 |  2200/ 2983 batches | lr 20.00 | ms/batch 27.01 | loss  4.60 | ppl    99.17\n",
      "| epoch   7 |  2400/ 2983 batches | lr 20.00 | ms/batch 26.33 | loss  4.65 | ppl   104.37\n",
      "| epoch   7 |  2600/ 2983 batches | lr 20.00 | ms/batch 28.24 | loss  4.67 | ppl   106.99\n",
      "| epoch   7 |  2800/ 2983 batches | lr 20.00 | ms/batch 26.32 | loss  4.62 | ppl   101.45\n",
      "-----------------------------------------------------------------------------------------\n",
      "| end of epoch   7 | time: 82.68s | valid loss  4.94 | valid ppl   139.12\n",
      "-----------------------------------------------------------------------------------------\n",
      "| epoch   8 |   200/ 2983 batches | lr 20.00 | ms/batch 26.02 | loss  4.67 | ppl   106.89\n",
      "| epoch   8 |   400/ 2983 batches | lr 20.00 | ms/batch 26.00 | loss  4.70 | ppl   110.43\n",
      "| epoch   8 |   600/ 2983 batches | lr 20.00 | ms/batch 26.65 | loss  4.53 | ppl    92.68\n",
      "| epoch   8 |   800/ 2983 batches | lr 20.00 | ms/batch 26.45 | loss  4.59 | ppl    98.54\n",
      "| epoch   8 |  1000/ 2983 batches | lr 20.00 | ms/batch 25.87 | loss  4.61 | ppl   100.58\n",
      "| epoch   8 |  1200/ 2983 batches | lr 20.00 | ms/batch 26.37 | loss  4.62 | ppl   101.86\n",
      "| epoch   8 |  1400/ 2983 batches | lr 20.00 | ms/batch 26.05 | loss  4.66 | ppl   105.95\n",
      "| epoch   8 |  1600/ 2983 batches | lr 20.00 | ms/batch 25.77 | loss  4.74 | ppl   114.08\n",
      "| epoch   8 |  1800/ 2983 batches | lr 20.00 | ms/batch 26.13 | loss  4.63 | ppl   102.19\n",
      "| epoch   8 |  2000/ 2983 batches | lr 20.00 | ms/batch 29.01 | loss  4.68 | ppl   107.42\n",
      "| epoch   8 |  2200/ 2983 batches | lr 20.00 | ms/batch 27.41 | loss  4.56 | ppl    95.26\n",
      "| epoch   8 |  2400/ 2983 batches | lr 20.00 | ms/batch 27.25 | loss  4.60 | ppl    99.86\n",
      "| epoch   8 |  2600/ 2983 batches | lr 20.00 | ms/batch 26.71 | loss  4.64 | ppl   103.92\n",
      "| epoch   8 |  2800/ 2983 batches | lr 20.00 | ms/batch 28.03 | loss  4.58 | ppl    97.63\n",
      "-----------------------------------------------------------------------------------------\n",
      "| end of epoch   8 | time: 82.42s | valid loss  4.94 | valid ppl   139.26\n",
      "-----------------------------------------------------------------------------------------\n",
      "| epoch   9 |   200/ 2983 batches | lr 5.00 | ms/batch 26.09 | loss  4.68 | ppl   107.79\n",
      "| epoch   9 |   400/ 2983 batches | lr 5.00 | ms/batch 26.21 | loss  4.67 | ppl   107.16\n",
      "| epoch   9 |   600/ 2983 batches | lr 5.00 | ms/batch 28.52 | loss  4.50 | ppl    89.65\n",
      "| epoch   9 |   800/ 2983 batches | lr 5.00 | ms/batch 26.98 | loss  4.54 | ppl    94.12\n",
      "| epoch   9 |  1000/ 2983 batches | lr 5.00 | ms/batch 25.56 | loss  4.54 | ppl    93.46\n",
      "| epoch   9 |  1200/ 2983 batches | lr 5.00 | ms/batch 25.54 | loss  4.52 | ppl    91.84\n",
      "| epoch   9 |  1400/ 2983 batches | lr 5.00 | ms/batch 25.93 | loss  4.54 | ppl    93.91\n",
      "| epoch   9 |  1600/ 2983 batches | lr 5.00 | ms/batch 26.90 | loss  4.60 | ppl    99.46\n",
      "| epoch   9 |  1800/ 2983 batches | lr 5.00 | ms/batch 26.18 | loss  4.48 | ppl    88.36\n",
      "| epoch   9 |  2000/ 2983 batches | lr 5.00 | ms/batch 26.54 | loss  4.51 | ppl    91.26\n",
      "| epoch   9 |  2200/ 2983 batches | lr 5.00 | ms/batch 28.54 | loss  4.38 | ppl    79.93\n",
      "| epoch   9 |  2400/ 2983 batches | lr 5.00 | ms/batch 28.03 | loss  4.41 | ppl    82.49\n",
      "| epoch   9 |  2600/ 2983 batches | lr 5.00 | ms/batch 26.92 | loss  4.43 | ppl    83.87\n",
      "| epoch   9 |  2800/ 2983 batches | lr 5.00 | ms/batch 26.01 | loss  4.35 | ppl    77.60\n",
      "-----------------------------------------------------------------------------------------\n",
      "| end of epoch   9 | time: 82.37s | valid loss  4.78 | valid ppl   118.53\n",
      "-----------------------------------------------------------------------------------------\n",
      "| epoch  10 |   200/ 2983 batches | lr 5.00 | ms/batch 26.34 | loss  4.53 | ppl    92.39\n",
      "| epoch  10 |   400/ 2983 batches | lr 5.00 | ms/batch 28.06 | loss  4.55 | ppl    94.57\n",
      "| epoch  10 |   600/ 2983 batches | lr 5.00 | ms/batch 27.60 | loss  4.38 | ppl    79.81\n",
      "| epoch  10 |   800/ 2983 batches | lr 5.00 | ms/batch 28.14 | loss  4.44 | ppl    84.59\n",
      "| epoch  10 |  1000/ 2983 batches | lr 5.00 | ms/batch 28.16 | loss  4.44 | ppl    84.84\n",
      "| epoch  10 |  1200/ 2983 batches | lr 5.00 | ms/batch 26.69 | loss  4.44 | ppl    84.67\n",
      "| epoch  10 |  1400/ 2983 batches | lr 5.00 | ms/batch 25.47 | loss  4.47 | ppl    87.41\n",
      "| epoch  10 |  1600/ 2983 batches | lr 5.00 | ms/batch 25.51 | loss  4.54 | ppl    93.50\n",
      "| epoch  10 |  1800/ 2983 batches | lr 5.00 | ms/batch 26.09 | loss  4.42 | ppl    83.49\n",
      "| epoch  10 |  2000/ 2983 batches | lr 5.00 | ms/batch 26.36 | loss  4.46 | ppl    86.27\n",
      "| epoch  10 |  2200/ 2983 batches | lr 5.00 | ms/batch 26.19 | loss  4.33 | ppl    76.29\n",
      "| epoch  10 |  2400/ 2983 batches | lr 5.00 | ms/batch 26.94 | loss  4.37 | ppl    79.35\n",
      "| epoch  10 |  2600/ 2983 batches | lr 5.00 | ms/batch 27.25 | loss  4.40 | ppl    81.62\n",
      "| epoch  10 |  2800/ 2983 batches | lr 5.00 | ms/batch 25.56 | loss  4.33 | ppl    76.09\n",
      "-----------------------------------------------------------------------------------------\n",
      "| end of epoch  10 | time: 82.61s | valid loss  4.76 | valid ppl   117.05\n",
      "-----------------------------------------------------------------------------------------\n",
      "| epoch  11 |   200/ 2983 batches | lr 5.00 | ms/batch 26.49 | loss  4.47 | ppl    87.74\n",
      "| epoch  11 |   400/ 2983 batches | lr 5.00 | ms/batch 28.16 | loss  4.50 | ppl    90.02\n",
      "| epoch  11 |   600/ 2983 batches | lr 5.00 | ms/batch 26.60 | loss  4.33 | ppl    76.26\n",
      "| epoch  11 |   800/ 2983 batches | lr 5.00 | ms/batch 25.83 | loss  4.39 | ppl    80.72\n",
      "| epoch  11 |  1000/ 2983 batches | lr 5.00 | ms/batch 26.20 | loss  4.40 | ppl    81.42\n",
      "| epoch  11 |  1200/ 2983 batches | lr 5.00 | ms/batch 26.37 | loss  4.40 | ppl    81.47\n",
      "| epoch  11 |  1400/ 2983 batches | lr 5.00 | ms/batch 26.32 | loss  4.44 | ppl    84.49\n",
      "| epoch  11 |  1600/ 2983 batches | lr 5.00 | ms/batch 26.01 | loss  4.50 | ppl    90.37\n",
      "| epoch  11 |  1800/ 2983 batches | lr 5.00 | ms/batch 26.23 | loss  4.39 | ppl    80.66\n",
      "| epoch  11 |  2000/ 2983 batches | lr 5.00 | ms/batch 25.87 | loss  4.43 | ppl    84.10\n",
      "| epoch  11 |  2200/ 2983 batches | lr 5.00 | ms/batch 26.22 | loss  4.31 | ppl    74.09\n",
      "| epoch  11 |  2400/ 2983 batches | lr 5.00 | ms/batch 25.83 | loss  4.35 | ppl    77.31\n",
      "| epoch  11 |  2600/ 2983 batches | lr 5.00 | ms/batch 25.75 | loss  4.38 | ppl    79.75\n",
      "| epoch  11 |  2800/ 2983 batches | lr 5.00 | ms/batch 25.73 | loss  4.31 | ppl    74.63\n",
      "-----------------------------------------------------------------------------------------\n",
      "| end of epoch  11 | time: 81.13s | valid loss  4.75 | valid ppl   115.27\n",
      "-----------------------------------------------------------------------------------------\n"
     ]
    },
    {
     "name": "stdout",
     "output_type": "stream",
     "text": [
      "| epoch  12 |   200/ 2983 batches | lr 5.00 | ms/batch 26.17 | loss  4.44 | ppl    84.93\n",
      "| epoch  12 |   400/ 2983 batches | lr 5.00 | ms/batch 25.96 | loss  4.47 | ppl    87.22\n",
      "| epoch  12 |   600/ 2983 batches | lr 5.00 | ms/batch 26.05 | loss  4.30 | ppl    73.69\n",
      "| epoch  12 |   800/ 2983 batches | lr 5.00 | ms/batch 27.24 | loss  4.36 | ppl    77.93\n",
      "| epoch  12 |  1000/ 2983 batches | lr 5.00 | ms/batch 29.61 | loss  4.37 | ppl    79.08\n",
      "| epoch  12 |  1200/ 2983 batches | lr 5.00 | ms/batch 28.39 | loss  4.38 | ppl    79.48\n",
      "| epoch  12 |  1400/ 2983 batches | lr 5.00 | ms/batch 28.70 | loss  4.41 | ppl    81.98\n",
      "| epoch  12 |  1600/ 2983 batches | lr 5.00 | ms/batch 25.62 | loss  4.47 | ppl    87.67\n",
      "| epoch  12 |  1800/ 2983 batches | lr 5.00 | ms/batch 25.55 | loss  4.36 | ppl    78.64\n",
      "| epoch  12 |  2000/ 2983 batches | lr 5.00 | ms/batch 25.59 | loss  4.41 | ppl    81.90\n",
      "| epoch  12 |  2200/ 2983 batches | lr 5.00 | ms/batch 25.64 | loss  4.29 | ppl    72.84\n",
      "| epoch  12 |  2400/ 2983 batches | lr 5.00 | ms/batch 25.61 | loss  4.33 | ppl    76.09\n",
      "| epoch  12 |  2600/ 2983 batches | lr 5.00 | ms/batch 25.62 | loss  4.36 | ppl    78.16\n",
      "| epoch  12 |  2800/ 2983 batches | lr 5.00 | ms/batch 27.00 | loss  4.30 | ppl    73.35\n",
      "-----------------------------------------------------------------------------------------\n",
      "| end of epoch  12 | time: 82.48s | valid loss  4.74 | valid ppl   114.78\n",
      "-----------------------------------------------------------------------------------------\n",
      "| epoch  13 |   200/ 2983 batches | lr 5.00 | ms/batch 28.28 | loss  4.41 | ppl    82.67\n",
      "| epoch  13 |   400/ 2983 batches | lr 5.00 | ms/batch 27.28 | loss  4.44 | ppl    84.89\n",
      "| epoch  13 |   600/ 2983 batches | lr 5.00 | ms/batch 27.97 | loss  4.27 | ppl    71.76\n",
      "| epoch  13 |   800/ 2983 batches | lr 5.00 | ms/batch 28.06 | loss  4.33 | ppl    75.81\n",
      "| epoch  13 |  1000/ 2983 batches | lr 5.00 | ms/batch 25.89 | loss  4.35 | ppl    77.29\n",
      "| epoch  13 |  1200/ 2983 batches | lr 5.00 | ms/batch 25.76 | loss  4.35 | ppl    77.50\n",
      "| epoch  13 |  1400/ 2983 batches | lr 5.00 | ms/batch 26.78 | loss  4.38 | ppl    80.18\n",
      "| epoch  13 |  1600/ 2983 batches | lr 5.00 | ms/batch 25.65 | loss  4.45 | ppl    86.04\n",
      "| epoch  13 |  1800/ 2983 batches | lr 5.00 | ms/batch 25.47 | loss  4.35 | ppl    77.20\n",
      "| epoch  13 |  2000/ 2983 batches | lr 5.00 | ms/batch 25.55 | loss  4.39 | ppl    80.51\n",
      "| epoch  13 |  2200/ 2983 batches | lr 5.00 | ms/batch 25.46 | loss  4.27 | ppl    71.39\n",
      "| epoch  13 |  2400/ 2983 batches | lr 5.00 | ms/batch 25.57 | loss  4.31 | ppl    74.20\n",
      "| epoch  13 |  2600/ 2983 batches | lr 5.00 | ms/batch 25.54 | loss  4.34 | ppl    76.99\n",
      "| epoch  13 |  2800/ 2983 batches | lr 5.00 | ms/batch 25.57 | loss  4.28 | ppl    72.30\n",
      "-----------------------------------------------------------------------------------------\n",
      "| end of epoch  13 | time: 81.14s | valid loss  4.74 | valid ppl   114.18\n",
      "-----------------------------------------------------------------------------------------\n",
      "| epoch  14 |   200/ 2983 batches | lr 5.00 | ms/batch 25.63 | loss  4.39 | ppl    80.74\n",
      "| epoch  14 |   400/ 2983 batches | lr 5.00 | ms/batch 25.43 | loss  4.42 | ppl    82.74\n",
      "| epoch  14 |   600/ 2983 batches | lr 5.00 | ms/batch 25.43 | loss  4.25 | ppl    70.15\n",
      "| epoch  14 |   800/ 2983 batches | lr 5.00 | ms/batch 25.42 | loss  4.31 | ppl    74.09\n",
      "| epoch  14 |  1000/ 2983 batches | lr 5.00 | ms/batch 25.44 | loss  4.32 | ppl    75.31\n",
      "| epoch  14 |  1200/ 2983 batches | lr 5.00 | ms/batch 25.44 | loss  4.33 | ppl    75.91\n",
      "| epoch  14 |  1400/ 2983 batches | lr 5.00 | ms/batch 25.45 | loss  4.36 | ppl    78.52\n",
      "| epoch  14 |  1600/ 2983 batches | lr 5.00 | ms/batch 25.46 | loss  4.44 | ppl    84.37\n",
      "| epoch  14 |  1800/ 2983 batches | lr 5.00 | ms/batch 25.40 | loss  4.33 | ppl    75.86\n",
      "| epoch  14 |  2000/ 2983 batches | lr 5.00 | ms/batch 25.44 | loss  4.37 | ppl    78.91\n",
      "| epoch  14 |  2200/ 2983 batches | lr 5.00 | ms/batch 25.46 | loss  4.25 | ppl    70.10\n",
      "| epoch  14 |  2400/ 2983 batches | lr 5.00 | ms/batch 25.45 | loss  4.30 | ppl    73.34\n",
      "| epoch  14 |  2600/ 2983 batches | lr 5.00 | ms/batch 26.53 | loss  4.33 | ppl    75.79\n",
      "| epoch  14 |  2800/ 2983 batches | lr 5.00 | ms/batch 28.26 | loss  4.27 | ppl    71.38\n",
      "-----------------------------------------------------------------------------------------\n",
      "| end of epoch  14 | time: 80.15s | valid loss  4.74 | valid ppl   113.96\n",
      "-----------------------------------------------------------------------------------------\n",
      "| epoch  15 |   200/ 2983 batches | lr 5.00 | ms/batch 25.63 | loss  4.37 | ppl    79.24\n",
      "| epoch  15 |   400/ 2983 batches | lr 5.00 | ms/batch 25.69 | loss  4.40 | ppl    81.19\n",
      "| epoch  15 |   600/ 2983 batches | lr 5.00 | ms/batch 28.57 | loss  4.23 | ppl    68.82\n",
      "| epoch  15 |   800/ 2983 batches | lr 5.00 | ms/batch 26.70 | loss  4.29 | ppl    72.71\n",
      "| epoch  15 |  1000/ 2983 batches | lr 5.00 | ms/batch 27.53 | loss  4.31 | ppl    74.39\n",
      "| epoch  15 |  1200/ 2983 batches | lr 5.00 | ms/batch 26.90 | loss  4.31 | ppl    74.38\n",
      "| epoch  15 |  1400/ 2983 batches | lr 5.00 | ms/batch 26.16 | loss  4.35 | ppl    77.60\n",
      "| epoch  15 |  1600/ 2983 batches | lr 5.00 | ms/batch 25.48 | loss  4.42 | ppl    83.17\n",
      "| epoch  15 |  1800/ 2983 batches | lr 5.00 | ms/batch 25.43 | loss  4.31 | ppl    74.77\n",
      "| epoch  15 |  2000/ 2983 batches | lr 5.00 | ms/batch 25.46 | loss  4.35 | ppl    77.69\n",
      "| epoch  15 |  2200/ 2983 batches | lr 5.00 | ms/batch 25.52 | loss  4.23 | ppl    68.98\n",
      "| epoch  15 |  2400/ 2983 batches | lr 5.00 | ms/batch 25.48 | loss  4.27 | ppl    71.77\n",
      "| epoch  15 |  2600/ 2983 batches | lr 5.00 | ms/batch 25.46 | loss  4.31 | ppl    74.37\n",
      "| epoch  15 |  2800/ 2983 batches | lr 5.00 | ms/batch 25.47 | loss  4.26 | ppl    70.52\n",
      "-----------------------------------------------------------------------------------------\n",
      "| end of epoch  15 | time: 80.45s | valid loss  4.73 | valid ppl   113.61\n",
      "-----------------------------------------------------------------------------------------\n",
      "| epoch  16 |   200/ 2983 batches | lr 5.00 | ms/batch 25.53 | loss  4.35 | ppl    77.37\n",
      "| epoch  16 |   400/ 2983 batches | lr 5.00 | ms/batch 25.42 | loss  4.38 | ppl    79.59\n",
      "| epoch  16 |   600/ 2983 batches | lr 5.00 | ms/batch 25.46 | loss  4.21 | ppl    67.62\n",
      "| epoch  16 |   800/ 2983 batches | lr 5.00 | ms/batch 25.51 | loss  4.27 | ppl    71.59\n",
      "| epoch  16 |  1000/ 2983 batches | lr 5.00 | ms/batch 25.49 | loss  4.29 | ppl    72.96\n",
      "| epoch  16 |  1200/ 2983 batches | lr 5.00 | ms/batch 25.41 | loss  4.30 | ppl    73.38\n",
      "| epoch  16 |  1400/ 2983 batches | lr 5.00 | ms/batch 25.42 | loss  4.33 | ppl    76.23\n",
      "| epoch  16 |  1600/ 2983 batches | lr 5.00 | ms/batch 25.42 | loss  4.40 | ppl    81.64\n",
      "| epoch  16 |  1800/ 2983 batches | lr 5.00 | ms/batch 25.47 | loss  4.30 | ppl    73.44\n",
      "| epoch  16 |  2000/ 2983 batches | lr 5.00 | ms/batch 25.44 | loss  4.34 | ppl    76.62\n",
      "| epoch  16 |  2200/ 2983 batches | lr 5.00 | ms/batch 25.42 | loss  4.22 | ppl    67.85\n",
      "| epoch  16 |  2400/ 2983 batches | lr 5.00 | ms/batch 25.40 | loss  4.26 | ppl    71.09\n",
      "| epoch  16 |  2600/ 2983 batches | lr 5.00 | ms/batch 25.38 | loss  4.30 | ppl    73.84\n",
      "| epoch  16 |  2800/ 2983 batches | lr 5.00 | ms/batch 25.39 | loss  4.24 | ppl    69.72\n",
      "-----------------------------------------------------------------------------------------\n",
      "| end of epoch  16 | time: 78.58s | valid loss  4.73 | valid ppl   113.50\n",
      "-----------------------------------------------------------------------------------------\n",
      "| epoch  17 |   200/ 2983 batches | lr 5.00 | ms/batch 25.54 | loss  4.34 | ppl    76.57\n",
      "| epoch  17 |   400/ 2983 batches | lr 5.00 | ms/batch 25.37 | loss  4.36 | ppl    78.23\n",
      "| epoch  17 |   600/ 2983 batches | lr 5.00 | ms/batch 25.41 | loss  4.20 | ppl    66.65\n",
      "| epoch  17 |   800/ 2983 batches | lr 5.00 | ms/batch 25.38 | loss  4.25 | ppl    70.30\n",
      "| epoch  17 |  1000/ 2983 batches | lr 5.00 | ms/batch 25.45 | loss  4.28 | ppl    72.09\n",
      "| epoch  17 |  1200/ 2983 batches | lr 5.00 | ms/batch 25.40 | loss  4.28 | ppl    72.16\n",
      "| epoch  17 |  1400/ 2983 batches | lr 5.00 | ms/batch 25.42 | loss  4.32 | ppl    74.96\n",
      "| epoch  17 |  1600/ 2983 batches | lr 5.00 | ms/batch 25.41 | loss  4.39 | ppl    80.74\n"
     ]
    },
    {
     "name": "stdout",
     "output_type": "stream",
     "text": [
      "| epoch  17 |  1800/ 2983 batches | lr 5.00 | ms/batch 25.41 | loss  4.29 | ppl    72.67\n",
      "| epoch  17 |  2000/ 2983 batches | lr 5.00 | ms/batch 25.40 | loss  4.33 | ppl    75.85\n",
      "| epoch  17 |  2200/ 2983 batches | lr 5.00 | ms/batch 25.38 | loss  4.21 | ppl    67.27\n",
      "| epoch  17 |  2400/ 2983 batches | lr 5.00 | ms/batch 25.38 | loss  4.25 | ppl    69.93\n",
      "| epoch  17 |  2600/ 2983 batches | lr 5.00 | ms/batch 25.41 | loss  4.28 | ppl    72.47\n",
      "| epoch  17 |  2800/ 2983 batches | lr 5.00 | ms/batch 25.41 | loss  4.23 | ppl    68.40\n",
      "-----------------------------------------------------------------------------------------\n",
      "| end of epoch  17 | time: 78.55s | valid loss  4.73 | valid ppl   113.63\n",
      "-----------------------------------------------------------------------------------------\n",
      "| epoch  18 |   200/ 2983 batches | lr 1.25 | ms/batch 25.71 | loss  4.36 | ppl    77.99\n",
      "| epoch  18 |   400/ 2983 batches | lr 1.25 | ms/batch 25.37 | loss  4.38 | ppl    80.14\n",
      "| epoch  18 |   600/ 2983 batches | lr 1.25 | ms/batch 25.35 | loss  4.22 | ppl    67.94\n",
      "| epoch  18 |   800/ 2983 batches | lr 1.25 | ms/batch 25.35 | loss  4.28 | ppl    72.29\n",
      "| epoch  18 |  1000/ 2983 batches | lr 1.25 | ms/batch 25.35 | loss  4.28 | ppl    72.52\n",
      "| epoch  18 |  1200/ 2983 batches | lr 1.25 | ms/batch 25.36 | loss  4.28 | ppl    72.51\n",
      "| epoch  18 |  1400/ 2983 batches | lr 1.25 | ms/batch 25.35 | loss  4.31 | ppl    74.43\n",
      "| epoch  18 |  1600/ 2983 batches | lr 1.25 | ms/batch 25.39 | loss  4.37 | ppl    78.98\n",
      "| epoch  18 |  1800/ 2983 batches | lr 1.25 | ms/batch 25.36 | loss  4.26 | ppl    70.96\n",
      "| epoch  18 |  2000/ 2983 batches | lr 1.25 | ms/batch 25.34 | loss  4.30 | ppl    73.71\n",
      "| epoch  18 |  2200/ 2983 batches | lr 1.25 | ms/batch 25.33 | loss  4.17 | ppl    64.66\n",
      "| epoch  18 |  2400/ 2983 batches | lr 1.25 | ms/batch 25.36 | loss  4.20 | ppl    66.95\n",
      "| epoch  18 |  2600/ 2983 batches | lr 1.25 | ms/batch 25.33 | loss  4.23 | ppl    68.92\n",
      "| epoch  18 |  2800/ 2983 batches | lr 1.25 | ms/batch 25.37 | loss  4.17 | ppl    64.45\n",
      "-----------------------------------------------------------------------------------------\n",
      "| end of epoch  18 | time: 78.41s | valid loss  4.69 | valid ppl   109.06\n",
      "-----------------------------------------------------------------------------------------\n",
      "| epoch  19 |   200/ 2983 batches | lr 1.25 | ms/batch 25.51 | loss  4.32 | ppl    75.10\n",
      "| epoch  19 |   400/ 2983 batches | lr 1.25 | ms/batch 25.43 | loss  4.35 | ppl    77.45\n",
      "| epoch  19 |   600/ 2983 batches | lr 1.25 | ms/batch 25.41 | loss  4.19 | ppl    65.71\n",
      "| epoch  19 |   800/ 2983 batches | lr 1.25 | ms/batch 25.43 | loss  4.25 | ppl    69.97\n",
      "| epoch  19 |  1000/ 2983 batches | lr 1.25 | ms/batch 25.60 | loss  4.26 | ppl    70.53\n",
      "| epoch  19 |  1200/ 2983 batches | lr 1.25 | ms/batch 25.42 | loss  4.26 | ppl    70.93\n",
      "| epoch  19 |  1400/ 2983 batches | lr 1.25 | ms/batch 25.41 | loss  4.29 | ppl    72.78\n",
      "| epoch  19 |  1600/ 2983 batches | lr 1.25 | ms/batch 27.73 | loss  4.35 | ppl    77.53\n",
      "| epoch  19 |  1800/ 2983 batches | lr 1.25 | ms/batch 26.13 | loss  4.25 | ppl    69.83\n",
      "| epoch  19 |  2000/ 2983 batches | lr 1.25 | ms/batch 25.46 | loss  4.29 | ppl    72.79\n",
      "| epoch  19 |  2200/ 2983 batches | lr 1.25 | ms/batch 25.62 | loss  4.16 | ppl    64.00\n",
      "| epoch  19 |  2400/ 2983 batches | lr 1.25 | ms/batch 25.59 | loss  4.20 | ppl    66.81\n",
      "| epoch  19 |  2600/ 2983 batches | lr 1.25 | ms/batch 25.57 | loss  4.23 | ppl    68.78\n",
      "| epoch  19 |  2800/ 2983 batches | lr 1.25 | ms/batch 25.82 | loss  4.17 | ppl    64.42\n",
      "-----------------------------------------------------------------------------------------\n",
      "| end of epoch  19 | time: 79.43s | valid loss  4.69 | valid ppl   108.77\n",
      "-----------------------------------------------------------------------------------------\n",
      "| epoch  20 |   200/ 2983 batches | lr 1.25 | ms/batch 25.72 | loss  4.31 | ppl    74.13\n",
      "| epoch  20 |   400/ 2983 batches | lr 1.25 | ms/batch 25.60 | loss  4.34 | ppl    76.41\n",
      "| epoch  20 |   600/ 2983 batches | lr 1.25 | ms/batch 25.50 | loss  4.17 | ppl    64.62\n",
      "| epoch  20 |   800/ 2983 batches | lr 1.25 | ms/batch 25.55 | loss  4.23 | ppl    69.00\n",
      "| epoch  20 |  1000/ 2983 batches | lr 1.25 | ms/batch 25.57 | loss  4.24 | ppl    69.50\n",
      "| epoch  20 |  1200/ 2983 batches | lr 1.25 | ms/batch 25.54 | loss  4.25 | ppl    70.22\n",
      "| epoch  20 |  1400/ 2983 batches | lr 1.25 | ms/batch 25.66 | loss  4.28 | ppl    71.98\n",
      "| epoch  20 |  1600/ 2983 batches | lr 1.25 | ms/batch 25.67 | loss  4.34 | ppl    76.73\n",
      "| epoch  20 |  1800/ 2983 batches | lr 1.25 | ms/batch 25.68 | loss  4.24 | ppl    69.40\n",
      "| epoch  20 |  2000/ 2983 batches | lr 1.25 | ms/batch 25.59 | loss  4.28 | ppl    72.13\n",
      "| epoch  20 |  2200/ 2983 batches | lr 1.25 | ms/batch 26.29 | loss  4.15 | ppl    63.60\n",
      "| epoch  20 |  2400/ 2983 batches | lr 1.25 | ms/batch 25.67 | loss  4.20 | ppl    66.36\n",
      "| epoch  20 |  2600/ 2983 batches | lr 1.25 | ms/batch 25.71 | loss  4.23 | ppl    68.51\n",
      "| epoch  20 |  2800/ 2983 batches | lr 1.25 | ms/batch 26.31 | loss  4.17 | ppl    64.62\n",
      "-----------------------------------------------------------------------------------------\n",
      "| end of epoch  20 | time: 80.32s | valid loss  4.69 | valid ppl   108.33\n",
      "-----------------------------------------------------------------------------------------\n",
      "| epoch  21 |   200/ 2983 batches | lr 1.25 | ms/batch 27.88 | loss  4.30 | ppl    73.44\n",
      "| epoch  21 |   400/ 2983 batches | lr 1.25 | ms/batch 28.98 | loss  4.33 | ppl    75.73\n",
      "| epoch  21 |   600/ 2983 batches | lr 1.25 | ms/batch 27.83 | loss  4.16 | ppl    63.90\n",
      "| epoch  21 |   800/ 2983 batches | lr 1.25 | ms/batch 29.10 | loss  4.22 | ppl    68.13\n",
      "| epoch  21 |  1000/ 2983 batches | lr 1.25 | ms/batch 27.11 | loss  4.23 | ppl    68.87\n",
      "| epoch  21 |  1200/ 2983 batches | lr 1.25 | ms/batch 26.94 | loss  4.24 | ppl    69.23\n",
      "| epoch  21 |  1400/ 2983 batches | lr 1.25 | ms/batch 27.75 | loss  4.27 | ppl    71.49\n",
      "| epoch  21 |  1600/ 2983 batches | lr 1.25 | ms/batch 26.47 | loss  4.33 | ppl    76.27\n",
      "| epoch  21 |  1800/ 2983 batches | lr 1.25 | ms/batch 28.23 | loss  4.23 | ppl    68.81\n",
      "| epoch  21 |  2000/ 2983 batches | lr 1.25 | ms/batch 27.75 | loss  4.27 | ppl    71.64\n",
      "| epoch  21 |  2200/ 2983 batches | lr 1.25 | ms/batch 26.76 | loss  4.15 | ppl    63.33\n",
      "| epoch  21 |  2400/ 2983 batches | lr 1.25 | ms/batch 26.50 | loss  4.19 | ppl    66.11\n",
      "| epoch  21 |  2600/ 2983 batches | lr 1.25 | ms/batch 26.80 | loss  4.22 | ppl    68.27\n",
      "| epoch  21 |  2800/ 2983 batches | lr 1.25 | ms/batch 26.35 | loss  4.16 | ppl    64.21\n",
      "-----------------------------------------------------------------------------------------\n",
      "| end of epoch  21 | time: 84.54s | valid loss  4.68 | valid ppl   108.11\n",
      "-----------------------------------------------------------------------------------------\n",
      "| epoch  22 |   200/ 2983 batches | lr 1.25 | ms/batch 26.11 | loss  4.29 | ppl    72.80\n",
      "| epoch  22 |   400/ 2983 batches | lr 1.25 | ms/batch 26.28 | loss  4.32 | ppl    75.08\n",
      "| epoch  22 |   600/ 2983 batches | lr 1.25 | ms/batch 25.72 | loss  4.15 | ppl    63.42\n",
      "| epoch  22 |   800/ 2983 batches | lr 1.25 | ms/batch 25.58 | loss  4.21 | ppl    67.55\n",
      "| epoch  22 |  1000/ 2983 batches | lr 1.25 | ms/batch 25.55 | loss  4.23 | ppl    68.71\n",
      "| epoch  22 |  1200/ 2983 batches | lr 1.25 | ms/batch 25.56 | loss  4.23 | ppl    68.91\n",
      "| epoch  22 |  1400/ 2983 batches | lr 1.25 | ms/batch 25.69 | loss  4.27 | ppl    71.26\n",
      "| epoch  22 |  1600/ 2983 batches | lr 1.25 | ms/batch 25.57 | loss  4.33 | ppl    75.76\n",
      "| epoch  22 |  1800/ 2983 batches | lr 1.25 | ms/batch 25.45 | loss  4.23 | ppl    68.49\n",
      "| epoch  22 |  2000/ 2983 batches | lr 1.25 | ms/batch 26.35 | loss  4.27 | ppl    71.22\n",
      "| epoch  22 |  2200/ 2983 batches | lr 1.25 | ms/batch 27.47 | loss  4.14 | ppl    62.93\n",
      "| epoch  22 |  2400/ 2983 batches | lr 1.25 | ms/batch 26.48 | loss  4.18 | ppl    65.57\n",
      "| epoch  22 |  2600/ 2983 batches | lr 1.25 | ms/batch 26.98 | loss  4.22 | ppl    68.19\n",
      "| epoch  22 |  2800/ 2983 batches | lr 1.25 | ms/batch 25.46 | loss  4.16 | ppl    64.13\n",
      "-----------------------------------------------------------------------------------------\n",
      "| end of epoch  22 | time: 80.41s | valid loss  4.68 | valid ppl   108.02\n",
      "-----------------------------------------------------------------------------------------\n"
     ]
    },
    {
     "name": "stdout",
     "output_type": "stream",
     "text": [
      "| epoch  23 |   200/ 2983 batches | lr 1.25 | ms/batch 25.75 | loss  4.28 | ppl    72.29\n",
      "| epoch  23 |   400/ 2983 batches | lr 1.25 | ms/batch 26.58 | loss  4.31 | ppl    74.64\n",
      "| epoch  23 |   600/ 2983 batches | lr 1.25 | ms/batch 27.14 | loss  4.15 | ppl    63.25\n",
      "| epoch  23 |   800/ 2983 batches | lr 1.25 | ms/batch 27.18 | loss  4.20 | ppl    66.73\n",
      "| epoch  23 |  1000/ 2983 batches | lr 1.25 | ms/batch 27.17 | loss  4.22 | ppl    68.00\n",
      "| epoch  23 |  1200/ 2983 batches | lr 1.25 | ms/batch 26.65 | loss  4.23 | ppl    68.51\n",
      "| epoch  23 |  1400/ 2983 batches | lr 1.25 | ms/batch 26.50 | loss  4.26 | ppl    70.93\n",
      "| epoch  23 |  1600/ 2983 batches | lr 1.25 | ms/batch 25.97 | loss  4.32 | ppl    75.52\n",
      "| epoch  23 |  1800/ 2983 batches | lr 1.25 | ms/batch 26.29 | loss  4.22 | ppl    68.13\n",
      "| epoch  23 |  2000/ 2983 batches | lr 1.25 | ms/batch 25.94 | loss  4.26 | ppl    70.90\n",
      "| epoch  23 |  2200/ 2983 batches | lr 1.25 | ms/batch 25.42 | loss  4.14 | ppl    62.66\n",
      "| epoch  23 |  2400/ 2983 batches | lr 1.25 | ms/batch 25.39 | loss  4.18 | ppl    65.26\n",
      "| epoch  23 |  2600/ 2983 batches | lr 1.25 | ms/batch 25.87 | loss  4.22 | ppl    67.84\n",
      "| epoch  23 |  2800/ 2983 batches | lr 1.25 | ms/batch 28.58 | loss  4.16 | ppl    64.00\n",
      "-----------------------------------------------------------------------------------------\n",
      "| end of epoch  23 | time: 82.10s | valid loss  4.68 | valid ppl   107.79\n",
      "-----------------------------------------------------------------------------------------\n",
      "| epoch  24 |   200/ 2983 batches | lr 1.25 | ms/batch 26.06 | loss  4.27 | ppl    71.46\n",
      "| epoch  24 |   400/ 2983 batches | lr 1.25 | ms/batch 27.11 | loss  4.30 | ppl    74.02\n",
      "| epoch  24 |   600/ 2983 batches | lr 1.25 | ms/batch 25.70 | loss  4.14 | ppl    62.59\n",
      "| epoch  24 |   800/ 2983 batches | lr 1.25 | ms/batch 25.68 | loss  4.20 | ppl    66.83\n",
      "| epoch  24 |  1000/ 2983 batches | lr 1.25 | ms/batch 25.63 | loss  4.21 | ppl    67.62\n",
      "| epoch  24 |  1200/ 2983 batches | lr 1.25 | ms/batch 25.68 | loss  4.22 | ppl    68.29\n",
      "| epoch  24 |  1400/ 2983 batches | lr 1.25 | ms/batch 25.65 | loss  4.25 | ppl    70.19\n",
      "| epoch  24 |  1600/ 2983 batches | lr 1.25 | ms/batch 25.86 | loss  4.32 | ppl    75.03\n",
      "| epoch  24 |  1800/ 2983 batches | lr 1.25 | ms/batch 25.72 | loss  4.22 | ppl    67.77\n",
      "| epoch  24 |  2000/ 2983 batches | lr 1.25 | ms/batch 25.42 | loss  4.26 | ppl    70.79\n",
      "| epoch  24 |  2200/ 2983 batches | lr 1.25 | ms/batch 25.37 | loss  4.13 | ppl    62.37\n",
      "| epoch  24 |  2400/ 2983 batches | lr 1.25 | ms/batch 25.38 | loss  4.18 | ppl    65.33\n",
      "| epoch  24 |  2600/ 2983 batches | lr 1.25 | ms/batch 25.44 | loss  4.21 | ppl    67.53\n",
      "| epoch  24 |  2800/ 2983 batches | lr 1.25 | ms/batch 25.61 | loss  4.15 | ppl    63.47\n",
      "-----------------------------------------------------------------------------------------\n",
      "| end of epoch  24 | time: 79.40s | valid loss  4.68 | valid ppl   107.61\n",
      "-----------------------------------------------------------------------------------------\n",
      "| epoch  25 |   200/ 2983 batches | lr 1.25 | ms/batch 25.47 | loss  4.27 | ppl    71.33\n",
      "| epoch  25 |   400/ 2983 batches | lr 1.25 | ms/batch 25.37 | loss  4.30 | ppl    73.77\n",
      "| epoch  25 |   600/ 2983 batches | lr 1.25 | ms/batch 26.13 | loss  4.13 | ppl    62.37\n",
      "| epoch  25 |   800/ 2983 batches | lr 1.25 | ms/batch 27.65 | loss  4.19 | ppl    66.14\n",
      "| epoch  25 |  1000/ 2983 batches | lr 1.25 | ms/batch 26.10 | loss  4.21 | ppl    67.19\n",
      "| epoch  25 |  1200/ 2983 batches | lr 1.25 | ms/batch 25.68 | loss  4.21 | ppl    67.67\n",
      "| epoch  25 |  1400/ 2983 batches | lr 1.25 | ms/batch 25.55 | loss  4.25 | ppl    70.01\n",
      "| epoch  25 |  1600/ 2983 batches | lr 1.25 | ms/batch 25.81 | loss  4.31 | ppl    74.72\n",
      "| epoch  25 |  1800/ 2983 batches | lr 1.25 | ms/batch 25.98 | loss  4.21 | ppl    67.41\n",
      "| epoch  25 |  2000/ 2983 batches | lr 1.25 | ms/batch 25.73 | loss  4.25 | ppl    70.44\n",
      "| epoch  25 |  2200/ 2983 batches | lr 1.25 | ms/batch 25.83 | loss  4.13 | ppl    62.17\n",
      "| epoch  25 |  2400/ 2983 batches | lr 1.25 | ms/batch 27.14 | loss  4.17 | ppl    65.01\n",
      "| epoch  25 |  2600/ 2983 batches | lr 1.25 | ms/batch 26.77 | loss  4.21 | ppl    67.50\n",
      "| epoch  25 |  2800/ 2983 batches | lr 1.25 | ms/batch 25.34 | loss  4.15 | ppl    63.26\n",
      "-----------------------------------------------------------------------------------------\n",
      "| end of epoch  25 | time: 80.32s | valid loss  4.68 | valid ppl   107.42\n",
      "-----------------------------------------------------------------------------------------\n",
      "| epoch  26 |   200/ 2983 batches | lr 1.25 | ms/batch 25.73 | loss  4.26 | ppl    70.60\n",
      "| epoch  26 |   400/ 2983 batches | lr 1.25 | ms/batch 26.20 | loss  4.29 | ppl    73.26\n",
      "| epoch  26 |   600/ 2983 batches | lr 1.25 | ms/batch 28.39 | loss  4.13 | ppl    61.96\n",
      "| epoch  26 |   800/ 2983 batches | lr 1.25 | ms/batch 27.83 | loss  4.19 | ppl    66.07\n",
      "| epoch  26 |  1000/ 2983 batches | lr 1.25 | ms/batch 26.16 | loss  4.20 | ppl    66.88\n",
      "| epoch  26 |  1200/ 2983 batches | lr 1.25 | ms/batch 25.53 | loss  4.21 | ppl    67.43\n",
      "| epoch  26 |  1400/ 2983 batches | lr 1.25 | ms/batch 26.53 | loss  4.25 | ppl    69.79\n",
      "| epoch  26 |  1600/ 2983 batches | lr 1.25 | ms/batch 27.58 | loss  4.31 | ppl    74.39\n",
      "| epoch  26 |  1800/ 2983 batches | lr 1.25 | ms/batch 28.54 | loss  4.21 | ppl    67.05\n",
      "| epoch  26 |  2000/ 2983 batches | lr 1.25 | ms/batch 25.86 | loss  4.25 | ppl    70.16\n",
      "| epoch  26 |  2200/ 2983 batches | lr 1.25 | ms/batch 25.94 | loss  4.13 | ppl    62.15\n",
      "| epoch  26 |  2400/ 2983 batches | lr 1.25 | ms/batch 26.24 | loss  4.17 | ppl    64.63\n",
      "| epoch  26 |  2600/ 2983 batches | lr 1.25 | ms/batch 26.13 | loss  4.21 | ppl    67.42\n",
      "| epoch  26 |  2800/ 2983 batches | lr 1.25 | ms/batch 27.57 | loss  4.15 | ppl    63.34\n",
      "-----------------------------------------------------------------------------------------\n",
      "| end of epoch  26 | time: 82.87s | valid loss  4.68 | valid ppl   107.50\n",
      "-----------------------------------------------------------------------------------------\n",
      "| epoch  27 |   200/ 2983 batches | lr 0.31 | ms/batch 27.34 | loss  4.27 | ppl    71.72\n",
      "| epoch  27 |   400/ 2983 batches | lr 0.31 | ms/batch 26.00 | loss  4.31 | ppl    74.76\n",
      "| epoch  27 |   600/ 2983 batches | lr 0.31 | ms/batch 26.85 | loss  4.15 | ppl    63.14\n",
      "| epoch  27 |   800/ 2983 batches | lr 0.31 | ms/batch 25.68 | loss  4.22 | ppl    67.82\n",
      "| epoch  27 |  1000/ 2983 batches | lr 0.31 | ms/batch 25.44 | loss  4.22 | ppl    67.94\n",
      "| epoch  27 |  1200/ 2983 batches | lr 0.31 | ms/batch 25.41 | loss  4.23 | ppl    68.46\n",
      "| epoch  27 |  1400/ 2983 batches | lr 0.31 | ms/batch 25.48 | loss  4.25 | ppl    70.40\n",
      "| epoch  27 |  1600/ 2983 batches | lr 0.31 | ms/batch 25.41 | loss  4.31 | ppl    74.65\n",
      "| epoch  27 |  1800/ 2983 batches | lr 0.31 | ms/batch 25.43 | loss  4.21 | ppl    67.55\n",
      "| epoch  27 |  2000/ 2983 batches | lr 0.31 | ms/batch 25.45 | loss  4.24 | ppl    69.71\n",
      "| epoch  27 |  2200/ 2983 batches | lr 0.31 | ms/batch 25.49 | loss  4.12 | ppl    61.62\n",
      "| epoch  27 |  2400/ 2983 batches | lr 0.31 | ms/batch 25.57 | loss  4.16 | ppl    63.89\n",
      "| epoch  27 |  2600/ 2983 batches | lr 0.31 | ms/batch 25.57 | loss  4.20 | ppl    66.55\n",
      "| epoch  27 |  2800/ 2983 batches | lr 0.31 | ms/batch 25.59 | loss  4.13 | ppl    62.08\n",
      "-----------------------------------------------------------------------------------------\n",
      "| end of epoch  27 | time: 79.59s | valid loss  4.66 | valid ppl   106.06\n",
      "-----------------------------------------------------------------------------------------\n",
      "| epoch  28 |   200/ 2983 batches | lr 0.31 | ms/batch 25.61 | loss  4.27 | ppl    71.25\n",
      "| epoch  28 |   400/ 2983 batches | lr 0.31 | ms/batch 26.11 | loss  4.30 | ppl    73.83\n",
      "| epoch  28 |   600/ 2983 batches | lr 0.31 | ms/batch 25.56 | loss  4.13 | ppl    62.24\n",
      "| epoch  28 |   800/ 2983 batches | lr 0.31 | ms/batch 25.44 | loss  4.20 | ppl    66.93\n",
      "| epoch  28 |  1000/ 2983 batches | lr 0.31 | ms/batch 25.41 | loss  4.21 | ppl    67.26\n",
      "| epoch  28 |  1200/ 2983 batches | lr 0.31 | ms/batch 25.41 | loss  4.21 | ppl    67.60\n",
      "| epoch  28 |  1400/ 2983 batches | lr 0.31 | ms/batch 25.41 | loss  4.24 | ppl    69.73\n",
      "| epoch  28 |  1600/ 2983 batches | lr 0.31 | ms/batch 25.42 | loss  4.31 | ppl    74.12\n"
     ]
    },
    {
     "name": "stdout",
     "output_type": "stream",
     "text": [
      "| epoch  28 |  1800/ 2983 batches | lr 0.31 | ms/batch 25.40 | loss  4.20 | ppl    66.93\n",
      "| epoch  28 |  2000/ 2983 batches | lr 0.31 | ms/batch 25.42 | loss  4.24 | ppl    69.50\n",
      "| epoch  28 |  2200/ 2983 batches | lr 0.31 | ms/batch 25.76 | loss  4.12 | ppl    61.57\n",
      "| epoch  28 |  2400/ 2983 batches | lr 0.31 | ms/batch 25.43 | loss  4.16 | ppl    63.81\n",
      "| epoch  28 |  2600/ 2983 batches | lr 0.31 | ms/batch 26.03 | loss  4.20 | ppl    66.44\n",
      "| epoch  28 |  2800/ 2983 batches | lr 0.31 | ms/batch 25.67 | loss  4.13 | ppl    61.93\n",
      "-----------------------------------------------------------------------------------------\n",
      "| end of epoch  28 | time: 79.23s | valid loss  4.66 | valid ppl   105.98\n",
      "-----------------------------------------------------------------------------------------\n",
      "| epoch  29 |   200/ 2983 batches | lr 0.31 | ms/batch 25.87 | loss  4.27 | ppl    71.23\n",
      "| epoch  29 |   400/ 2983 batches | lr 0.31 | ms/batch 27.26 | loss  4.30 | ppl    73.48\n",
      "| epoch  29 |   600/ 2983 batches | lr 0.31 | ms/batch 26.81 | loss  4.13 | ppl    61.88\n",
      "| epoch  29 |   800/ 2983 batches | lr 0.31 | ms/batch 25.44 | loss  4.20 | ppl    66.61\n",
      "| epoch  29 |  1000/ 2983 batches | lr 0.31 | ms/batch 25.46 | loss  4.21 | ppl    67.12\n",
      "| epoch  29 |  1200/ 2983 batches | lr 0.31 | ms/batch 25.44 | loss  4.21 | ppl    67.41\n",
      "| epoch  29 |  1400/ 2983 batches | lr 0.31 | ms/batch 26.58 | loss  4.24 | ppl    69.52\n",
      "| epoch  29 |  1600/ 2983 batches | lr 0.31 | ms/batch 27.82 | loss  4.30 | ppl    74.03\n",
      "| epoch  29 |  1800/ 2983 batches | lr 0.31 | ms/batch 25.47 | loss  4.20 | ppl    66.96\n",
      "| epoch  29 |  2000/ 2983 batches | lr 0.31 | ms/batch 26.76 | loss  4.24 | ppl    69.70\n",
      "| epoch  29 |  2200/ 2983 batches | lr 0.31 | ms/batch 26.88 | loss  4.12 | ppl    61.30\n",
      "| epoch  29 |  2400/ 2983 batches | lr 0.31 | ms/batch 26.24 | loss  4.16 | ppl    63.78\n",
      "| epoch  29 |  2600/ 2983 batches | lr 0.31 | ms/batch 27.58 | loss  4.19 | ppl    66.15\n",
      "| epoch  29 |  2800/ 2983 batches | lr 0.31 | ms/batch 28.31 | loss  4.13 | ppl    62.19\n",
      "-----------------------------------------------------------------------------------------\n",
      "| end of epoch  29 | time: 82.31s | valid loss  4.66 | valid ppl   105.94\n",
      "-----------------------------------------------------------------------------------------\n",
      "| epoch  30 |   200/ 2983 batches | lr 0.31 | ms/batch 28.86 | loss  4.26 | ppl    70.68\n",
      "| epoch  30 |   400/ 2983 batches | lr 0.31 | ms/batch 28.22 | loss  4.30 | ppl    73.48\n",
      "| epoch  30 |   600/ 2983 batches | lr 0.31 | ms/batch 28.03 | loss  4.12 | ppl    61.79\n",
      "| epoch  30 |   800/ 2983 batches | lr 0.31 | ms/batch 28.12 | loss  4.19 | ppl    66.24\n",
      "| epoch  30 |  1000/ 2983 batches | lr 0.31 | ms/batch 27.67 | loss  4.21 | ppl    67.09\n",
      "| epoch  30 |  1200/ 2983 batches | lr 0.31 | ms/batch 28.54 | loss  4.21 | ppl    67.04\n",
      "| epoch  30 |  1400/ 2983 batches | lr 0.31 | ms/batch 28.17 | loss  4.24 | ppl    69.54\n",
      "| epoch  30 |  1600/ 2983 batches | lr 0.31 | ms/batch 27.65 | loss  4.30 | ppl    73.84\n",
      "| epoch  30 |  1800/ 2983 batches | lr 0.31 | ms/batch 28.21 | loss  4.20 | ppl    66.53\n",
      "| epoch  30 |  2000/ 2983 batches | lr 0.31 | ms/batch 28.46 | loss  4.24 | ppl    69.48\n",
      "| epoch  30 |  2200/ 2983 batches | lr 0.31 | ms/batch 28.25 | loss  4.12 | ppl    61.56\n",
      "| epoch  30 |  2400/ 2983 batches | lr 0.31 | ms/batch 27.36 | loss  4.16 | ppl    63.93\n",
      "| epoch  30 |  2600/ 2983 batches | lr 0.31 | ms/batch 25.86 | loss  4.20 | ppl    66.39\n",
      "| epoch  30 |  2800/ 2983 batches | lr 0.31 | ms/batch 25.45 | loss  4.13 | ppl    62.05\n",
      "-----------------------------------------------------------------------------------------\n",
      "| end of epoch  30 | time: 85.14s | valid loss  4.66 | valid ppl   105.79\n",
      "-----------------------------------------------------------------------------------------\n",
      "| epoch  31 |   200/ 2983 batches | lr 0.31 | ms/batch 25.57 | loss  4.26 | ppl    70.92\n",
      "| epoch  31 |   400/ 2983 batches | lr 0.31 | ms/batch 25.40 | loss  4.29 | ppl    72.86\n",
      "| epoch  31 |   600/ 2983 batches | lr 0.31 | ms/batch 25.60 | loss  4.12 | ppl    61.65\n",
      "| epoch  31 |   800/ 2983 batches | lr 0.31 | ms/batch 25.43 | loss  4.19 | ppl    66.14\n",
      "| epoch  31 |  1000/ 2983 batches | lr 0.31 | ms/batch 25.40 | loss  4.20 | ppl    66.67\n",
      "| epoch  31 |  1200/ 2983 batches | lr 0.31 | ms/batch 25.56 | loss  4.21 | ppl    67.05\n",
      "| epoch  31 |  1400/ 2983 batches | lr 0.31 | ms/batch 25.45 | loss  4.24 | ppl    69.13\n",
      "| epoch  31 |  1600/ 2983 batches | lr 0.31 | ms/batch 25.43 | loss  4.30 | ppl    73.52\n",
      "| epoch  31 |  1800/ 2983 batches | lr 0.31 | ms/batch 25.39 | loss  4.20 | ppl    66.73\n",
      "| epoch  31 |  2000/ 2983 batches | lr 0.31 | ms/batch 25.40 | loss  4.24 | ppl    69.34\n",
      "| epoch  31 |  2200/ 2983 batches | lr 0.31 | ms/batch 25.42 | loss  4.12 | ppl    61.42\n",
      "| epoch  31 |  2400/ 2983 batches | lr 0.31 | ms/batch 25.46 | loss  4.16 | ppl    63.98\n",
      "| epoch  31 |  2600/ 2983 batches | lr 0.31 | ms/batch 25.42 | loss  4.20 | ppl    66.35\n",
      "| epoch  31 |  2800/ 2983 batches | lr 0.31 | ms/batch 25.40 | loss  4.13 | ppl    62.18\n",
      "-----------------------------------------------------------------------------------------\n",
      "| end of epoch  31 | time: 78.62s | valid loss  4.66 | valid ppl   105.82\n",
      "-----------------------------------------------------------------------------------------\n",
      "| epoch  32 |   200/ 2983 batches | lr 0.08 | ms/batch 25.48 | loss  4.26 | ppl    71.02\n",
      "| epoch  32 |   400/ 2983 batches | lr 0.08 | ms/batch 25.34 | loss  4.30 | ppl    73.65\n",
      "| epoch  32 |   600/ 2983 batches | lr 0.08 | ms/batch 25.37 | loss  4.13 | ppl    62.25\n",
      "| epoch  32 |   800/ 2983 batches | lr 0.08 | ms/batch 25.34 | loss  4.20 | ppl    66.84\n",
      "| epoch  32 |  1000/ 2983 batches | lr 0.08 | ms/batch 25.36 | loss  4.21 | ppl    67.34\n",
      "| epoch  32 |  1200/ 2983 batches | lr 0.08 | ms/batch 25.36 | loss  4.21 | ppl    67.48\n",
      "| epoch  32 |  1400/ 2983 batches | lr 0.08 | ms/batch 25.38 | loss  4.24 | ppl    69.68\n",
      "| epoch  32 |  1600/ 2983 batches | lr 0.08 | ms/batch 25.37 | loss  4.30 | ppl    73.55\n",
      "| epoch  32 |  1800/ 2983 batches | lr 0.08 | ms/batch 25.33 | loss  4.20 | ppl    66.88\n",
      "| epoch  32 |  2000/ 2983 batches | lr 0.08 | ms/batch 25.35 | loss  4.24 | ppl    69.08\n",
      "| epoch  32 |  2200/ 2983 batches | lr 0.08 | ms/batch 25.52 | loss  4.12 | ppl    61.37\n",
      "| epoch  32 |  2400/ 2983 batches | lr 0.08 | ms/batch 25.39 | loss  4.15 | ppl    63.29\n",
      "| epoch  32 |  2600/ 2983 batches | lr 0.08 | ms/batch 25.38 | loss  4.19 | ppl    65.73\n",
      "| epoch  32 |  2800/ 2983 batches | lr 0.08 | ms/batch 25.43 | loss  4.12 | ppl    61.53\n",
      "-----------------------------------------------------------------------------------------\n",
      "| end of epoch  32 | time: 78.45s | valid loss  4.66 | valid ppl   105.57\n",
      "-----------------------------------------------------------------------------------------\n",
      "| epoch  33 |   200/ 2983 batches | lr 0.08 | ms/batch 25.55 | loss  4.26 | ppl    70.77\n",
      "| epoch  33 |   400/ 2983 batches | lr 0.08 | ms/batch 25.43 | loss  4.29 | ppl    73.14\n",
      "| epoch  33 |   600/ 2983 batches | lr 0.08 | ms/batch 25.42 | loss  4.13 | ppl    61.97\n",
      "| epoch  33 |   800/ 2983 batches | lr 0.08 | ms/batch 25.42 | loss  4.19 | ppl    66.12\n",
      "| epoch  33 |  1000/ 2983 batches | lr 0.08 | ms/batch 25.43 | loss  4.20 | ppl    66.85\n",
      "| epoch  33 |  1200/ 2983 batches | lr 0.08 | ms/batch 25.45 | loss  4.21 | ppl    67.06\n",
      "| epoch  33 |  1400/ 2983 batches | lr 0.08 | ms/batch 25.41 | loss  4.24 | ppl    69.53\n",
      "| epoch  33 |  1600/ 2983 batches | lr 0.08 | ms/batch 25.44 | loss  4.30 | ppl    73.38\n",
      "| epoch  33 |  1800/ 2983 batches | lr 0.08 | ms/batch 25.41 | loss  4.20 | ppl    66.64\n",
      "| epoch  33 |  2000/ 2983 batches | lr 0.08 | ms/batch 25.44 | loss  4.24 | ppl    69.35\n",
      "| epoch  33 |  2200/ 2983 batches | lr 0.08 | ms/batch 25.41 | loss  4.11 | ppl    61.03\n",
      "| epoch  33 |  2400/ 2983 batches | lr 0.08 | ms/batch 25.40 | loss  4.15 | ppl    63.44\n",
      "| epoch  33 |  2600/ 2983 batches | lr 0.08 | ms/batch 25.43 | loss  4.19 | ppl    66.11\n",
      "| epoch  33 |  2800/ 2983 batches | lr 0.08 | ms/batch 25.40 | loss  4.12 | ppl    61.82\n",
      "-----------------------------------------------------------------------------------------\n",
      "| end of epoch  33 | time: 78.57s | valid loss  4.66 | valid ppl   105.55\n",
      "-----------------------------------------------------------------------------------------\n"
     ]
    },
    {
     "name": "stdout",
     "output_type": "stream",
     "text": [
      "| epoch  34 |   200/ 2983 batches | lr 0.08 | ms/batch 25.57 | loss  4.26 | ppl    71.09\n",
      "| epoch  34 |   400/ 2983 batches | lr 0.08 | ms/batch 25.48 | loss  4.29 | ppl    73.22\n",
      "| epoch  34 |   600/ 2983 batches | lr 0.08 | ms/batch 25.50 | loss  4.12 | ppl    61.80\n",
      "| epoch  34 |   800/ 2983 batches | lr 0.08 | ms/batch 25.63 | loss  4.19 | ppl    66.12\n",
      "| epoch  34 |  1000/ 2983 batches | lr 0.08 | ms/batch 25.44 | loss  4.20 | ppl    66.85\n",
      "| epoch  34 |  1200/ 2983 batches | lr 0.08 | ms/batch 25.50 | loss  4.21 | ppl    67.17\n",
      "| epoch  34 |  1400/ 2983 batches | lr 0.08 | ms/batch 25.67 | loss  4.24 | ppl    69.26\n",
      "| epoch  34 |  1600/ 2983 batches | lr 0.08 | ms/batch 25.59 | loss  4.30 | ppl    73.52\n",
      "| epoch  34 |  1800/ 2983 batches | lr 0.08 | ms/batch 25.61 | loss  4.20 | ppl    66.75\n",
      "| epoch  34 |  2000/ 2983 batches | lr 0.08 | ms/batch 25.51 | loss  4.24 | ppl    69.38\n",
      "| epoch  34 |  2200/ 2983 batches | lr 0.08 | ms/batch 25.64 | loss  4.11 | ppl    61.20\n",
      "| epoch  34 |  2400/ 2983 batches | lr 0.08 | ms/batch 25.63 | loss  4.15 | ppl    63.29\n",
      "| epoch  34 |  2600/ 2983 batches | lr 0.08 | ms/batch 25.65 | loss  4.19 | ppl    66.08\n",
      "| epoch  34 |  2800/ 2983 batches | lr 0.08 | ms/batch 25.70 | loss  4.13 | ppl    61.99\n",
      "-----------------------------------------------------------------------------------------\n",
      "| end of epoch  34 | time: 79.04s | valid loss  4.66 | valid ppl   105.52\n",
      "-----------------------------------------------------------------------------------------\n",
      "| epoch  35 |   200/ 2983 batches | lr 0.08 | ms/batch 25.64 | loss  4.26 | ppl    70.80\n",
      "| epoch  35 |   400/ 2983 batches | lr 0.08 | ms/batch 25.52 | loss  4.29 | ppl    73.03\n",
      "| epoch  35 |   600/ 2983 batches | lr 0.08 | ms/batch 25.48 | loss  4.12 | ppl    61.80\n",
      "| epoch  35 |   800/ 2983 batches | lr 0.08 | ms/batch 25.52 | loss  4.19 | ppl    66.07\n",
      "| epoch  35 |  1000/ 2983 batches | lr 0.08 | ms/batch 25.55 | loss  4.20 | ppl    66.68\n",
      "| epoch  35 |  1200/ 2983 batches | lr 0.08 | ms/batch 25.55 | loss  4.21 | ppl    67.09\n",
      "| epoch  35 |  1400/ 2983 batches | lr 0.08 | ms/batch 25.55 | loss  4.24 | ppl    69.33\n",
      "| epoch  35 |  1600/ 2983 batches | lr 0.08 | ms/batch 25.59 | loss  4.30 | ppl    73.35\n",
      "| epoch  35 |  1800/ 2983 batches | lr 0.08 | ms/batch 25.54 | loss  4.20 | ppl    66.52\n",
      "| epoch  35 |  2000/ 2983 batches | lr 0.08 | ms/batch 25.57 | loss  4.23 | ppl    68.87\n",
      "| epoch  35 |  2200/ 2983 batches | lr 0.08 | ms/batch 25.53 | loss  4.11 | ppl    61.18\n",
      "| epoch  35 |  2400/ 2983 batches | lr 0.08 | ms/batch 25.69 | loss  4.15 | ppl    63.38\n",
      "| epoch  35 |  2600/ 2983 batches | lr 0.08 | ms/batch 25.86 | loss  4.19 | ppl    65.91\n",
      "| epoch  35 |  2800/ 2983 batches | lr 0.08 | ms/batch 25.65 | loss  4.12 | ppl    61.65\n",
      "-----------------------------------------------------------------------------------------\n",
      "| end of epoch  35 | time: 79.08s | valid loss  4.66 | valid ppl   105.50\n",
      "-----------------------------------------------------------------------------------------\n",
      "| epoch  36 |   200/ 2983 batches | lr 0.08 | ms/batch 25.78 | loss  4.26 | ppl    70.74\n",
      "| epoch  36 |   400/ 2983 batches | lr 0.08 | ms/batch 25.61 | loss  4.29 | ppl    73.10\n",
      "| epoch  36 |   600/ 2983 batches | lr 0.08 | ms/batch 25.50 | loss  4.12 | ppl    61.58\n",
      "| epoch  36 |   800/ 2983 batches | lr 0.08 | ms/batch 25.48 | loss  4.19 | ppl    66.21\n",
      "| epoch  36 |  1000/ 2983 batches | lr 0.08 | ms/batch 25.51 | loss  4.20 | ppl    66.54\n",
      "| epoch  36 |  1200/ 2983 batches | lr 0.08 | ms/batch 25.49 | loss  4.20 | ppl    67.01\n",
      "| epoch  36 |  1400/ 2983 batches | lr 0.08 | ms/batch 25.47 | loss  4.24 | ppl    69.17\n",
      "| epoch  36 |  1600/ 2983 batches | lr 0.08 | ms/batch 25.51 | loss  4.30 | ppl    73.46\n",
      "| epoch  36 |  1800/ 2983 batches | lr 0.08 | ms/batch 25.55 | loss  4.20 | ppl    66.48\n",
      "| epoch  36 |  2000/ 2983 batches | lr 0.08 | ms/batch 25.50 | loss  4.23 | ppl    68.95\n",
      "| epoch  36 |  2200/ 2983 batches | lr 0.08 | ms/batch 25.50 | loss  4.12 | ppl    61.26\n",
      "| epoch  36 |  2400/ 2983 batches | lr 0.08 | ms/batch 25.50 | loss  4.15 | ppl    63.30\n",
      "| epoch  36 |  2600/ 2983 batches | lr 0.08 | ms/batch 25.53 | loss  4.19 | ppl    65.81\n",
      "| epoch  36 |  2800/ 2983 batches | lr 0.08 | ms/batch 25.55 | loss  4.12 | ppl    61.75\n",
      "-----------------------------------------------------------------------------------------\n",
      "| end of epoch  36 | time: 78.89s | valid loss  4.66 | valid ppl   105.49\n",
      "-----------------------------------------------------------------------------------------\n",
      "| epoch  37 |   200/ 2983 batches | lr 0.08 | ms/batch 25.59 | loss  4.26 | ppl    70.67\n",
      "| epoch  37 |   400/ 2983 batches | lr 0.08 | ms/batch 25.50 | loss  4.29 | ppl    72.96\n",
      "| epoch  37 |   600/ 2983 batches | lr 0.08 | ms/batch 25.47 | loss  4.12 | ppl    61.29\n",
      "| epoch  37 |   800/ 2983 batches | lr 0.08 | ms/batch 25.57 | loss  4.19 | ppl    66.00\n",
      "| epoch  37 |  1000/ 2983 batches | lr 0.08 | ms/batch 25.54 | loss  4.20 | ppl    66.52\n",
      "| epoch  37 |  1200/ 2983 batches | lr 0.08 | ms/batch 25.42 | loss  4.20 | ppl    67.00\n",
      "| epoch  37 |  1400/ 2983 batches | lr 0.08 | ms/batch 25.50 | loss  4.24 | ppl    69.16\n",
      "| epoch  37 |  1600/ 2983 batches | lr 0.08 | ms/batch 25.64 | loss  4.30 | ppl    73.36\n",
      "| epoch  37 |  1800/ 2983 batches | lr 0.08 | ms/batch 25.55 | loss  4.20 | ppl    66.69\n",
      "| epoch  37 |  2000/ 2983 batches | lr 0.08 | ms/batch 25.54 | loss  4.24 | ppl    69.11\n",
      "| epoch  37 |  2200/ 2983 batches | lr 0.08 | ms/batch 25.43 | loss  4.11 | ppl    61.13\n",
      "| epoch  37 |  2400/ 2983 batches | lr 0.08 | ms/batch 25.42 | loss  4.15 | ppl    63.40\n",
      "| epoch  37 |  2600/ 2983 batches | lr 0.08 | ms/batch 25.38 | loss  4.19 | ppl    66.30\n",
      "| epoch  37 |  2800/ 2983 batches | lr 0.08 | ms/batch 25.43 | loss  4.13 | ppl    61.96\n",
      "-----------------------------------------------------------------------------------------\n",
      "| end of epoch  37 | time: 78.74s | valid loss  4.66 | valid ppl   105.45\n",
      "-----------------------------------------------------------------------------------------\n",
      "| epoch  38 |   200/ 2983 batches | lr 0.08 | ms/batch 25.54 | loss  4.26 | ppl    70.59\n",
      "| epoch  38 |   400/ 2983 batches | lr 0.08 | ms/batch 25.42 | loss  4.29 | ppl    73.15\n",
      "| epoch  38 |   600/ 2983 batches | lr 0.08 | ms/batch 25.38 | loss  4.12 | ppl    61.30\n",
      "| epoch  38 |   800/ 2983 batches | lr 0.08 | ms/batch 25.38 | loss  4.19 | ppl    65.98\n",
      "| epoch  38 |  1000/ 2983 batches | lr 0.08 | ms/batch 25.53 | loss  4.20 | ppl    66.61\n",
      "| epoch  38 |  1200/ 2983 batches | lr 0.08 | ms/batch 25.45 | loss  4.20 | ppl    66.96\n",
      "| epoch  38 |  1400/ 2983 batches | lr 0.08 | ms/batch 25.40 | loss  4.24 | ppl    69.20\n",
      "| epoch  38 |  1600/ 2983 batches | lr 0.08 | ms/batch 25.41 | loss  4.30 | ppl    73.42\n",
      "| epoch  38 |  1800/ 2983 batches | lr 0.08 | ms/batch 25.38 | loss  4.20 | ppl    66.39\n",
      "| epoch  38 |  2000/ 2983 batches | lr 0.08 | ms/batch 25.40 | loss  4.23 | ppl    68.77\n",
      "| epoch  38 |  2200/ 2983 batches | lr 0.08 | ms/batch 25.43 | loss  4.11 | ppl    61.07\n",
      "| epoch  38 |  2400/ 2983 batches | lr 0.08 | ms/batch 25.51 | loss  4.15 | ppl    63.54\n",
      "| epoch  38 |  2600/ 2983 batches | lr 0.08 | ms/batch 25.44 | loss  4.19 | ppl    66.07\n",
      "| epoch  38 |  2800/ 2983 batches | lr 0.08 | ms/batch 25.38 | loss  4.12 | ppl    61.77\n",
      "-----------------------------------------------------------------------------------------\n",
      "| end of epoch  38 | time: 78.55s | valid loss  4.66 | valid ppl   105.42\n",
      "-----------------------------------------------------------------------------------------\n",
      "| epoch  39 |   200/ 2983 batches | lr 0.08 | ms/batch 25.47 | loss  4.26 | ppl    70.58\n",
      "| epoch  39 |   400/ 2983 batches | lr 0.08 | ms/batch 25.38 | loss  4.29 | ppl    73.20\n",
      "| epoch  39 |   600/ 2983 batches | lr 0.08 | ms/batch 25.47 | loss  4.12 | ppl    61.29\n",
      "| epoch  39 |   800/ 2983 batches | lr 0.08 | ms/batch 25.34 | loss  4.18 | ppl    65.57\n",
      "| epoch  39 |  1000/ 2983 batches | lr 0.08 | ms/batch 25.36 | loss  4.20 | ppl    66.56\n",
      "| epoch  39 |  1200/ 2983 batches | lr 0.08 | ms/batch 25.36 | loss  4.20 | ppl    66.70\n",
      "| epoch  39 |  1400/ 2983 batches | lr 0.08 | ms/batch 25.34 | loss  4.24 | ppl    69.07\n",
      "| epoch  39 |  1600/ 2983 batches | lr 0.08 | ms/batch 25.36 | loss  4.29 | ppl    73.15\n"
     ]
    },
    {
     "name": "stdout",
     "output_type": "stream",
     "text": [
      "| epoch  39 |  1800/ 2983 batches | lr 0.08 | ms/batch 25.34 | loss  4.20 | ppl    66.51\n",
      "| epoch  39 |  2000/ 2983 batches | lr 0.08 | ms/batch 25.34 | loss  4.24 | ppl    69.23\n",
      "| epoch  39 |  2200/ 2983 batches | lr 0.08 | ms/batch 25.34 | loss  4.12 | ppl    61.42\n",
      "| epoch  39 |  2400/ 2983 batches | lr 0.08 | ms/batch 25.35 | loss  4.15 | ppl    63.39\n",
      "| epoch  39 |  2600/ 2983 batches | lr 0.08 | ms/batch 25.36 | loss  4.19 | ppl    65.93\n",
      "| epoch  39 |  2800/ 2983 batches | lr 0.08 | ms/batch 25.36 | loss  4.12 | ppl    61.79\n",
      "-----------------------------------------------------------------------------------------\n",
      "| end of epoch  39 | time: 78.37s | valid loss  4.66 | valid ppl   105.41\n",
      "-----------------------------------------------------------------------------------------\n",
      "| epoch  40 |   200/ 2983 batches | lr 0.08 | ms/batch 25.56 | loss  4.26 | ppl    70.54\n",
      "| epoch  40 |   400/ 2983 batches | lr 0.08 | ms/batch 25.39 | loss  4.29 | ppl    73.07\n",
      "| epoch  40 |   600/ 2983 batches | lr 0.08 | ms/batch 25.40 | loss  4.12 | ppl    61.27\n",
      "| epoch  40 |   800/ 2983 batches | lr 0.08 | ms/batch 25.42 | loss  4.19 | ppl    65.71\n",
      "| epoch  40 |  1000/ 2983 batches | lr 0.08 | ms/batch 25.61 | loss  4.20 | ppl    66.58\n",
      "| epoch  40 |  1200/ 2983 batches | lr 0.08 | ms/batch 25.42 | loss  4.20 | ppl    66.75\n",
      "| epoch  40 |  1400/ 2983 batches | lr 0.08 | ms/batch 25.41 | loss  4.24 | ppl    69.12\n",
      "| epoch  40 |  1600/ 2983 batches | lr 0.08 | ms/batch 25.40 | loss  4.29 | ppl    73.29\n",
      "| epoch  40 |  1800/ 2983 batches | lr 0.08 | ms/batch 25.40 | loss  4.19 | ppl    66.20\n",
      "| epoch  40 |  2000/ 2983 batches | lr 0.08 | ms/batch 25.59 | loss  4.23 | ppl    69.02\n",
      "| epoch  40 |  2200/ 2983 batches | lr 0.08 | ms/batch 25.47 | loss  4.11 | ppl    61.20\n",
      "| epoch  40 |  2400/ 2983 batches | lr 0.08 | ms/batch 25.45 | loss  4.15 | ppl    63.39\n",
      "| epoch  40 |  2600/ 2983 batches | lr 0.08 | ms/batch 25.42 | loss  4.19 | ppl    66.02\n",
      "| epoch  40 |  2800/ 2983 batches | lr 0.08 | ms/batch 25.44 | loss  4.12 | ppl    61.75\n",
      "-----------------------------------------------------------------------------------------\n",
      "| end of epoch  40 | time: 78.63s | valid loss  4.66 | valid ppl   105.39\n",
      "-----------------------------------------------------------------------------------------\n"
     ]
    }
   ],
   "source": [
    "# Loop over epochs.\n",
    "lr = args_lr\n",
    "best_val_loss = None\n",
    "\n",
    "# At any point you can hit Ctrl + C to break out of training early.\n",
    "try:\n",
    "    for epoch in range(1, args_epochs+1):\n",
    "        epoch_start_time = time.time()\n",
    "        train()\n",
    "        val_loss = evaluate(val_data)\n",
    "        print('-' * 89)\n",
    "        print('| end of epoch {:3d} | time: {:5.2f}s | valid loss {:5.2f} | '\n",
    "                'valid ppl {:8.2f}'.format(epoch, (time.time() - epoch_start_time),\n",
    "                                           val_loss, math.exp(val_loss)))\n",
    "        print('-' * 89)\n",
    "        # Save the model if the validation loss is the best we've seen so far.\n",
    "        if not best_val_loss or val_loss < best_val_loss:\n",
    "            with open(args_save, 'wb') as f:\n",
    "                torch.save(model, f)\n",
    "            best_val_loss = val_loss\n",
    "        else:\n",
    "            # Anneal the learning rate if no improvement has been seen in the validation dataset.\n",
    "            lr /= 4.0\n",
    "except KeyboardInterrupt:\n",
    "    print('-' * 89)\n",
    "    print('Exiting from training early')"
   ]
  },
  {
   "cell_type": "code",
   "execution_count": 31,
   "metadata": {
    "scrolled": true
   },
   "outputs": [
    {
     "name": "stdout",
     "output_type": "stream",
     "text": [
      "=========================================================================================\n",
      "| End of training | test loss  4.61 | test ppl   100.09\n",
      "=========================================================================================\n"
     ]
    }
   ],
   "source": [
    "# Load the best saved model.\n",
    "with open(args_save, 'rb') as f:\n",
    "    model = torch.load(f)\n",
    "    # after load the rnn params are not a continuous chunk of memory\n",
    "    # this makes them a continuous chunk, and will speed up forward pass\n",
    "    model.rnn.flatten_parameters()\n",
    "\n",
    "# Run on test data.\n",
    "test_loss = evaluate(test_data)\n",
    "print('=' * 89)\n",
    "print('| End of training | test loss {:5.2f} | test ppl {:8.2f}'.format(\n",
    "    test_loss, math.exp(test_loss)))\n",
    "print('=' * 89)\n"
   ]
  },
  {
   "cell_type": "markdown",
   "metadata": {},
   "source": [
    "# Try to generate with this model now"
   ]
  },
  {
   "cell_type": "code",
   "execution_count": 5,
   "metadata": {},
   "outputs": [],
   "source": [
    "args_data = '../data/wikitext-2'\n",
    "args_checkpoint = './model.pt'\n",
    "args_state_dict = './model_state.pt'\n",
    "args_outf = 'generated.txt'\n",
    "args_words = 1000\n",
    "args_seed = 1234\n",
    "args_temperature = 1.0\n",
    "args_log_interval = 100"
   ]
  },
  {
   "cell_type": "code",
   "execution_count": 6,
   "metadata": {},
   "outputs": [
    {
     "name": "stdout",
     "output_type": "stream",
     "text": [
      "cpu\n"
     ]
    }
   ],
   "source": [
    "# Set the random seed manually for reproducibility.\n",
    "torch.manual_seed(args_seed)\n",
    "\n",
    "device = torch.device(\"cuda\" if torch.cuda.is_available() else \"cpu\")\n",
    "\n",
    "print(device)"
   ]
  },
  {
   "cell_type": "code",
   "execution_count": 7,
   "metadata": {},
   "outputs": [
    {
     "ename": "TypeError",
     "evalue": "__init__() missing 5 required positional arguments: 'rnn_type', 'ntoken', 'ninp', 'nhid', and 'nlayers'",
     "output_type": "error",
     "traceback": [
      "\u001b[0;31m---------------------------------------------------------------------------\u001b[0m",
      "\u001b[0;31mTypeError\u001b[0m                                 Traceback (most recent call last)",
      "\u001b[0;32m<ipython-input-7-3aa73172cf0a>\u001b[0m in \u001b[0;36m<module>\u001b[0;34m()\u001b[0m\n\u001b[1;32m      4\u001b[0m \u001b[0;31m# with open(args_checkpoint, 'rb') as f:\u001b[0m\u001b[0;34m\u001b[0m\u001b[0;34m\u001b[0m\u001b[0m\n\u001b[1;32m      5\u001b[0m \u001b[0;31m#     model = torch.load(f).to(device)\u001b[0m\u001b[0;34m\u001b[0m\u001b[0;34m\u001b[0m\u001b[0m\n\u001b[0;32m----> 6\u001b[0;31m \u001b[0mmodel\u001b[0m \u001b[0;34m=\u001b[0m \u001b[0mrnn_model\u001b[0m\u001b[0;34m.\u001b[0m\u001b[0mRNNModel\u001b[0m\u001b[0;34m(\u001b[0m\u001b[0;34m)\u001b[0m\u001b[0;34m\u001b[0m\u001b[0m\n\u001b[0m\u001b[1;32m      7\u001b[0m \u001b[0;34m\u001b[0m\u001b[0m\n",
      "\u001b[0;31mTypeError\u001b[0m: __init__() missing 5 required positional arguments: 'rnn_type', 'ntoken', 'ninp', 'nhid', and 'nlayers'"
     ]
    }
   ],
   "source": [
    "if args_temperature < 1e-3:\n",
    "    print(\"args_temperature has to be greater or equal 1e-3\")\n"
   ]
  },
  {
   "cell_type": "code",
   "execution_count": 6,
   "metadata": {},
   "outputs": [
    {
     "data": {
      "text/plain": [
       "RNNModel(\n",
       "  (drop): Dropout(p=0.2)\n",
       "  (encoder): Embedding(33278, 200)\n",
       "  (rnn): LSTM(200, 200, num_layers=2, dropout=0.2)\n",
       "  (decoder): Linear(in_features=200, out_features=33278, bias=True)\n",
       ")"
      ]
     },
     "execution_count": 6,
     "metadata": {},
     "output_type": "execute_result"
    }
   ],
   "source": []
  },
  {
   "cell_type": "code",
   "execution_count": 11,
   "metadata": {},
   "outputs": [],
   "source": [
    "corpus = data.Corpus(args_data)\n",
    "ntokens = len(corpus.dictionary)"
   ]
  },
  {
   "cell_type": "code",
   "execution_count": 12,
   "metadata": {},
   "outputs": [],
   "source": [
    "# with open(args_checkpoint, 'rb') as f:\n",
    "#     model = torch.load(f).to(device)\n",
    "ntokens = len(corpus.dictionary)\n",
    "model = rnn_model.RNNModel(args_model, ntokens, args_emsize, args_nhid, args_nlayers, args_dropout, args_tied).to(device)\n"
   ]
  },
  {
   "cell_type": "code",
   "execution_count": 13,
   "metadata": {},
   "outputs": [],
   "source": [
    "hidden = model.init_hidden(1)\n",
    "input = torch.randint(ntokens, (1, 1), dtype=torch.long).to(device)"
   ]
  },
  {
   "cell_type": "code",
   "execution_count": 14,
   "metadata": {},
   "outputs": [
    {
     "data": {
      "text/plain": [
       "RNNModel(\n",
       "  (drop): Dropout(p=0.2)\n",
       "  (encoder): Embedding(33278, 200)\n",
       "  (rnn): LSTM(200, 200, num_layers=2, dropout=0.2)\n",
       "  (decoder): Linear(in_features=200, out_features=33278, bias=True)\n",
       ")"
      ]
     },
     "execution_count": 14,
     "metadata": {},
     "output_type": "execute_result"
    }
   ],
   "source": [
    "model.eval()"
   ]
  },
  {
   "cell_type": "code",
   "execution_count": 15,
   "metadata": {},
   "outputs": [
    {
     "name": "stdout",
     "output_type": "stream",
     "text": [
      "| Generated 0/1000 words\n",
      "| Generated 200/1000 words\n",
      "| Generated 400/1000 words\n",
      "| Generated 600/1000 words\n",
      "| Generated 800/1000 words\n"
     ]
    }
   ],
   "source": [
    "with open(args_outf, 'w') as outf:\n",
    "    with torch.no_grad():  # no tracking history\n",
    "        for i in range(args_words):\n",
    "            output, hidden = model(input, hidden)\n",
    "            word_weights = output.squeeze().div(args_temperature).exp().cpu()\n",
    "            word_idx = torch.multinomial(word_weights, 1)[0]\n",
    "            input.fill_(word_idx)\n",
    "            word = corpus.dictionary.idx2word[word_idx]\n",
    "\n",
    "            outf.write(word + ('\\n' if i % 20 == 19 else ' '))\n",
    "\n",
    "            if i % args_log_interval == 0:\n",
    "                print('| Generated {}/{} words'.format(i, args_words))"
   ]
  },
  {
   "cell_type": "code",
   "execution_count": 15,
   "metadata": {},
   "outputs": [
    {
     "data": {
      "text/plain": [
       "torch.Size([33278, 200])"
      ]
     },
     "execution_count": 15,
     "metadata": {},
     "output_type": "execute_result"
    }
   ],
   "source": [
    "model.state_dict()"
   ]
  },
  {
   "cell_type": "code",
   "execution_count": 10,
   "metadata": {},
   "outputs": [],
   "source": [
    "## Save State Dictionary\n",
    "with open('model_state.pt', 'wb') as f:\n",
    "    torch.save(model.state_dict(), f)\n"
   ]
  },
  {
   "cell_type": "markdown",
   "metadata": {},
   "source": [
    "## What do the embeddings look like?"
   ]
  },
  {
   "cell_type": "code",
   "execution_count": 78,
   "metadata": {},
   "outputs": [],
   "source": [
    "import scipy\n",
    "import numpy as np\n",
    "from sklearn.manifold import TSNE\n",
    "import matplotlib.pyplot as plt"
   ]
  },
  {
   "cell_type": "code",
   "execution_count": 18,
   "metadata": {},
   "outputs": [
    {
     "data": {
      "text/plain": [
       "odict_keys(['encoder.weight', 'rnn.weight_ih_l0', 'rnn.weight_hh_l0', 'rnn.bias_ih_l0', 'rnn.bias_hh_l0', 'rnn.weight_ih_l1', 'rnn.weight_hh_l1', 'rnn.bias_ih_l1', 'rnn.bias_hh_l1', 'decoder.weight', 'decoder.bias'])"
      ]
     },
     "execution_count": 18,
     "metadata": {},
     "output_type": "execute_result"
    }
   ],
   "source": [
    "model.state_dict().keys()"
   ]
  },
  {
   "cell_type": "code",
   "execution_count": 19,
   "metadata": {},
   "outputs": [
    {
     "data": {
      "text/plain": [
       "torch.Size([33278, 200])"
      ]
     },
     "execution_count": 19,
     "metadata": {},
     "output_type": "execute_result"
    }
   ],
   "source": [
    "model.state_dict()['encoder.weight'].shape"
   ]
  },
  {
   "cell_type": "code",
   "execution_count": 21,
   "metadata": {},
   "outputs": [],
   "source": [
    "embeds = model.state_dict()['encoder.weight']"
   ]
  },
  {
   "cell_type": "code",
   "execution_count": 27,
   "metadata": {},
   "outputs": [],
   "source": [
    "embeds_factored = numpy.linalg.svd(embeds, full_matrices=False)"
   ]
  },
  {
   "cell_type": "code",
   "execution_count": 29,
   "metadata": {},
   "outputs": [
    {
     "data": {
      "text/plain": [
       "[(33278, 200), (200,), (200, 200)]"
      ]
     },
     "execution_count": 29,
     "metadata": {},
     "output_type": "execute_result"
    }
   ],
   "source": [
    "[_.shape for _ in embeds_factored]"
   ]
  },
  {
   "cell_type": "code",
   "execution_count": 38,
   "metadata": {},
   "outputs": [],
   "source": [
    "embeds_left = embeds_factored[0]"
   ]
  },
  {
   "cell_type": "code",
   "execution_count": 44,
   "metadata": {},
   "outputs": [
    {
     "data": {
      "text/plain": [
       "array([[-7.9910283e-04, -3.1548047e-03],\n",
       "       [ 1.0722986e-03,  4.3260949e-03],\n",
       "       [-2.7345107e-03,  7.4653453e-03],\n",
       "       ...,\n",
       "       [ 1.1549407e-03, -6.9848800e-05],\n",
       "       [-6.5904637e-03, -6.8776676e-04],\n",
       "       [ 3.1645244e-04, -1.2559209e-02]], dtype=float32)"
      ]
     },
     "execution_count": 44,
     "metadata": {},
     "output_type": "execute_result"
    }
   ],
   "source": [
    "embeds_left[:, :2]"
   ]
  },
  {
   "cell_type": "code",
   "execution_count": 60,
   "metadata": {},
   "outputs": [
    {
     "data": {
      "text/plain": [
       "array(['<eos>', '=', 'Valkyria', ..., 'Nests', 'flea', 'gallinae'],\n",
       "      dtype='<U20')"
      ]
     },
     "execution_count": 60,
     "metadata": {},
     "output_type": "execute_result"
    }
   ],
   "source": [
    "np.array(list(corpus.dictionary.word2idx.keys()))"
   ]
  },
  {
   "cell_type": "code",
   "execution_count": 81,
   "metadata": {},
   "outputs": [
    {
     "data": {
      "text/plain": [
       "['flour',\n",
       " 'water',\n",
       " 'coffee',\n",
       " 'driving',\n",
       " 'car',\n",
       " 'horse',\n",
       " 'chicken',\n",
       " 'cow',\n",
       " 'leg']"
      ]
     },
     "execution_count": 81,
     "metadata": {},
     "output_type": "execute_result"
    }
   ],
   "source": [
    "some_words = ['flour', 'water', 'coffee', 'driving', 'car', 'horse', 'chicken', 'cow', 'leg']\n",
    "some_words"
   ]
  },
  {
   "cell_type": "code",
   "execution_count": 82,
   "metadata": {},
   "outputs": [],
   "source": [
    "some_idxs = [corpus.dictionary.word2idx[word] for word in some_words]"
   ]
  },
  {
   "cell_type": "code",
   "execution_count": 83,
   "metadata": {},
   "outputs": [
    {
     "name": "stdout",
     "output_type": "stream",
     "text": [
      "torch.Size([9, 200])\n"
     ]
    },
    {
     "data": {
      "text/plain": [
       "array([[-0.00051434,  0.02033632,  0.09984105, ..., -0.08866936,\n",
       "         0.09270144,  0.00768542],\n",
       "       [ 0.0928671 , -0.00151284,  0.06038006, ..., -0.03915505,\n",
       "        -0.03639407, -0.0217066 ],\n",
       "       [-0.06661765,  0.02033015,  0.04945447, ...,  0.09902545,\n",
       "         0.02909804,  0.00834588],\n",
       "       ...,\n",
       "       [-0.09182034, -0.04357484, -0.00173082, ..., -0.0787205 ,\n",
       "         0.00985851, -0.06365857],\n",
       "       [ 0.0077758 ,  0.02874149,  0.04034439, ...,  0.00379293,\n",
       "        -0.00689854,  0.02133693],\n",
       "       [-0.07740116,  0.06057052, -0.09444994, ..., -0.07062232,\n",
       "        -0.05396214,  0.01295084]], dtype=float32)"
      ]
     },
     "execution_count": 83,
     "metadata": {},
     "output_type": "execute_result"
    }
   ],
   "source": [
    "print(embeds[some_idxs].shape)\n",
    "np.array(embeds[some_idxs])"
   ]
  },
  {
   "cell_type": "code",
   "execution_count": 84,
   "metadata": {},
   "outputs": [],
   "source": [
    "tsne = TSNE(n_components=2, random_state=123)\n",
    "#np.set_printoptions(suppress=True)\n",
    "Y = tsne.fit_transform(np.array(embeds[some_idxs]))\n"
   ]
  },
  {
   "cell_type": "code",
   "execution_count": 85,
   "metadata": {},
   "outputs": [
    {
     "data": {
      "image/png": "[encoded data removed]",
      "text/plain": [
       "<Figure size 432x288 with 1 Axes>"
      ]
     },
     "metadata": {},
     "output_type": "display_data"
    }
   ],
   "source": [
    "x_coords = Y[:, 0]\n",
    "y_coords = Y[:, 1]\n",
    "# display scatter plot\n",
    "plt.scatter(x_coords, y_coords)\n",
    "\n",
    "for label, x, y in zip(some_words, x_coords, y_coords):\n",
    "    plt.annotate(label, xy=(x, y), xytext=(0, 0), textcoords='offset points')\n",
    "plt.xlim(x_coords.min()+0.00005, x_coords.max()+0.00005)\n",
    "plt.ylim(y_coords.min()+0.00005, y_coords.max()+0.00005)\n",
    "plt.show()"
   ]
  },
  {
   "cell_type": "code",
   "execution_count": null,
   "metadata": {},
   "outputs": [],
   "source": []
  }
 ],
 "metadata": {
  "kernelspec": {
   "display_name": "Python 3.6.5 (breadventure)",
   "language": "python",
   "name": "breadventure"
  },
  "language_info": {
   "codemirror_mode": {
    "name": "ipython",
    "version": 3
   },
   "file_extension": ".py",
   "mimetype": "text/x-python",
   "name": "python",
   "nbconvert_exporter": "python",
   "pygments_lexer": "ipython3",
   "version": "3.6.5"
  }
 },
 "nbformat": 4,
 "nbformat_minor": 2
}
